{
 "cells": [
  {
   "cell_type": "markdown",
   "metadata": {},
   "source": [
    "# This EDA is Work in Progress !"
   ]
  },
  {
   "cell_type": "code",
   "execution_count": null,
   "metadata": {},
   "outputs": [],
   "source": []
  },
  {
   "cell_type": "markdown",
   "metadata": {},
   "source": [
    "# miRNA Biomarker for Lung Cancer Diagnostics"
   ]
  },
  {
   "cell_type": "markdown",
   "metadata": {
    "ExecuteTime": {
     "end_time": "2020-05-07T17:30:57.448960Z",
     "start_time": "2020-05-07T17:30:57.442870Z"
    }
   },
   "source": [
    "***- Selecting a test panel for patient classification -***"
   ]
  },
  {
   "cell_type": "markdown",
   "metadata": {},
   "source": [
    "Author: Dr. Patrick Neubert <br>\n",
    "eMail: patrick.neubert@t-online.de <br>\n",
    "LinkedIn: https://www.linkedin.com/in/dr-patrick-neubert-91910b111/"
   ]
  },
  {
   "cell_type": "markdown",
   "metadata": {},
   "source": [
    "## Abstract"
   ]
  },
  {
   "cell_type": "markdown",
   "metadata": {},
   "source": [
    "Lung cancer is the most prevalent cancer disease worldwide. The current standard diagnostics for lung cancer are X-ray imaging, sputum cytology and tissue samples (biopsy), which are inapplicable for early detection screenings. My project uses machine learning algorithms analyzing a panel of miRNA biomarkers in blood samples to classify patients into the groups \"lung cancer\", \"non-tumor lung disease\" and \"control\"."
   ]
  },
  {
   "cell_type": "markdown",
   "metadata": {
    "ExecuteTime": {
     "end_time": "2020-04-15T07:29:01.825441Z",
     "start_time": "2020-04-15T07:29:01.821794Z"
    }
   },
   "source": [
    "## Introduction"
   ]
  },
  {
   "cell_type": "markdown",
   "metadata": {
    "ExecuteTime": {
     "end_time": "2020-05-11T07:50:18.673174Z",
     "start_time": "2020-05-11T07:50:18.668243Z"
    }
   },
   "source": [
    "### MicroRNA (miRNA)"
   ]
  },
  {
   "cell_type": "markdown",
   "metadata": {},
   "source": [
    "MicroRNAs (miRNA) are a class of small non-protein-coding RNAs of approx. 22 nucleotides length that function as negative gene regulators on post-transcriptional level. Each miRNA may have multiple regulated target genes. These genes play key roles in many biological functions ranging from proliferation, cell cycle progression, differentiation to apoptosis and metastasis formation in vivo.\n",
    "\n",
    "Further, miRNAs can function as tumour suppressors and oncogenes suppressing the expression of important cancer-related genes. Also miRNA expression levels are frequently altered in diverse types of cancer. \n",
    "\n",
    "Expression profiling of miRNAs has been shown to be a more accurate method of classifying cancer subtypes than using the expression profiles of protein-coding genes. The differential expression of certain miRNAs in various tumours might become a powerful tool to aid in the diagnosis and treatment of cancer (Esquela-Kerscher & Slack, 2006: https://www.nature.com/articles/nrc1840.pdf)\n",
    "\n",
    " "
   ]
  },
  {
   "cell_type": "markdown",
   "metadata": {},
   "source": [
    "### Lung Cancer Diagnostics"
   ]
  },
  {
   "cell_type": "markdown",
   "metadata": {},
   "source": [
    "The current standard for the diagnosis of lung cancer are imaging tests, X-ray of the lung respectively (in some cases other imaging technologies like CT-scans are applied), sputum cytology (microscope analysis of sputum for lung cancer cells) and tissue samples (biopsy).\n",
    "\n",
    "Currently an annual screening is only carried out on people with an increased risk of lung cancer or people 55 and older who smoked heavily for many years and are otherwise healthy (https://www.mayoclinic.org/diseases-conditions/lung-cancer/diagnosis-treatment/drc-20374627).\n",
    "\n",
    "The GLOBOCAN Database 2018 estimates 2.09 Million new cases of lung cancer and 1.76 million deaths from lung cancer, which makes it the leading cancer disease worldwide (Ferlay et al., 2018: https://onlinelibrary.wiley.com/doi/epdf/10.1002/ijc.31937). When detected at earlier stages, lung cancer is often curable with a 5-year overall survival of 70% (Robinson et al., 2011: https://www.jto.org/article/S1556-0864(15)33207-X/pdf). But most lung cancers are detected at an advanced stage with occuring symptoms, which results in a poor prognosis with a 5-year overall survival of less than 5% (Siegel et al., 2012: https://acsjournals.onlinelibrary.wiley.com/doi/epdf/10.3322/caac.20138).\n",
    "\n",
    "Thats why the National Lung Screening Trial (NLST) has carried out a screening method evaluation using low-dose computed tomography (LDCT). A major concern about this screening method was its high FPR (false positive rate), which could lead to overdiagnosis and therefore to unnecessary radiation exposure, economic burden and patient anxiety (Goulart & Ramsey, 2013: https://www.ncbi.nlm.nih.gov/pmc/articles/PMC3755932/pdf/onc941.pdf).\n",
    "\n",
    "Thus, the development of a more accurate diagnosis method with a precise metric, like miRNA profiling in Liquid Biopsies are urgently needed."
   ]
  },
  {
   "cell_type": "markdown",
   "metadata": {},
   "source": [
    "### Project goal and objectives"
   ]
  },
  {
   "cell_type": "markdown",
   "metadata": {
    "ExecuteTime": {
     "end_time": "2020-05-11T09:23:14.348569Z",
     "start_time": "2020-05-11T09:23:14.333593Z"
    }
   },
   "source": [
    "This Exploratory Data Analysis (EDA) is the final project of my professional training as Data Scientist at neuefische GmbH (https://www.neuefische.de/).\n",
    "\n",
    "Hummingbird Diagnostics GmbH (https://www.hummingbird-diagnostics.com) uses liquid biopsy diagnostics (such as blood samples) to detect diseases based on highly disease-specific miRNA biomarkers. The dataset was kindly provided via neuefische GmbH and was used for developping a biochip for lung cancer diagnostics, whereby only 10-20 miRNAs need to be tested.\n",
    "\n",
    "Therefore, the goal of this EDA project is to identify the 10-20 most important biomarkers for disease classification, which achieve the best results for a chosen metric score."
   ]
  },
  {
   "cell_type": "markdown",
   "metadata": {},
   "source": [
    "## Import"
   ]
  },
  {
   "cell_type": "markdown",
   "metadata": {},
   "source": [
    "### Packages & Modules"
   ]
  },
  {
   "cell_type": "code",
   "execution_count": 5,
   "metadata": {
    "ExecuteTime": {
     "end_time": "2020-05-11T09:09:22.405064Z",
     "start_time": "2020-05-11T09:09:19.400582Z"
    }
   },
   "outputs": [
    {
     "name": "stderr",
     "output_type": "stream",
     "text": [
      "/Users/P_Neubert/Anaconda/anaconda3/envs/capstone/lib/python3.7/site-packages/sklearn/utils/deprecation.py:144: FutureWarning: The sklearn.metrics.classification module is  deprecated in version 0.22 and will be removed in version 0.24. The corresponding classes / functions should instead be imported from sklearn.metrics. Anything that cannot be imported from sklearn.metrics is now part of the private API.\n",
      "  warnings.warn(message, FutureWarning)\n"
     ]
    }
   ],
   "source": [
    "# Import all Packages & Modules\n",
    "\n",
    "# IPython\n",
    "from IPython.display import Image\n",
    "\n",
    "# mlxtend\n",
    "from mlxtend.classifier import EnsembleVoteClassifier\n",
    "from mlxtend.classifier import StackingCVClassifier\n",
    "\n",
    "# SciPy\n",
    "from scipy.stats import normaltest\n",
    "\n",
    "# sklearn\n",
    "import sklearn\n",
    "\n",
    "from sklearn.dummy import DummyClassifier\n",
    "\n",
    "from sklearn.ensemble import AdaBoostClassifier\n",
    "from sklearn.ensemble import ExtraTreesClassifier\n",
    "from sklearn.ensemble import RandomForestClassifier \n",
    "\n",
    "from sklearn.feature_selection import RFE\n",
    "\n",
    "from sklearn.linear_model import LogisticRegression \n",
    "from sklearn.linear_model import RidgeClassifier\n",
    "from sklearn.linear_model import SGDClassifier\n",
    "\n",
    "from sklearn.metrics import accuracy_score\n",
    "from sklearn.metrics import classification_report\n",
    "from sklearn.metrics import confusion_matrix\n",
    "from sklearn.metrics import confusion_matrix\n",
    "from sklearn.metrics import f1_score\n",
    "from sklearn.metrics import fbeta_score\n",
    "from sklearn.metrics import make_scorer\n",
    "from sklearn.metrics import precision_score\n",
    "from sklearn.metrics import recall_score\n",
    "from sklearn.metrics import roc_auc_score\n",
    "from sklearn.metrics import roc_curve\n",
    "\n",
    "from sklearn.model_selection import cross_val_score\n",
    "from sklearn.model_selection import cross_validate\n",
    "from sklearn.model_selection import GridSearchCV\n",
    "from sklearn.model_selection import RandomizedSearchCV\n",
    "from sklearn.model_selection import train_test_split \n",
    "\n",
    "from sklearn.naive_bayes import GaussianNB\n",
    "\n",
    "from sklearn.neighbors import KNeighborsClassifier\n",
    "\n",
    "from sklearn.preprocessing import LabelEncoder\n",
    "from sklearn.preprocessing import OrdinalEncoder\n",
    "from sklearn.preprocessing import StandardScaler\n",
    "\n",
    "from sklearn.svm import SVC\n",
    "\n",
    "from sklearn.tree import DecisionTreeClassifier\n",
    "from sklearn.tree import export_graphviz  \n",
    "\n",
    "# subprocess\n",
    "from subprocess import call\n",
    "\n",
    "# xgboost\n",
    "from xgboost import XGBClassifier\n",
    "\n",
    "# yellowbrick\n",
    "from yellowbrick.classifier import ClassPredictionError\n",
    "from yellowbrick.classifier import ConfusionMatrix\n",
    "from yellowbrick.classifier import PrecisionRecallCurve\n",
    "from yellowbrick.classifier import ROCAUC\n",
    "\n",
    "# matplotlib\n",
    "import matplotlib\n",
    "import matplotlib.pyplot as plt\n",
    "\n",
    "# missingno\n",
    "import missingno\n",
    "\n",
    "# numpy\n",
    "import numpy as np\n",
    "\n",
    "# pandas\n",
    "import pandas as pd\n",
    "\n",
    "# pickle (for saving and loading data)\n",
    "import pickle # \n",
    "\n",
    "# seaborn\n",
    "import seaborn as sns\n",
    "\n",
    "# sys (enables to exit execution of code)\n",
    "import sys"
   ]
  },
  {
   "cell_type": "markdown",
   "metadata": {},
   "source": [
    "### Functions"
   ]
  },
  {
   "cell_type": "code",
   "execution_count": 6,
   "metadata": {
    "ExecuteTime": {
     "end_time": "2020-05-11T09:09:22.424013Z",
     "start_time": "2020-05-11T09:09:22.409188Z"
    }
   },
   "outputs": [],
   "source": [
    "# Import all written Functions\n",
    "\n",
    "from functions import feature_selection\n",
    "from functions import rfe_selection\n",
    "from functions import dataframe_selection\n",
    "from functions import model_evaluation\n",
    "from functions import top_model\n",
    "from functions import multibar_plot\n",
    "from functions import random_searching\n",
    "from functions import grid_searching\n",
    "from functions import viz_summary\n",
    "from functions import feature_reduce\n",
    "from functions import score_eval\n",
    "from functions import heatmap"
   ]
  },
  {
   "cell_type": "markdown",
   "metadata": {
    "ExecuteTime": {
     "end_time": "2020-05-07T14:18:41.156197Z",
     "start_time": "2020-05-07T14:18:41.146915Z"
    }
   },
   "source": [
    "### Prerequisites"
   ]
  },
  {
   "cell_type": "code",
   "execution_count": 7,
   "metadata": {
    "ExecuteTime": {
     "end_time": "2020-05-11T09:09:22.432264Z",
     "start_time": "2020-05-11T09:09:22.427287Z"
    }
   },
   "outputs": [],
   "source": [
    "# Supress Convergence Warnings for Logistic Regression\n",
    "\n",
    "from warnings import simplefilter\n",
    "from sklearn.exceptions import ConvergenceWarning\n",
    "simplefilter(\"ignore\", category=ConvergenceWarning)"
   ]
  },
  {
   "cell_type": "code",
   "execution_count": 8,
   "metadata": {
    "ExecuteTime": {
     "end_time": "2020-05-11T09:09:22.441505Z",
     "start_time": "2020-05-11T09:09:22.436938Z"
    }
   },
   "outputs": [],
   "source": [
    "# Set random_state seed to exclude for randomness effects in the notebook\n",
    "seed=1"
   ]
  },
  {
   "cell_type": "code",
   "execution_count": 9,
   "metadata": {
    "ExecuteTime": {
     "end_time": "2020-05-11T09:09:22.781508Z",
     "start_time": "2020-05-11T09:09:22.444778Z"
    }
   },
   "outputs": [
    {
     "data": {
      "image/png": "[encoded data removed]",
      "text/plain": [
       "<Figure size 576x396 with 2 Axes>"
      ]
     },
     "metadata": {},
     "output_type": "display_data"
    }
   ],
   "source": [
    "#Define color palette fiting presentation slides\n",
    "\n",
    "# Define colors by color code\n",
    "blue_1 = '#4fbbd2'\n",
    "blue_2 = '#0085a0'\n",
    "blue_3 = '#173f6d'\n",
    "green = '#21a8a4'\n",
    "red = '#f27050'\n",
    "orange = '#ffa733'\n",
    "\n",
    "# List of colors \n",
    "colors = [blue_3, blue_2, blue_1, green, orange, red]\n",
    "\n",
    "# assign to Matplotlib colormap\n",
    "vintage = matplotlib.colors.ListedColormap(colors, name=\"vintage\", N=6)\n",
    "\n",
    "# plot Matplotlib colors\n",
    "mat = np.random.random((10,10))\n",
    "plt.imshow(mat, origin=\"lower\", cmap=vintage, interpolation='nearest')\n",
    "plt.colorbar()\n",
    "plt.show()"
   ]
  },
  {
   "cell_type": "code",
   "execution_count": 10,
   "metadata": {
    "ExecuteTime": {
     "end_time": "2020-05-11T09:09:22.927709Z",
     "start_time": "2020-05-11T09:09:22.817148Z"
    }
   },
   "outputs": [
    {
     "data": {
      "image/png": "[encoded data removed]",
      "text/plain": [
       "<Figure size 432x72 with 1 Axes>"
      ]
     },
     "metadata": {},
     "output_type": "display_data"
    }
   ],
   "source": [
    "# assign to Seaborn color palette\n",
    "current_palette = sns.color_palette(colors)\n",
    "\n",
    "# plot Seaborn colors\n",
    "sns.palplot(current_palette)\n",
    "sns.set(palette=current_palette)"
   ]
  },
  {
   "cell_type": "markdown",
   "metadata": {},
   "source": [
    "### Dataset"
   ]
  },
  {
   "cell_type": "markdown",
   "metadata": {},
   "source": [
    "The dataset was a kind gift of Hummingbird Diagnostics GmbH (https://www.hummingbird-diagnostics.com) provided by neuefische GmbH (https://www.neuefische.de/)"
   ]
  },
  {
   "cell_type": "markdown",
   "metadata": {
    "ExecuteTime": {
     "end_time": "2020-04-15T07:39:00.095155Z",
     "start_time": "2020-04-15T07:39:00.089787Z"
    }
   },
   "source": [
    "#### Overview"
   ]
  },
  {
   "cell_type": "markdown",
   "metadata": {},
   "source": [
    "| Column Name | Description | Type | Others | \n",
    "|-------------|-------------|------|--------|\n",
    "| sampleID | Sample Reference | Object | 300 Samples|\n",
    "| Group | Sample Label | Categorical | NTLD (Non-Tumour Lung-Disease),<br>LCa (Lung Cancer),<br>CON (CONtrol Group)|\n",
    "| Sex | Gender | Categorical | male or female|\n",
    "| Age | Age | Numeric | 34 - 84 |\n",
    "| Smoke | Smoker | Categorical | present,<br>past,<br>never|\n",
    "| hsa-let-7a-3p - <br>hsa-miR-99b-5p | miRNA Expression Values | Numeric | 1183 different miRNA "
   ]
  },
  {
   "cell_type": "markdown",
   "metadata": {
    "ExecuteTime": {
     "end_time": "2020-04-15T07:43:48.846977Z",
     "start_time": "2020-04-15T07:43:48.842427Z"
    }
   },
   "source": [
    "#### Loading Data and creating a Pandas Dataframe"
   ]
  },
  {
   "cell_type": "code",
   "execution_count": 27,
   "metadata": {
    "ExecuteTime": {
     "end_time": "2020-05-11T09:13:50.869855Z",
     "start_time": "2020-05-11T09:13:50.829203Z"
    }
   },
   "outputs": [
    {
     "name": "stdout",
     "output_type": "stream",
     "text": [
      "The dataframe consist of 300 rows and 5 columns.\n"
     ]
    },
    {
     "data": {
      "text/html": [
       "<div>\n",
       "<style scoped>\n",
       "    .dataframe tbody tr th:only-of-type {\n",
       "        vertical-align: middle;\n",
       "    }\n",
       "\n",
       "    .dataframe tbody tr th {\n",
       "        vertical-align: top;\n",
       "    }\n",
       "\n",
       "    .dataframe thead th {\n",
       "        text-align: right;\n",
       "    }\n",
       "</style>\n",
       "<table border=\"1\" class=\"dataframe\">\n",
       "  <thead>\n",
       "    <tr style=\"text-align: right;\">\n",
       "      <th></th>\n",
       "      <th>sampleID</th>\n",
       "      <th>Group</th>\n",
       "      <th>Sex</th>\n",
       "      <th>Age</th>\n",
       "      <th>Smoke</th>\n",
       "    </tr>\n",
       "  </thead>\n",
       "  <tbody>\n",
       "    <tr>\n",
       "      <th>0</th>\n",
       "      <td>SampleLC_1</td>\n",
       "      <td>NTLD</td>\n",
       "      <td>male</td>\n",
       "      <td>34.0</td>\n",
       "      <td>NaN</td>\n",
       "    </tr>\n",
       "    <tr>\n",
       "      <th>1</th>\n",
       "      <td>SampleLC_2</td>\n",
       "      <td>NTLD</td>\n",
       "      <td>female</td>\n",
       "      <td>35.0</td>\n",
       "      <td>NaN</td>\n",
       "    </tr>\n",
       "    <tr>\n",
       "      <th>2</th>\n",
       "      <td>SampleLC_3</td>\n",
       "      <td>NTLD</td>\n",
       "      <td>female</td>\n",
       "      <td>37.0</td>\n",
       "      <td>NaN</td>\n",
       "    </tr>\n",
       "    <tr>\n",
       "      <th>3</th>\n",
       "      <td>SampleLC_4</td>\n",
       "      <td>LCa</td>\n",
       "      <td>female</td>\n",
       "      <td>43.5</td>\n",
       "      <td>Past</td>\n",
       "    </tr>\n",
       "    <tr>\n",
       "      <th>4</th>\n",
       "      <td>SampleLC_5</td>\n",
       "      <td>NTLD</td>\n",
       "      <td>male</td>\n",
       "      <td>44.0</td>\n",
       "      <td>Present</td>\n",
       "    </tr>\n",
       "  </tbody>\n",
       "</table>\n",
       "</div>"
      ],
      "text/plain": [
       "     sampleID Group     Sex   Age    Smoke\n",
       "0  SampleLC_1  NTLD    male  34.0      NaN\n",
       "1  SampleLC_2  NTLD  female  35.0      NaN\n",
       "2  SampleLC_3  NTLD  female  37.0      NaN\n",
       "3  SampleLC_4   LCa  female  43.5     Past\n",
       "4  SampleLC_5  NTLD    male  44.0  Present"
      ]
     },
     "execution_count": 27,
     "metadata": {},
     "output_type": "execute_result"
    }
   ],
   "source": [
    "# Loading Excel-File with Annotation\n",
    "df1 = pd.read_excel('data/LC_annotation.xlsx')\n",
    "print('The dataframe consist of {} rows and {} columns.'.format(df1.shape[0], df1.shape[1]))\n",
    "df1.head()"
   ]
  },
  {
   "cell_type": "code",
   "execution_count": 28,
   "metadata": {
    "ExecuteTime": {
     "end_time": "2020-05-11T09:13:50.889175Z",
     "start_time": "2020-05-11T09:13:50.873025Z"
    }
   },
   "outputs": [
    {
     "name": "stdout",
     "output_type": "stream",
     "text": [
      "<class 'pandas.core.frame.DataFrame'>\n",
      "RangeIndex: 300 entries, 0 to 299\n",
      "Data columns (total 5 columns):\n",
      " #   Column    Non-Null Count  Dtype  \n",
      "---  ------    --------------  -----  \n",
      " 0   sampleID  300 non-null    object \n",
      " 1   Group     300 non-null    object \n",
      " 2   Sex       294 non-null    object \n",
      " 3   Age       297 non-null    float64\n",
      " 4   Smoke     247 non-null    object \n",
      "dtypes: float64(1), object(4)\n",
      "memory usage: 11.8+ KB\n"
     ]
    }
   ],
   "source": [
    "# Info about d(ata)types\n",
    "df1.info()"
   ]
  },
  {
   "cell_type": "code",
   "execution_count": 29,
   "metadata": {
    "ExecuteTime": {
     "end_time": "2020-05-11T09:13:51.023026Z",
     "start_time": "2020-05-11T09:13:50.894415Z"
    }
   },
   "outputs": [
    {
     "name": "stdout",
     "output_type": "stream",
     "text": [
      "The dataframe consist of 1183 rows and 300 columns.\n"
     ]
    },
    {
     "data": {
      "text/html": [
       "<div>\n",
       "<style scoped>\n",
       "    .dataframe tbody tr th:only-of-type {\n",
       "        vertical-align: middle;\n",
       "    }\n",
       "\n",
       "    .dataframe tbody tr th {\n",
       "        vertical-align: top;\n",
       "    }\n",
       "\n",
       "    .dataframe thead th {\n",
       "        text-align: right;\n",
       "    }\n",
       "</style>\n",
       "<table border=\"1\" class=\"dataframe\">\n",
       "  <thead>\n",
       "    <tr style=\"text-align: right;\">\n",
       "      <th></th>\n",
       "      <th>SampleLC_1</th>\n",
       "      <th>SampleLC_2</th>\n",
       "      <th>SampleLC_3</th>\n",
       "      <th>SampleLC_4</th>\n",
       "      <th>SampleLC_5</th>\n",
       "      <th>SampleLC_6</th>\n",
       "      <th>SampleLC_7</th>\n",
       "      <th>SampleLC_8</th>\n",
       "      <th>SampleLC_9</th>\n",
       "      <th>SampleLC_10</th>\n",
       "      <th>...</th>\n",
       "      <th>SampleLC_291</th>\n",
       "      <th>SampleLC_292</th>\n",
       "      <th>SampleLC_293</th>\n",
       "      <th>SampleLC_294</th>\n",
       "      <th>SampleLC_295</th>\n",
       "      <th>SampleLC_296</th>\n",
       "      <th>SampleLC_297</th>\n",
       "      <th>SampleLC_298</th>\n",
       "      <th>SampleLC_299</th>\n",
       "      <th>SampleLC_300</th>\n",
       "    </tr>\n",
       "  </thead>\n",
       "  <tbody>\n",
       "    <tr>\n",
       "      <th>hsa-let-7a-3p</th>\n",
       "      <td>10.169737</td>\n",
       "      <td>8.993866</td>\n",
       "      <td>9.221781</td>\n",
       "      <td>9.700501</td>\n",
       "      <td>6.133340</td>\n",
       "      <td>7.275606</td>\n",
       "      <td>7.449349</td>\n",
       "      <td>7.883027</td>\n",
       "      <td>5.694632</td>\n",
       "      <td>7.676339</td>\n",
       "      <td>...</td>\n",
       "      <td>10.231375</td>\n",
       "      <td>7.488037</td>\n",
       "      <td>24.502362</td>\n",
       "      <td>6.388280</td>\n",
       "      <td>7.690654</td>\n",
       "      <td>6.299681</td>\n",
       "      <td>10.355813</td>\n",
       "      <td>8.769300</td>\n",
       "      <td>7.280144</td>\n",
       "      <td>7.214706</td>\n",
       "    </tr>\n",
       "    <tr>\n",
       "      <th>hsa-let-7a-5p</th>\n",
       "      <td>5717.565532</td>\n",
       "      <td>8152.894560</td>\n",
       "      <td>9161.633060</td>\n",
       "      <td>15589.388815</td>\n",
       "      <td>23861.201568</td>\n",
       "      <td>9901.092307</td>\n",
       "      <td>9353.363102</td>\n",
       "      <td>21256.531275</td>\n",
       "      <td>40763.465605</td>\n",
       "      <td>29245.233210</td>\n",
       "      <td>...</td>\n",
       "      <td>16196.642530</td>\n",
       "      <td>700.533350</td>\n",
       "      <td>8726.485189</td>\n",
       "      <td>22803.481320</td>\n",
       "      <td>25015.375396</td>\n",
       "      <td>22466.730785</td>\n",
       "      <td>11628.542374</td>\n",
       "      <td>136769.972052</td>\n",
       "      <td>26820.547670</td>\n",
       "      <td>26597.044525</td>\n",
       "    </tr>\n",
       "    <tr>\n",
       "      <th>hsa-let-7b-3p</th>\n",
       "      <td>15.373312</td>\n",
       "      <td>14.683980</td>\n",
       "      <td>15.751940</td>\n",
       "      <td>11.411269</td>\n",
       "      <td>25.375915</td>\n",
       "      <td>9.623426</td>\n",
       "      <td>17.974963</td>\n",
       "      <td>14.870346</td>\n",
       "      <td>24.793596</td>\n",
       "      <td>18.707404</td>\n",
       "      <td>...</td>\n",
       "      <td>20.736437</td>\n",
       "      <td>17.581660</td>\n",
       "      <td>32.999253</td>\n",
       "      <td>13.348059</td>\n",
       "      <td>18.129165</td>\n",
       "      <td>22.954418</td>\n",
       "      <td>17.644106</td>\n",
       "      <td>13.651284</td>\n",
       "      <td>22.475348</td>\n",
       "      <td>25.833810</td>\n",
       "    </tr>\n",
       "    <tr>\n",
       "      <th>hsa-let-7b-5p</th>\n",
       "      <td>2888.175532</td>\n",
       "      <td>3805.584560</td>\n",
       "      <td>1262.754060</td>\n",
       "      <td>7857.315268</td>\n",
       "      <td>9886.602937</td>\n",
       "      <td>2163.823798</td>\n",
       "      <td>4105.700075</td>\n",
       "      <td>16453.774838</td>\n",
       "      <td>20718.366066</td>\n",
       "      <td>10620.324339</td>\n",
       "      <td>...</td>\n",
       "      <td>14533.701990</td>\n",
       "      <td>1972.377350</td>\n",
       "      <td>9391.409855</td>\n",
       "      <td>33118.422360</td>\n",
       "      <td>18110.775679</td>\n",
       "      <td>47644.899330</td>\n",
       "      <td>16593.222849</td>\n",
       "      <td>83604.788124</td>\n",
       "      <td>20045.890411</td>\n",
       "      <td>32703.037481</td>\n",
       "    </tr>\n",
       "    <tr>\n",
       "      <th>hsa-let-7c-5p</th>\n",
       "      <td>657.148032</td>\n",
       "      <td>906.707560</td>\n",
       "      <td>301.175060</td>\n",
       "      <td>1510.150845</td>\n",
       "      <td>2891.103594</td>\n",
       "      <td>387.774260</td>\n",
       "      <td>779.223334</td>\n",
       "      <td>4264.195792</td>\n",
       "      <td>6357.348000</td>\n",
       "      <td>2607.322331</td>\n",
       "      <td>...</td>\n",
       "      <td>2154.289849</td>\n",
       "      <td>134.971650</td>\n",
       "      <td>1263.326599</td>\n",
       "      <td>7542.868162</td>\n",
       "      <td>4076.368624</td>\n",
       "      <td>10307.480329</td>\n",
       "      <td>2191.549352</td>\n",
       "      <td>21619.300366</td>\n",
       "      <td>4307.879298</td>\n",
       "      <td>7170.643628</td>\n",
       "    </tr>\n",
       "  </tbody>\n",
       "</table>\n",
       "<p>5 rows × 300 columns</p>\n",
       "</div>"
      ],
      "text/plain": [
       "                SampleLC_1   SampleLC_2   SampleLC_3    SampleLC_4  \\\n",
       "hsa-let-7a-3p    10.169737     8.993866     9.221781      9.700501   \n",
       "hsa-let-7a-5p  5717.565532  8152.894560  9161.633060  15589.388815   \n",
       "hsa-let-7b-3p    15.373312    14.683980    15.751940     11.411269   \n",
       "hsa-let-7b-5p  2888.175532  3805.584560  1262.754060   7857.315268   \n",
       "hsa-let-7c-5p   657.148032   906.707560   301.175060   1510.150845   \n",
       "\n",
       "                 SampleLC_5   SampleLC_6   SampleLC_7    SampleLC_8  \\\n",
       "hsa-let-7a-3p      6.133340     7.275606     7.449349      7.883027   \n",
       "hsa-let-7a-5p  23861.201568  9901.092307  9353.363102  21256.531275   \n",
       "hsa-let-7b-3p     25.375915     9.623426    17.974963     14.870346   \n",
       "hsa-let-7b-5p   9886.602937  2163.823798  4105.700075  16453.774838   \n",
       "hsa-let-7c-5p   2891.103594   387.774260   779.223334   4264.195792   \n",
       "\n",
       "                 SampleLC_9   SampleLC_10  ...  SampleLC_291  SampleLC_292  \\\n",
       "hsa-let-7a-3p      5.694632      7.676339  ...     10.231375      7.488037   \n",
       "hsa-let-7a-5p  40763.465605  29245.233210  ...  16196.642530    700.533350   \n",
       "hsa-let-7b-3p     24.793596     18.707404  ...     20.736437     17.581660   \n",
       "hsa-let-7b-5p  20718.366066  10620.324339  ...  14533.701990   1972.377350   \n",
       "hsa-let-7c-5p   6357.348000   2607.322331  ...   2154.289849    134.971650   \n",
       "\n",
       "               SampleLC_293  SampleLC_294  SampleLC_295  SampleLC_296  \\\n",
       "hsa-let-7a-3p     24.502362      6.388280      7.690654      6.299681   \n",
       "hsa-let-7a-5p   8726.485189  22803.481320  25015.375396  22466.730785   \n",
       "hsa-let-7b-3p     32.999253     13.348059     18.129165     22.954418   \n",
       "hsa-let-7b-5p   9391.409855  33118.422360  18110.775679  47644.899330   \n",
       "hsa-let-7c-5p   1263.326599   7542.868162   4076.368624  10307.480329   \n",
       "\n",
       "               SampleLC_297   SampleLC_298  SampleLC_299  SampleLC_300  \n",
       "hsa-let-7a-3p     10.355813       8.769300      7.280144      7.214706  \n",
       "hsa-let-7a-5p  11628.542374  136769.972052  26820.547670  26597.044525  \n",
       "hsa-let-7b-3p     17.644106      13.651284     22.475348     25.833810  \n",
       "hsa-let-7b-5p  16593.222849   83604.788124  20045.890411  32703.037481  \n",
       "hsa-let-7c-5p   2191.549352   21619.300366   4307.879298   7170.643628  \n",
       "\n",
       "[5 rows x 300 columns]"
      ]
     },
     "execution_count": 29,
     "metadata": {},
     "output_type": "execute_result"
    }
   ],
   "source": [
    "# Loading .txt-File with miRNA-Expression Data\n",
    "df2 = pd.read_table('data/LC_data_non_log.txt')\n",
    "print('The dataframe consist of {} rows and {} columns.'.format(df2.shape[0], df2.shape[1]))\n",
    "df2.head()"
   ]
  },
  {
   "cell_type": "code",
   "execution_count": 30,
   "metadata": {
    "ExecuteTime": {
     "end_time": "2020-05-11T09:13:51.048055Z",
     "start_time": "2020-05-11T09:13:51.027972Z"
    }
   },
   "outputs": [
    {
     "name": "stdout",
     "output_type": "stream",
     "text": [
      "<class 'pandas.core.frame.DataFrame'>\n",
      "Index: 1183 entries, hsa-let-7a-3p to hsa-miR-99b-5p\n",
      "Columns: 300 entries, SampleLC_1 to SampleLC_300\n",
      "dtypes: float64(300)\n",
      "memory usage: 2.7+ MB\n"
     ]
    }
   ],
   "source": [
    "# Info about d(ata)types\n",
    "df2.info()"
   ]
  },
  {
   "cell_type": "markdown",
   "metadata": {
    "ExecuteTime": {
     "end_time": "2020-05-11T09:05:41.294928Z",
     "start_time": "2020-05-11T09:05:41.283744Z"
    }
   },
   "source": [
    "#### Joining Data"
   ]
  },
  {
   "cell_type": "code",
   "execution_count": 31,
   "metadata": {
    "ExecuteTime": {
     "end_time": "2020-05-11T09:13:51.103808Z",
     "start_time": "2020-05-11T09:13:51.051624Z"
    }
   },
   "outputs": [
    {
     "name": "stdout",
     "output_type": "stream",
     "text": [
      "The dataframe consist of 300 rows and 1188 columns.\n"
     ]
    },
    {
     "data": {
      "text/html": [
       "<div>\n",
       "<style scoped>\n",
       "    .dataframe tbody tr th:only-of-type {\n",
       "        vertical-align: middle;\n",
       "    }\n",
       "\n",
       "    .dataframe tbody tr th {\n",
       "        vertical-align: top;\n",
       "    }\n",
       "\n",
       "    .dataframe thead th {\n",
       "        text-align: right;\n",
       "    }\n",
       "</style>\n",
       "<table border=\"1\" class=\"dataframe\">\n",
       "  <thead>\n",
       "    <tr style=\"text-align: right;\">\n",
       "      <th></th>\n",
       "      <th>sampleID</th>\n",
       "      <th>Group</th>\n",
       "      <th>Sex</th>\n",
       "      <th>Age</th>\n",
       "      <th>Smoke</th>\n",
       "      <th>hsa-let-7a-3p</th>\n",
       "      <th>hsa-let-7a-5p</th>\n",
       "      <th>hsa-let-7b-3p</th>\n",
       "      <th>hsa-let-7b-5p</th>\n",
       "      <th>hsa-let-7c-5p</th>\n",
       "      <th>...</th>\n",
       "      <th>hsa-miR-943</th>\n",
       "      <th>hsa-miR-944</th>\n",
       "      <th>hsa-miR-95-3p</th>\n",
       "      <th>hsa-miR-96-3p</th>\n",
       "      <th>hsa-miR-96-5p</th>\n",
       "      <th>hsa-miR-98-5p</th>\n",
       "      <th>hsa-miR-99a-3p</th>\n",
       "      <th>hsa-miR-99a-5p</th>\n",
       "      <th>hsa-miR-99b-3p</th>\n",
       "      <th>hsa-miR-99b-5p</th>\n",
       "    </tr>\n",
       "  </thead>\n",
       "  <tbody>\n",
       "    <tr>\n",
       "      <th>0</th>\n",
       "      <td>SampleLC_1</td>\n",
       "      <td>NTLD</td>\n",
       "      <td>male</td>\n",
       "      <td>34.0</td>\n",
       "      <td>NaN</td>\n",
       "      <td>10.169737</td>\n",
       "      <td>5717.565532</td>\n",
       "      <td>15.373312</td>\n",
       "      <td>2888.175532</td>\n",
       "      <td>657.148032</td>\n",
       "      <td>...</td>\n",
       "      <td>6.390441</td>\n",
       "      <td>7.820884</td>\n",
       "      <td>8.481891</td>\n",
       "      <td>5.932662</td>\n",
       "      <td>112.3047</td>\n",
       "      <td>34.32323</td>\n",
       "      <td>7.073449</td>\n",
       "      <td>14.79587</td>\n",
       "      <td>6.989605</td>\n",
       "      <td>28.41288</td>\n",
       "    </tr>\n",
       "    <tr>\n",
       "      <th>1</th>\n",
       "      <td>SampleLC_2</td>\n",
       "      <td>NTLD</td>\n",
       "      <td>female</td>\n",
       "      <td>35.0</td>\n",
       "      <td>NaN</td>\n",
       "      <td>8.993866</td>\n",
       "      <td>8152.894560</td>\n",
       "      <td>14.683980</td>\n",
       "      <td>3805.584560</td>\n",
       "      <td>906.707560</td>\n",
       "      <td>...</td>\n",
       "      <td>5.234970</td>\n",
       "      <td>7.567298</td>\n",
       "      <td>7.847653</td>\n",
       "      <td>5.985716</td>\n",
       "      <td>185.2690</td>\n",
       "      <td>47.13855</td>\n",
       "      <td>5.724681</td>\n",
       "      <td>15.02991</td>\n",
       "      <td>6.412826</td>\n",
       "      <td>13.66082</td>\n",
       "    </tr>\n",
       "    <tr>\n",
       "      <th>2</th>\n",
       "      <td>SampleLC_3</td>\n",
       "      <td>NTLD</td>\n",
       "      <td>female</td>\n",
       "      <td>37.0</td>\n",
       "      <td>NaN</td>\n",
       "      <td>9.221781</td>\n",
       "      <td>9161.633060</td>\n",
       "      <td>15.751940</td>\n",
       "      <td>1262.754060</td>\n",
       "      <td>301.175060</td>\n",
       "      <td>...</td>\n",
       "      <td>4.435148</td>\n",
       "      <td>7.738681</td>\n",
       "      <td>7.893889</td>\n",
       "      <td>5.410440</td>\n",
       "      <td>182.6446</td>\n",
       "      <td>66.89235</td>\n",
       "      <td>6.719895</td>\n",
       "      <td>19.68656</td>\n",
       "      <td>7.317585</td>\n",
       "      <td>48.61566</td>\n",
       "    </tr>\n",
       "    <tr>\n",
       "      <th>3</th>\n",
       "      <td>SampleLC_4</td>\n",
       "      <td>LCa</td>\n",
       "      <td>female</td>\n",
       "      <td>43.5</td>\n",
       "      <td>Past</td>\n",
       "      <td>9.700501</td>\n",
       "      <td>15589.388815</td>\n",
       "      <td>11.411269</td>\n",
       "      <td>7857.315268</td>\n",
       "      <td>1510.150845</td>\n",
       "      <td>...</td>\n",
       "      <td>7.808394</td>\n",
       "      <td>8.844422</td>\n",
       "      <td>8.782223</td>\n",
       "      <td>8.176937</td>\n",
       "      <td>366.1072</td>\n",
       "      <td>40.31580</td>\n",
       "      <td>8.553054</td>\n",
       "      <td>224.52850</td>\n",
       "      <td>8.869005</td>\n",
       "      <td>66.39760</td>\n",
       "    </tr>\n",
       "    <tr>\n",
       "      <th>4</th>\n",
       "      <td>SampleLC_5</td>\n",
       "      <td>NTLD</td>\n",
       "      <td>male</td>\n",
       "      <td>44.0</td>\n",
       "      <td>Present</td>\n",
       "      <td>6.133340</td>\n",
       "      <td>23861.201568</td>\n",
       "      <td>25.375915</td>\n",
       "      <td>9886.602937</td>\n",
       "      <td>2891.103594</td>\n",
       "      <td>...</td>\n",
       "      <td>4.946353</td>\n",
       "      <td>5.378983</td>\n",
       "      <td>6.080522</td>\n",
       "      <td>5.319329</td>\n",
       "      <td>1501.0180</td>\n",
       "      <td>122.96760</td>\n",
       "      <td>5.220272</td>\n",
       "      <td>211.52930</td>\n",
       "      <td>5.563860</td>\n",
       "      <td>99.50221</td>\n",
       "    </tr>\n",
       "  </tbody>\n",
       "</table>\n",
       "<p>5 rows × 1188 columns</p>\n",
       "</div>"
      ],
      "text/plain": [
       "     sampleID Group     Sex   Age    Smoke  hsa-let-7a-3p  hsa-let-7a-5p  \\\n",
       "0  SampleLC_1  NTLD    male  34.0      NaN      10.169737    5717.565532   \n",
       "1  SampleLC_2  NTLD  female  35.0      NaN       8.993866    8152.894560   \n",
       "2  SampleLC_3  NTLD  female  37.0      NaN       9.221781    9161.633060   \n",
       "3  SampleLC_4   LCa  female  43.5     Past       9.700501   15589.388815   \n",
       "4  SampleLC_5  NTLD    male  44.0  Present       6.133340   23861.201568   \n",
       "\n",
       "   hsa-let-7b-3p  hsa-let-7b-5p  hsa-let-7c-5p  ...  hsa-miR-943  hsa-miR-944  \\\n",
       "0      15.373312    2888.175532     657.148032  ...     6.390441     7.820884   \n",
       "1      14.683980    3805.584560     906.707560  ...     5.234970     7.567298   \n",
       "2      15.751940    1262.754060     301.175060  ...     4.435148     7.738681   \n",
       "3      11.411269    7857.315268    1510.150845  ...     7.808394     8.844422   \n",
       "4      25.375915    9886.602937    2891.103594  ...     4.946353     5.378983   \n",
       "\n",
       "   hsa-miR-95-3p  hsa-miR-96-3p  hsa-miR-96-5p  hsa-miR-98-5p  hsa-miR-99a-3p  \\\n",
       "0       8.481891       5.932662       112.3047       34.32323        7.073449   \n",
       "1       7.847653       5.985716       185.2690       47.13855        5.724681   \n",
       "2       7.893889       5.410440       182.6446       66.89235        6.719895   \n",
       "3       8.782223       8.176937       366.1072       40.31580        8.553054   \n",
       "4       6.080522       5.319329      1501.0180      122.96760        5.220272   \n",
       "\n",
       "   hsa-miR-99a-5p  hsa-miR-99b-3p  hsa-miR-99b-5p  \n",
       "0        14.79587        6.989605        28.41288  \n",
       "1        15.02991        6.412826        13.66082  \n",
       "2        19.68656        7.317585        48.61566  \n",
       "3       224.52850        8.869005        66.39760  \n",
       "4       211.52930        5.563860        99.50221  \n",
       "\n",
       "[5 rows x 1188 columns]"
      ]
     },
     "execution_count": 31,
     "metadata": {},
     "output_type": "execute_result"
    }
   ],
   "source": [
    "# Setting Index of df1 (Annotation) to sampleID\n",
    "df1.set_index(\"sampleID\")\n",
    "\n",
    "# Transforming columns to rows of df2 (miRNA Expression Data)\n",
    "df3 = df2.T\n",
    "\n",
    "# Joining Dataframes to create a single dataframe df4\n",
    "df4 = df1.join(df3, on=\"sampleID\", how='outer')\n",
    "print('The dataframe consist of {} rows and {} columns.'.format(df4.shape[0], df4.shape[1]))\n",
    "df4.head()"
   ]
  },
  {
   "cell_type": "code",
   "execution_count": 32,
   "metadata": {
    "ExecuteTime": {
     "end_time": "2020-05-11T09:13:51.254570Z",
     "start_time": "2020-05-11T09:13:51.106824Z"
    }
   },
   "outputs": [
    {
     "name": "stdout",
     "output_type": "stream",
     "text": [
      "<class 'pandas.core.frame.DataFrame'>\n",
      "Int64Index: 300 entries, 0 to 299\n",
      "Columns: 1188 entries, sampleID to hsa-miR-99b-5p\n",
      "dtypes: float64(1184), object(4)\n",
      "memory usage: 2.7+ MB\n"
     ]
    }
   ],
   "source": [
    "# Info about d(ata)types\n",
    "df4.info()"
   ]
  },
  {
   "cell_type": "markdown",
   "metadata": {},
   "source": [
    "## Data Cleaning"
   ]
  },
  {
   "cell_type": "markdown",
   "metadata": {
    "ExecuteTime": {
     "end_time": "2020-04-15T08:35:21.920628Z",
     "start_time": "2020-04-15T08:35:21.917947Z"
    }
   },
   "source": [
    "### Missing Values"
   ]
  },
  {
   "cell_type": "code",
   "execution_count": 33,
   "metadata": {
    "ExecuteTime": {
     "end_time": "2020-05-11T09:13:53.718373Z",
     "start_time": "2020-05-11T09:13:51.256970Z"
    }
   },
   "outputs": [
    {
     "data": {
      "image/png": "[encoded data removed]",
      "text/plain": [
       "<Figure size 1800x720 with 2 Axes>"
      ]
     },
     "metadata": {},
     "output_type": "display_data"
    }
   ],
   "source": [
    "# Check for missing values in df1 (Annotation)\n",
    "missingno.matrix(df1, color=matplotlib.colors.to_rgb(blue_1));\n",
    "plt.savefig('figures/missingvalues_annotation', transparent=True, dpi=300);"
   ]
  },
  {
   "cell_type": "code",
   "execution_count": 34,
   "metadata": {
    "ExecuteTime": {
     "end_time": "2020-05-11T09:13:55.566249Z",
     "start_time": "2020-05-11T09:13:53.731830Z"
    }
   },
   "outputs": [
    {
     "data": {
      "image/png": "[encoded data removed]",
      "text/plain": [
       "<Figure size 1728x720 with 3 Axes>"
      ]
     },
     "metadata": {},
     "output_type": "display_data"
    }
   ],
   "source": [
    "missingno.bar(df1, color=matplotlib.colors.to_rgb(blue_1));\n",
    "plt.savefig('figures/missingvalues_annotation2', transparent=True, dpi=300);"
   ]
  },
  {
   "cell_type": "code",
   "execution_count": 35,
   "metadata": {
    "ExecuteTime": {
     "end_time": "2020-05-11T09:13:55.579624Z",
     "start_time": "2020-05-11T09:13:55.570608Z"
    }
   },
   "outputs": [
    {
     "data": {
      "text/plain": [
       "sampleID     0\n",
       "Group        0\n",
       "Sex          6\n",
       "Age          3\n",
       "Smoke       53\n",
       "dtype: int64"
      ]
     },
     "execution_count": 35,
     "metadata": {},
     "output_type": "execute_result"
    }
   ],
   "source": [
    "df1.isna().sum()"
   ]
  },
  {
   "cell_type": "code",
   "execution_count": 38,
   "metadata": {
    "ExecuteTime": {
     "end_time": "2020-05-11T09:37:16.512145Z",
     "start_time": "2020-05-11T09:37:13.607550Z"
    }
   },
   "outputs": [
    {
     "data": {
      "image/png": "[encoded data removed]",
      "text/plain": [
       "<Figure size 1800x720 with 2 Axes>"
      ]
     },
     "metadata": {},
     "output_type": "display_data"
    }
   ],
   "source": [
    "# Check for missing values in df2 (miRNA-Expression Data)\n",
    "missingno.matrix(df2, color=matplotlib.colors.to_rgb(orange));\n",
    "plt.savefig('figures/missingvalues_miRNA', transparent=True, dpi=300);"
   ]
  },
  {
   "cell_type": "code",
   "execution_count": 39,
   "metadata": {
    "ExecuteTime": {
     "end_time": "2020-05-11T09:37:23.576023Z",
     "start_time": "2020-05-11T09:37:21.058467Z"
    }
   },
   "outputs": [
    {
     "data": {
      "image/png": "[encoded data removed]",
      "text/plain": [
       "<Figure size 1728x720 with 2 Axes>"
      ]
     },
     "metadata": {},
     "output_type": "display_data"
    }
   ],
   "source": [
    "missingno.bar(df2, color=matplotlib.colors.to_rgb(orange));\n",
    "plt.savefig('figures/missingvalues_miRNA2', transparent=True, dpi=300);"
   ]
  },
  {
   "cell_type": "code",
   "execution_count": 40,
   "metadata": {
    "ExecuteTime": {
     "end_time": "2020-05-11T09:37:23.776580Z",
     "start_time": "2020-05-11T09:37:23.761911Z"
    }
   },
   "outputs": [
    {
     "data": {
      "text/plain": [
       "SampleLC_1      0\n",
       "SampleLC_2      0\n",
       "SampleLC_3      0\n",
       "SampleLC_4      0\n",
       "SampleLC_5      0\n",
       "               ..\n",
       "SampleLC_296    0\n",
       "SampleLC_297    0\n",
       "SampleLC_298    0\n",
       "SampleLC_299    0\n",
       "SampleLC_300    0\n",
       "Length: 300, dtype: int64"
      ]
     },
     "execution_count": 40,
     "metadata": {},
     "output_type": "execute_result"
    }
   ],
   "source": [
    "df2.isna().sum()"
   ]
  },
  {
   "cell_type": "markdown",
   "metadata": {},
   "source": [
    "#### Summary"
   ]
  },
  {
   "cell_type": "markdown",
   "metadata": {
    "ExecuteTime": {
     "end_time": "2020-04-15T08:48:50.483943Z",
     "start_time": "2020-04-15T08:48:50.466721Z"
    }
   },
   "source": [
    "There are values missing for Sex (6/300; 2%), Age (3/300; 1%) and Smoke (53/300; 17.6%) in Annotation Data and no missing values in miRNA-Expresion Data.\n",
    "\n",
    "These missing values may be neclected as not necessarily needed for the project goals to use a set of 10 to 20 miRNAs to predict a group of patients. As well miRNA data (Prediction Features) as group (Prediction Labels) show no missing values."
   ]
  },
  {
   "cell_type": "markdown",
   "metadata": {
    "ExecuteTime": {
     "end_time": "2020-05-08T17:33:41.713684Z",
     "start_time": "2020-05-08T17:33:41.709613Z"
    }
   },
   "source": [
    "### Cleaning / Converting Values"
   ]
  },
  {
   "cell_type": "code",
   "execution_count": 41,
   "metadata": {
    "ExecuteTime": {
     "end_time": "2020-05-11T09:44:38.638158Z",
     "start_time": "2020-05-11T09:44:38.631665Z"
    }
   },
   "outputs": [],
   "source": [
    "# Creating new Column Label (encoding Labels to numerical Values 0,1,2; needed in some functions)\n",
    "# 0 = CON (CONtrol Group), 1 = LCa (Lung Cancer), 2 = NTLD (Non-Tumour Lung-Disease)\n",
    "\n",
    "# first create list with old labels\n",
    "label_list = df4.Group.tolist()\n",
    "\n",
    "# then encode labels to label_new list\n",
    "label_new = []\n",
    "for label in label_list:\n",
    "    if label == \"CON\":\n",
    "        label_new.append(0)\n",
    "    elif label == \"LCa\":\n",
    "        label_new.append(1)\n",
    "    else:\n",
    "        label_new.append(2)\n",
    "        \n",
    "# include new labels to the dataframe\n",
    "df4.insert(2, \"Label\", label_new)"
   ]
  },
  {
   "cell_type": "markdown",
   "metadata": {
    "ExecuteTime": {
     "end_time": "2020-04-15T09:12:36.401255Z",
     "start_time": "2020-04-15T09:12:36.392859Z"
    }
   },
   "source": [
    "## Data Exploration"
   ]
  },
  {
   "cell_type": "markdown",
   "metadata": {},
   "source": [
    "Visualization of different parts of the dataframe provides a first overview over the properties and distribution of the various features."
   ]
  },
  {
   "cell_type": "markdown",
   "metadata": {
    "ExecuteTime": {
     "end_time": "2020-04-15T10:07:28.814207Z",
     "start_time": "2020-04-15T10:07:28.811139Z"
    }
   },
   "source": [
    "### miRNA-Expression Data"
   ]
  },
  {
   "cell_type": "code",
   "execution_count": 42,
   "metadata": {
    "ExecuteTime": {
     "end_time": "2020-05-11T09:44:43.560269Z",
     "start_time": "2020-05-11T09:44:41.036206Z"
    }
   },
   "outputs": [
    {
     "data": {
      "text/html": [
       "<div>\n",
       "<style scoped>\n",
       "    .dataframe tbody tr th:only-of-type {\n",
       "        vertical-align: middle;\n",
       "    }\n",
       "\n",
       "    .dataframe tbody tr th {\n",
       "        vertical-align: top;\n",
       "    }\n",
       "\n",
       "    .dataframe thead th {\n",
       "        text-align: right;\n",
       "    }\n",
       "</style>\n",
       "<table border=\"1\" class=\"dataframe\">\n",
       "  <thead>\n",
       "    <tr style=\"text-align: right;\">\n",
       "      <th></th>\n",
       "      <th>hsa-let-7a-3p</th>\n",
       "      <th>hsa-let-7a-5p</th>\n",
       "      <th>hsa-let-7b-3p</th>\n",
       "      <th>hsa-let-7b-5p</th>\n",
       "      <th>hsa-let-7c-5p</th>\n",
       "      <th>hsa-let-7d-3p</th>\n",
       "      <th>hsa-let-7d-5p</th>\n",
       "      <th>hsa-let-7e-3p</th>\n",
       "      <th>hsa-let-7e-5p</th>\n",
       "      <th>hsa-let-7f-1-3p</th>\n",
       "      <th>...</th>\n",
       "      <th>hsa-miR-943</th>\n",
       "      <th>hsa-miR-944</th>\n",
       "      <th>hsa-miR-95-3p</th>\n",
       "      <th>hsa-miR-96-3p</th>\n",
       "      <th>hsa-miR-96-5p</th>\n",
       "      <th>hsa-miR-98-5p</th>\n",
       "      <th>hsa-miR-99a-3p</th>\n",
       "      <th>hsa-miR-99a-5p</th>\n",
       "      <th>hsa-miR-99b-3p</th>\n",
       "      <th>hsa-miR-99b-5p</th>\n",
       "    </tr>\n",
       "  </thead>\n",
       "  <tbody>\n",
       "    <tr>\n",
       "      <th>count</th>\n",
       "      <td>300.000000</td>\n",
       "      <td>300.000000</td>\n",
       "      <td>300.000000</td>\n",
       "      <td>300.000000</td>\n",
       "      <td>300.000000</td>\n",
       "      <td>300.000000</td>\n",
       "      <td>300.000000</td>\n",
       "      <td>300.000000</td>\n",
       "      <td>300.000000</td>\n",
       "      <td>300.000000</td>\n",
       "      <td>...</td>\n",
       "      <td>300.000000</td>\n",
       "      <td>300.000000</td>\n",
       "      <td>300.000000</td>\n",
       "      <td>300.000000</td>\n",
       "      <td>300.000000</td>\n",
       "      <td>300.000000</td>\n",
       "      <td>300.000000</td>\n",
       "      <td>300.000000</td>\n",
       "      <td>300.000000</td>\n",
       "      <td>300.000000</td>\n",
       "    </tr>\n",
       "    <tr>\n",
       "      <th>mean</th>\n",
       "      <td>9.402791</td>\n",
       "      <td>23832.393325</td>\n",
       "      <td>19.559043</td>\n",
       "      <td>17974.643896</td>\n",
       "      <td>3789.420736</td>\n",
       "      <td>16.142173</td>\n",
       "      <td>6565.580723</td>\n",
       "      <td>8.785773</td>\n",
       "      <td>31.758458</td>\n",
       "      <td>18.074932</td>\n",
       "      <td>...</td>\n",
       "      <td>8.114372</td>\n",
       "      <td>8.384787</td>\n",
       "      <td>8.675664</td>\n",
       "      <td>7.723339</td>\n",
       "      <td>600.038161</td>\n",
       "      <td>123.315892</td>\n",
       "      <td>8.181131</td>\n",
       "      <td>89.346688</td>\n",
       "      <td>8.665373</td>\n",
       "      <td>81.749416</td>\n",
       "    </tr>\n",
       "    <tr>\n",
       "      <th>std</th>\n",
       "      <td>5.280378</td>\n",
       "      <td>23291.105557</td>\n",
       "      <td>7.399962</td>\n",
       "      <td>14424.037569</td>\n",
       "      <td>3420.570174</td>\n",
       "      <td>8.283376</td>\n",
       "      <td>6575.586782</td>\n",
       "      <td>5.272169</td>\n",
       "      <td>28.105664</td>\n",
       "      <td>6.824515</td>\n",
       "      <td>...</td>\n",
       "      <td>4.811039</td>\n",
       "      <td>4.945748</td>\n",
       "      <td>4.949045</td>\n",
       "      <td>4.605896</td>\n",
       "      <td>896.650391</td>\n",
       "      <td>193.986571</td>\n",
       "      <td>4.861083</td>\n",
       "      <td>66.851102</td>\n",
       "      <td>5.212743</td>\n",
       "      <td>61.000360</td>\n",
       "    </tr>\n",
       "    <tr>\n",
       "      <th>min</th>\n",
       "      <td>4.940617</td>\n",
       "      <td>38.339086</td>\n",
       "      <td>7.450113</td>\n",
       "      <td>42.280062</td>\n",
       "      <td>14.556718</td>\n",
       "      <td>5.587808</td>\n",
       "      <td>7.244910</td>\n",
       "      <td>4.542245</td>\n",
       "      <td>4.921895</td>\n",
       "      <td>7.085688</td>\n",
       "      <td>...</td>\n",
       "      <td>4.100124</td>\n",
       "      <td>4.300865</td>\n",
       "      <td>4.416310</td>\n",
       "      <td>4.048167</td>\n",
       "      <td>5.755420</td>\n",
       "      <td>5.594751</td>\n",
       "      <td>4.440024</td>\n",
       "      <td>6.793955</td>\n",
       "      <td>4.491491</td>\n",
       "      <td>6.019939</td>\n",
       "    </tr>\n",
       "    <tr>\n",
       "      <th>25%</th>\n",
       "      <td>6.658562</td>\n",
       "      <td>9516.969027</td>\n",
       "      <td>14.896490</td>\n",
       "      <td>8016.475395</td>\n",
       "      <td>1448.657211</td>\n",
       "      <td>10.925667</td>\n",
       "      <td>2732.859626</td>\n",
       "      <td>6.137592</td>\n",
       "      <td>16.579612</td>\n",
       "      <td>13.577476</td>\n",
       "      <td>...</td>\n",
       "      <td>5.616376</td>\n",
       "      <td>5.809403</td>\n",
       "      <td>6.101095</td>\n",
       "      <td>5.354176</td>\n",
       "      <td>110.089650</td>\n",
       "      <td>40.508820</td>\n",
       "      <td>5.680078</td>\n",
       "      <td>41.061370</td>\n",
       "      <td>5.912016</td>\n",
       "      <td>44.529785</td>\n",
       "    </tr>\n",
       "    <tr>\n",
       "      <th>50%</th>\n",
       "      <td>7.628066</td>\n",
       "      <td>17199.351502</td>\n",
       "      <td>17.481272</td>\n",
       "      <td>14156.440842</td>\n",
       "      <td>2963.611225</td>\n",
       "      <td>13.291748</td>\n",
       "      <td>4491.039755</td>\n",
       "      <td>7.117287</td>\n",
       "      <td>24.284067</td>\n",
       "      <td>16.227491</td>\n",
       "      <td>...</td>\n",
       "      <td>6.571538</td>\n",
       "      <td>6.913197</td>\n",
       "      <td>7.046945</td>\n",
       "      <td>6.234828</td>\n",
       "      <td>307.904750</td>\n",
       "      <td>66.225320</td>\n",
       "      <td>6.660271</td>\n",
       "      <td>72.068805</td>\n",
       "      <td>6.998983</td>\n",
       "      <td>69.419520</td>\n",
       "    </tr>\n",
       "    <tr>\n",
       "      <th>75%</th>\n",
       "      <td>9.750887</td>\n",
       "      <td>28684.175160</td>\n",
       "      <td>23.934594</td>\n",
       "      <td>26838.248546</td>\n",
       "      <td>4984.884862</td>\n",
       "      <td>18.164330</td>\n",
       "      <td>7913.861504</td>\n",
       "      <td>9.014158</td>\n",
       "      <td>35.380196</td>\n",
       "      <td>21.676177</td>\n",
       "      <td>...</td>\n",
       "      <td>8.578434</td>\n",
       "      <td>8.914393</td>\n",
       "      <td>8.969263</td>\n",
       "      <td>8.007796</td>\n",
       "      <td>674.267025</td>\n",
       "      <td>124.908650</td>\n",
       "      <td>8.234042</td>\n",
       "      <td>116.980850</td>\n",
       "      <td>8.843192</td>\n",
       "      <td>104.322350</td>\n",
       "    </tr>\n",
       "    <tr>\n",
       "      <th>max</th>\n",
       "      <td>56.642516</td>\n",
       "      <td>149962.333065</td>\n",
       "      <td>69.576656</td>\n",
       "      <td>83604.788124</td>\n",
       "      <td>21619.300366</td>\n",
       "      <td>61.529077</td>\n",
       "      <td>44740.793541</td>\n",
       "      <td>55.157347</td>\n",
       "      <td>259.268272</td>\n",
       "      <td>68.772438</td>\n",
       "      <td>...</td>\n",
       "      <td>52.471690</td>\n",
       "      <td>53.556260</td>\n",
       "      <td>51.972650</td>\n",
       "      <td>49.352820</td>\n",
       "      <td>8099.504000</td>\n",
       "      <td>1997.999000</td>\n",
       "      <td>50.939600</td>\n",
       "      <td>400.610300</td>\n",
       "      <td>54.590190</td>\n",
       "      <td>589.320900</td>\n",
       "    </tr>\n",
       "  </tbody>\n",
       "</table>\n",
       "<p>8 rows × 1183 columns</p>\n",
       "</div>"
      ],
      "text/plain": [
       "       hsa-let-7a-3p  hsa-let-7a-5p  hsa-let-7b-3p  hsa-let-7b-5p  \\\n",
       "count     300.000000     300.000000     300.000000     300.000000   \n",
       "mean        9.402791   23832.393325      19.559043   17974.643896   \n",
       "std         5.280378   23291.105557       7.399962   14424.037569   \n",
       "min         4.940617      38.339086       7.450113      42.280062   \n",
       "25%         6.658562    9516.969027      14.896490    8016.475395   \n",
       "50%         7.628066   17199.351502      17.481272   14156.440842   \n",
       "75%         9.750887   28684.175160      23.934594   26838.248546   \n",
       "max        56.642516  149962.333065      69.576656   83604.788124   \n",
       "\n",
       "       hsa-let-7c-5p  hsa-let-7d-3p  hsa-let-7d-5p  hsa-let-7e-3p  \\\n",
       "count     300.000000     300.000000     300.000000     300.000000   \n",
       "mean     3789.420736      16.142173    6565.580723       8.785773   \n",
       "std      3420.570174       8.283376    6575.586782       5.272169   \n",
       "min        14.556718       5.587808       7.244910       4.542245   \n",
       "25%      1448.657211      10.925667    2732.859626       6.137592   \n",
       "50%      2963.611225      13.291748    4491.039755       7.117287   \n",
       "75%      4984.884862      18.164330    7913.861504       9.014158   \n",
       "max     21619.300366      61.529077   44740.793541      55.157347   \n",
       "\n",
       "       hsa-let-7e-5p  hsa-let-7f-1-3p  ...  hsa-miR-943  hsa-miR-944  \\\n",
       "count     300.000000       300.000000  ...   300.000000   300.000000   \n",
       "mean       31.758458        18.074932  ...     8.114372     8.384787   \n",
       "std        28.105664         6.824515  ...     4.811039     4.945748   \n",
       "min         4.921895         7.085688  ...     4.100124     4.300865   \n",
       "25%        16.579612        13.577476  ...     5.616376     5.809403   \n",
       "50%        24.284067        16.227491  ...     6.571538     6.913197   \n",
       "75%        35.380196        21.676177  ...     8.578434     8.914393   \n",
       "max       259.268272        68.772438  ...    52.471690    53.556260   \n",
       "\n",
       "       hsa-miR-95-3p  hsa-miR-96-3p  hsa-miR-96-5p  hsa-miR-98-5p  \\\n",
       "count     300.000000     300.000000     300.000000     300.000000   \n",
       "mean        8.675664       7.723339     600.038161     123.315892   \n",
       "std         4.949045       4.605896     896.650391     193.986571   \n",
       "min         4.416310       4.048167       5.755420       5.594751   \n",
       "25%         6.101095       5.354176     110.089650      40.508820   \n",
       "50%         7.046945       6.234828     307.904750      66.225320   \n",
       "75%         8.969263       8.007796     674.267025     124.908650   \n",
       "max        51.972650      49.352820    8099.504000    1997.999000   \n",
       "\n",
       "       hsa-miR-99a-3p  hsa-miR-99a-5p  hsa-miR-99b-3p  hsa-miR-99b-5p  \n",
       "count      300.000000      300.000000      300.000000      300.000000  \n",
       "mean         8.181131       89.346688        8.665373       81.749416  \n",
       "std          4.861083       66.851102        5.212743       61.000360  \n",
       "min          4.440024        6.793955        4.491491        6.019939  \n",
       "25%          5.680078       41.061370        5.912016       44.529785  \n",
       "50%          6.660271       72.068805        6.998983       69.419520  \n",
       "75%          8.234042      116.980850        8.843192      104.322350  \n",
       "max         50.939600      400.610300       54.590190      589.320900  \n",
       "\n",
       "[8 rows x 1183 columns]"
      ]
     },
     "execution_count": 42,
     "metadata": {},
     "output_type": "execute_result"
    }
   ],
   "source": [
    "# Simple Statistics for each column / over all patients for each miRNA\n",
    "df3.describe()"
   ]
  },
  {
   "cell_type": "markdown",
   "metadata": {},
   "source": [
    "#### Distribution of miRNA values"
   ]
  },
  {
   "cell_type": "code",
   "execution_count": 99,
   "metadata": {
    "ExecuteTime": {
     "end_time": "2020-05-11T11:10:08.185290Z",
     "start_time": "2020-05-11T11:10:06.742841Z"
    }
   },
   "outputs": [],
   "source": [
    "# D'Agostino and Pearson's Test on Normal Distribution\n",
    "\n",
    "# create list of columns of df3\n",
    "miRNA_stat = df3.columns\n",
    "\n",
    "# create dictionary for results of D'Agostino and Pearson's Test\n",
    "miRNA_normal = {}\n",
    "\n",
    "for miRNA in miRNA_stat:\n",
    "\n",
    "    # make Pearson Test on Normal distribution\n",
    "    # statistic = z_score_skew^2 + z_score_kurtosis^2; pvalue = significance\n",
    "    statistic, pvalue = normaltest(df3[miRNA])\n",
    "   \n",
    "    # interpretation\n",
    "    alpha = 0.05 # 5% significance H0 Hypothesis\n",
    "    if pvalue > alpha:\n",
    "        # sample looks Normal distributed (Gaussian fails to reject Zero Hypothesis H0)\n",
    "        gaussian = 1\n",
    "    else:\n",
    "        # sample looks NOT Normal distributed (Gaussian rejects Zero Hypothesis H0)\n",
    "        gaussian = 0\n",
    "    \n",
    "    miRNA_normal[miRNA] = ((round(statistic, 3)), (round(pvalue, 3)), gaussian)\n",
    "\n",
    "# create dataframe with results dictionary \n",
    "miRNA_dist = pd.DataFrame(miRNA_normal).T.rename(columns={0:\"z_score\", 1:\"p_value\", 2:\"normal\"})"
   ]
  },
  {
   "cell_type": "code",
   "execution_count": 101,
   "metadata": {
    "ExecuteTime": {
     "end_time": "2020-05-11T11:13:05.217191Z",
     "start_time": "2020-05-11T11:13:05.206963Z"
    }
   },
   "outputs": [
    {
     "data": {
      "text/html": [
       "<div>\n",
       "<style scoped>\n",
       "    .dataframe tbody tr th:only-of-type {\n",
       "        vertical-align: middle;\n",
       "    }\n",
       "\n",
       "    .dataframe tbody tr th {\n",
       "        vertical-align: top;\n",
       "    }\n",
       "\n",
       "    .dataframe thead th {\n",
       "        text-align: right;\n",
       "    }\n",
       "</style>\n",
       "<table border=\"1\" class=\"dataframe\">\n",
       "  <thead>\n",
       "    <tr style=\"text-align: right;\">\n",
       "      <th></th>\n",
       "      <th>z_score</th>\n",
       "      <th>p_value</th>\n",
       "      <th>normal</th>\n",
       "    </tr>\n",
       "  </thead>\n",
       "  <tbody>\n",
       "    <tr>\n",
       "      <th>hsa-miR-223-3p</th>\n",
       "      <td>5.021</td>\n",
       "      <td>0.081</td>\n",
       "      <td>1.0</td>\n",
       "    </tr>\n",
       "    <tr>\n",
       "      <th>hsa-miR-425-5p</th>\n",
       "      <td>4.947</td>\n",
       "      <td>0.084</td>\n",
       "      <td>1.0</td>\n",
       "    </tr>\n",
       "  </tbody>\n",
       "</table>\n",
       "</div>"
      ],
      "text/plain": [
       "                z_score  p_value  normal\n",
       "hsa-miR-223-3p    5.021    0.081     1.0\n",
       "hsa-miR-425-5p    4.947    0.084     1.0"
      ]
     },
     "execution_count": 101,
     "metadata": {},
     "output_type": "execute_result"
    }
   ],
   "source": [
    "# check if or which miRNA is normally distributed in patient samples\n",
    "miRNA_dist[(miRNA_dist[\"normal\"] == 1)]"
   ]
  },
  {
   "cell_type": "code",
   "execution_count": 105,
   "metadata": {
    "ExecuteTime": {
     "end_time": "2020-05-11T11:24:25.438366Z",
     "start_time": "2020-05-11T11:24:24.579755Z"
    }
   },
   "outputs": [
    {
     "data": {
      "text/plain": [
       "count    3.000000e+02\n",
       "mean     1.191841e+06\n",
       "std      4.839428e+05\n",
       "min      7.851522e+04\n",
       "25%      8.814026e+05\n",
       "50%      1.183958e+06\n",
       "75%      1.458039e+06\n",
       "max      3.506215e+06\n",
       "Name: sum_miRNA, dtype: float64"
      ]
     },
     "execution_count": 105,
     "metadata": {},
     "output_type": "execute_result"
    },
    {
     "data": {
      "image/png": "[encoded data removed]",
      "text/plain": [
       "<Figure size 720x720 with 1 Axes>"
      ]
     },
     "metadata": {},
     "output_type": "display_data"
    }
   ],
   "source": [
    "# Histogram for Distribution of miRNA 223-3p\n",
    "plt.figure(figsize=(10,10))\n",
    "sns.distplot(df3[\"hsa-miR-223-3p\"], color=blue_1);\n",
    "plt.savefig('figures/distribution_miRNA_223-3p', transparent=True, dpi=300);\n",
    "df5.sum_miRNA.describe()"
   ]
  },
  {
   "cell_type": "code",
   "execution_count": 107,
   "metadata": {
    "ExecuteTime": {
     "end_time": "2020-05-11T11:24:50.877545Z",
     "start_time": "2020-05-11T11:24:50.000560Z"
    }
   },
   "outputs": [
    {
     "data": {
      "text/plain": [
       "count    3.000000e+02\n",
       "mean     1.191841e+06\n",
       "std      4.839428e+05\n",
       "min      7.851522e+04\n",
       "25%      8.814026e+05\n",
       "50%      1.183958e+06\n",
       "75%      1.458039e+06\n",
       "max      3.506215e+06\n",
       "Name: sum_miRNA, dtype: float64"
      ]
     },
     "execution_count": 107,
     "metadata": {},
     "output_type": "execute_result"
    },
    {
     "data": {
      "image/png": "[encoded data removed]",
      "text/plain": [
       "<Figure size 720x720 with 1 Axes>"
      ]
     },
     "metadata": {},
     "output_type": "display_data"
    }
   ],
   "source": [
    "# Histogram for Distribution of miRNA 425-5p\n",
    "plt.figure(figsize=(10,10))\n",
    "sns.distplot(df3[\"hsa-miR-425-5p\"], color=green);\n",
    "plt.savefig('figures/distribution_miRNA_425-5p', transparent=True, dpi=300);\n",
    "df5.sum_miRNA.describe()"
   ]
  },
  {
   "cell_type": "markdown",
   "metadata": {
    "ExecuteTime": {
     "end_time": "2020-05-11T11:29:55.653330Z",
     "start_time": "2020-05-11T11:29:55.650319Z"
    }
   },
   "source": [
    "### Sum of miRNA concentration"
   ]
  },
  {
   "cell_type": "markdown",
   "metadata": {},
   "source": [
    "Checking the data description statement: \"...Each column contains the concentration of specific miRNAs, while the sum of all miRNA concentrations per patient is constant...\""
   ]
  },
  {
   "cell_type": "code",
   "execution_count": 44,
   "metadata": {
    "ExecuteTime": {
     "end_time": "2020-05-11T09:52:55.192025Z",
     "start_time": "2020-05-11T09:52:55.172486Z"
    }
   },
   "outputs": [
    {
     "data": {
      "text/html": [
       "<div>\n",
       "<style scoped>\n",
       "    .dataframe tbody tr th:only-of-type {\n",
       "        vertical-align: middle;\n",
       "    }\n",
       "\n",
       "    .dataframe tbody tr th {\n",
       "        vertical-align: top;\n",
       "    }\n",
       "\n",
       "    .dataframe thead th {\n",
       "        text-align: right;\n",
       "    }\n",
       "</style>\n",
       "<table border=\"1\" class=\"dataframe\">\n",
       "  <thead>\n",
       "    <tr style=\"text-align: right;\">\n",
       "      <th></th>\n",
       "      <th>sum_miRNA</th>\n",
       "    </tr>\n",
       "  </thead>\n",
       "  <tbody>\n",
       "    <tr>\n",
       "      <th>SampleLC_1</th>\n",
       "      <td>4.581314e+05</td>\n",
       "    </tr>\n",
       "    <tr>\n",
       "      <th>SampleLC_2</th>\n",
       "      <td>5.015698e+05</td>\n",
       "    </tr>\n",
       "    <tr>\n",
       "      <th>SampleLC_3</th>\n",
       "      <td>6.360268e+05</td>\n",
       "    </tr>\n",
       "    <tr>\n",
       "      <th>SampleLC_4</th>\n",
       "      <td>1.520136e+06</td>\n",
       "    </tr>\n",
       "    <tr>\n",
       "      <th>SampleLC_5</th>\n",
       "      <td>1.444430e+06</td>\n",
       "    </tr>\n",
       "    <tr>\n",
       "      <th>...</th>\n",
       "      <td>...</td>\n",
       "    </tr>\n",
       "    <tr>\n",
       "      <th>SampleLC_296</th>\n",
       "      <td>1.596045e+06</td>\n",
       "    </tr>\n",
       "    <tr>\n",
       "      <th>SampleLC_297</th>\n",
       "      <td>9.929835e+05</td>\n",
       "    </tr>\n",
       "    <tr>\n",
       "      <th>SampleLC_298</th>\n",
       "      <td>2.199376e+06</td>\n",
       "    </tr>\n",
       "    <tr>\n",
       "      <th>SampleLC_299</th>\n",
       "      <td>1.911118e+06</td>\n",
       "    </tr>\n",
       "    <tr>\n",
       "      <th>SampleLC_300</th>\n",
       "      <td>1.894939e+06</td>\n",
       "    </tr>\n",
       "  </tbody>\n",
       "</table>\n",
       "<p>300 rows × 1 columns</p>\n",
       "</div>"
      ],
      "text/plain": [
       "                 sum_miRNA\n",
       "SampleLC_1    4.581314e+05\n",
       "SampleLC_2    5.015698e+05\n",
       "SampleLC_3    6.360268e+05\n",
       "SampleLC_4    1.520136e+06\n",
       "SampleLC_5    1.444430e+06\n",
       "...                    ...\n",
       "SampleLC_296  1.596045e+06\n",
       "SampleLC_297  9.929835e+05\n",
       "SampleLC_298  2.199376e+06\n",
       "SampleLC_299  1.911118e+06\n",
       "SampleLC_300  1.894939e+06\n",
       "\n",
       "[300 rows x 1 columns]"
      ]
     },
     "execution_count": 44,
     "metadata": {},
     "output_type": "execute_result"
    }
   ],
   "source": [
    "df5 = pd.DataFrame(df3.sum(axis=1)).rename(columns={0:\"sum_miRNA\"})\n",
    "df5"
   ]
  },
  {
   "cell_type": "code",
   "execution_count": 45,
   "metadata": {
    "ExecuteTime": {
     "end_time": "2020-05-11T09:53:38.692287Z",
     "start_time": "2020-05-11T09:53:37.889559Z"
    }
   },
   "outputs": [
    {
     "data": {
      "text/plain": [
       "count    3.000000e+02\n",
       "mean     1.191841e+06\n",
       "std      4.839428e+05\n",
       "min      7.851522e+04\n",
       "25%      8.814026e+05\n",
       "50%      1.183958e+06\n",
       "75%      1.458039e+06\n",
       "max      3.506215e+06\n",
       "Name: sum_miRNA, dtype: float64"
      ]
     },
     "execution_count": 45,
     "metadata": {},
     "output_type": "execute_result"
    },
    {
     "data": {
      "image/png": "[encoded data removed]",
      "text/plain": [
       "<Figure size 720x720 with 1 Axes>"
      ]
     },
     "metadata": {},
     "output_type": "display_data"
    }
   ],
   "source": [
    "# Histogram for Distribution of Sum of miRNA\n",
    "plt.figure(figsize=(10,10))\n",
    "sns.distplot(df5.sum_miRNA, color=red);\n",
    "plt.savefig('figures/distribution_sum_miRNA', transparent=True, dpi=300);\n",
    "df5.sum_miRNA.describe()"
   ]
  },
  {
   "cell_type": "code",
   "execution_count": 46,
   "metadata": {
    "ExecuteTime": {
     "end_time": "2020-05-11T09:53:45.684693Z",
     "start_time": "2020-05-11T09:53:45.102989Z"
    }
   },
   "outputs": [
    {
     "data": {
      "image/png": "[encoded data removed]",
      "text/plain": [
       "<Figure size 720x720 with 1 Axes>"
      ]
     },
     "metadata": {},
     "output_type": "display_data"
    }
   ],
   "source": [
    "# Boxplot for Sum of miRNA (reveals the presence of outliers)\n",
    "plt.figure(figsize=(10,10))\n",
    "sns.boxplot(data=df5.sum_miRNA, color=red)\n",
    "plt.xlabel('Values');\n",
    "plt.ylabel('sum_miRNA');\n",
    "plt.savefig('figures/boxplot_sum_miRNA', transparent=True, dpi=300);"
   ]
  },
  {
   "cell_type": "markdown",
   "metadata": {
    "ExecuteTime": {
     "end_time": "2020-04-15T12:38:24.181718Z",
     "start_time": "2020-04-15T12:38:24.172968Z"
    }
   },
   "source": [
    "The data discription statement seems to be wrong. I assume the statement refers to the total miRNA concentration after extraction from blood samples, but not all miRNA were covered by analysis (1183 in this dataset, but more than 2000 known in humans. Hammond, 2015: https://www.ncbi.nlm.nih.gov/pmc/articles/PMC4504744/pdf/nihms-690138.pdf)."
   ]
  },
  {
   "cell_type": "markdown",
   "metadata": {
    "ExecuteTime": {
     "end_time": "2020-05-11T09:56:34.559930Z",
     "start_time": "2020-05-11T09:56:34.556158Z"
    }
   },
   "source": [
    "#### Summary"
   ]
  },
  {
   "cell_type": "markdown",
   "metadata": {},
   "source": [
    "- all of the 1183 miRNAs are not normally distributed in patient samples except 2 are almost (miRNA 223-3p and miRNA 425-5p)\n",
    "- The sum of miRNAs is almost normally distributed (small subgroup / outliers between 2.3e+06 and 3.5e+06)\n",
    "- the sum of all miRNAs is not constant per patient sample"
   ]
  },
  {
   "cell_type": "markdown",
   "metadata": {},
   "source": [
    "### Annotation"
   ]
  },
  {
   "cell_type": "code",
   "execution_count": 47,
   "metadata": {
    "ExecuteTime": {
     "end_time": "2020-05-11T09:55:39.540733Z",
     "start_time": "2020-05-11T09:55:38.275617Z"
    }
   },
   "outputs": [
    {
     "data": {
      "image/png": "[encoded data removed]",
      "text/plain": [
       "<Figure size 720x720 with 3 Axes>"
      ]
     },
     "metadata": {},
     "output_type": "display_data"
    }
   ],
   "source": [
    "# Plots of Annotation\n",
    "fig, axes = plt.subplots(3, 1, figsize=(10, 10))\n",
    "\n",
    "sns.countplot(y=df1.Group, ax=axes[0]);\n",
    "sns.countplot(y=df1.Sex, ax=axes[1]);\n",
    "sns.countplot(y=df1.Smoke, ax=axes[2]);\n",
    "plt.savefig('figures/countplot_annotation', transparent=True, dpi=300);"
   ]
  },
  {
   "cell_type": "code",
   "execution_count": 48,
   "metadata": {
    "ExecuteTime": {
     "end_time": "2020-05-11T09:55:41.671644Z",
     "start_time": "2020-05-11T09:55:41.661462Z"
    }
   },
   "outputs": [
    {
     "name": "stdout",
     "output_type": "stream",
     "text": [
      "CON     100\n",
      "LCa     100\n",
      "NTLD    100\n",
      "Name: Group, dtype: int64\n",
      "male      199\n",
      "female     95\n",
      "Name: Sex, dtype: int64\n",
      "Past       148\n",
      "Never       52\n",
      "Present     47\n",
      "Name: Smoke, dtype: int64\n"
     ]
    }
   ],
   "source": [
    "# Counting Values of Annotation\n",
    "print(df1.Group.value_counts())\n",
    "print(df1.Sex.value_counts())\n",
    "print(df1.Smoke.value_counts())"
   ]
  },
  {
   "cell_type": "code",
   "execution_count": 49,
   "metadata": {
    "ExecuteTime": {
     "end_time": "2020-05-11T09:55:45.535325Z",
     "start_time": "2020-05-11T09:55:44.683164Z"
    }
   },
   "outputs": [
    {
     "data": {
      "text/plain": [
       "count    297.000000\n",
       "mean      66.337710\n",
       "std        8.090426\n",
       "min       34.000000\n",
       "25%       62.000000\n",
       "50%       67.000000\n",
       "75%       72.000000\n",
       "max       84.000000\n",
       "Name: Age, dtype: float64"
      ]
     },
     "execution_count": 49,
     "metadata": {},
     "output_type": "execute_result"
    },
    {
     "data": {
      "image/png": "[encoded data removed]",
      "text/plain": [
       "<Figure size 720x720 with 1 Axes>"
      ]
     },
     "metadata": {},
     "output_type": "display_data"
    }
   ],
   "source": [
    "# Histogram for Age Distribution\n",
    "plt.figure(figsize=(10,10))\n",
    "sns.distplot(df1.Age, color=orange);\n",
    "plt.savefig('figures/distribution_age', transparent=True, dpi=300);\n",
    "df1.Age.describe()"
   ]
  },
  {
   "cell_type": "code",
   "execution_count": 50,
   "metadata": {
    "ExecuteTime": {
     "end_time": "2020-05-11T09:55:47.172003Z",
     "start_time": "2020-05-11T09:55:46.559298Z"
    }
   },
   "outputs": [
    {
     "data": {
      "image/png": "[encoded data removed]",
      "text/plain": [
       "<Figure size 720x720 with 1 Axes>"
      ]
     },
     "metadata": {},
     "output_type": "display_data"
    }
   ],
   "source": [
    "# Boxplot for Age (reveals the presence of outliers)\n",
    "plt.figure(figsize=(10,10))\n",
    "sns.boxplot(df1.Age, color=\"orange\", orient=\"v\")\n",
    "plt.xlabel('Values');\n",
    "plt.ylabel('Age');\n",
    "plt.savefig('figures/boxplot_age', transparent=True, dpi=300);"
   ]
  },
  {
   "cell_type": "markdown",
   "metadata": {
    "ExecuteTime": {
     "end_time": "2020-05-11T09:58:43.788254Z",
     "start_time": "2020-05-11T09:58:43.786167Z"
    }
   },
   "source": [
    "#### Summary"
   ]
  },
  {
   "cell_type": "markdown",
   "metadata": {},
   "source": [
    "- Groups is equally distributed between NTLD (100/300; 33.3%), LCa (100/300; 33.3%) and CON (100/300; 33.3%) (no imbalances; used as class label)\n",
    "- more males (199/300; 66.3%) than females (95/300; 31.6%) in cohort (medium inbalance; not used as class label)\n",
    "- more past smokers (148/300; 49.3%) than present (47/300; 15.6%) and never (52/300; 17.3%) smokers (medium inbalance; not used as class label)\n",
    "- age is almost normally distributed (small subgroup / outliers between 34 and 47)"
   ]
  },
  {
   "cell_type": "markdown",
   "metadata": {
    "ExecuteTime": {
     "end_time": "2020-04-15T13:40:54.824923Z",
     "start_time": "2020-04-15T13:40:54.822138Z"
    }
   },
   "source": [
    "## Feature Engineering"
   ]
  },
  {
   "cell_type": "markdown",
   "metadata": {
    "ExecuteTime": {
     "end_time": "2020-04-16T08:36:19.628642Z",
     "start_time": "2020-04-16T08:36:19.625612Z"
    }
   },
   "source": [
    "### Data Selection miRNA-Expression Data"
   ]
  },
  {
   "cell_type": "code",
   "execution_count": null,
   "metadata": {
    "ExecuteTime": {
     "end_time": "2020-05-11T09:13:58.522757Z",
     "start_time": "2020-05-11T09:13:51.031Z"
    }
   },
   "outputs": [],
   "source": [
    "# Not Required Columns of complete DataFrame df4 to List\n",
    "col = ['sampleID', 'Group', 'Label', 'Sex', 'Age', 'Smoke']\n",
    "\n",
    "# Creating y and X\n",
    "y = df4['Label']\n",
    "X = df4.drop(col, axis=1)"
   ]
  },
  {
   "cell_type": "markdown",
   "metadata": {
    "ExecuteTime": {
     "end_time": "2020-05-07T12:19:35.987653Z",
     "start_time": "2020-05-07T12:19:35.984668Z"
    },
    "code_folding": []
   },
   "source": [
    "### Scaling miRNA-Expression Data"
   ]
  },
  {
   "cell_type": "markdown",
   "metadata": {},
   "source": [
    "As scaling might provide a useful tool in data preprocessing even if the values are"
   ]
  },
  {
   "cell_type": "code",
   "execution_count": null,
   "metadata": {
    "ExecuteTime": {
     "end_time": "2020-05-11T09:13:58.526946Z",
     "start_time": "2020-05-11T09:13:51.042Z"
    }
   },
   "outputs": [],
   "source": [
    "# Scaling didn´t improve the models, but I haven´t adjusted the optimisation\n",
    "# if so maybe some things change"
   ]
  },
  {
   "cell_type": "code",
   "execution_count": null,
   "metadata": {
    "ExecuteTime": {
     "end_time": "2020-05-11T09:13:58.530270Z",
     "start_time": "2020-05-11T09:13:51.052Z"
    }
   },
   "outputs": [],
   "source": [
    "# Scaling the data to try to improve modeling\n",
    "\n",
    "# Initialize Scaler and transform data\n",
    "scaler = StandardScaler()\n",
    "X_scaled = scaler.fit_transform(X)\n",
    "\n",
    "# Create scaled dataframe\n",
    "X_scaled = pd.DataFrame(X_scaled, columns=X.columns)\n",
    "\n",
    "# Switch X to X_scaled (comment out for unscaled data)\n",
    "# X = X_scaled"
   ]
  },
  {
   "cell_type": "code",
   "execution_count": null,
   "metadata": {
    "ExecuteTime": {
     "end_time": "2020-05-11T09:13:58.534935Z",
     "start_time": "2020-05-11T09:13:51.063Z"
    }
   },
   "outputs": [],
   "source": [
    "# Then update dataframe df4 with scaled data / unscaled data\n",
    "df4 = pd.concat([df4[col], X], axis=1)"
   ]
  },
  {
   "cell_type": "markdown",
   "metadata": {},
   "source": [
    "#### Eval/Train-Test-Split"
   ]
  },
  {
   "cell_type": "code",
   "execution_count": null,
   "metadata": {
    "ExecuteTime": {
     "end_time": "2020-05-11T09:13:58.540035Z",
     "start_time": "2020-05-11T09:13:51.074Z"
    }
   },
   "outputs": [],
   "source": [
    "# Separating data for final evaluation (Eval-Test-Set)\n",
    "X_modell, X_eval, y_modell, y_eval = train_test_split(X, y, test_size=0.1, random_state=seed)\n",
    "\n",
    "# X_model and X_eval \n",
    "print('Shape X_modell:', X_modell.shape)\n",
    "print('Shape X_eval:', X_eval.shape)"
   ]
  },
  {
   "cell_type": "code",
   "execution_count": null,
   "metadata": {
    "ExecuteTime": {
     "end_time": "2020-05-11T09:13:58.545259Z",
     "start_time": "2020-05-11T09:13:51.083Z"
    }
   },
   "outputs": [],
   "source": [
    "# Train Test Split\n",
    "\n",
    "# We have 1183 predictive features. The rule of thumb is 50 records per feature... \n",
    "# So we need to have at least 59,150 records in this dataset, but we only have 270 records!\n",
    "# Because there are only 300 samples, we cannot reach this even without splitting!\n",
    "# As our aim is to reduce the number of features between 10 to 20, then only 500 to 1000 records are needed.\n",
    "# This will be more agreeable.\n",
    "\n",
    "# choosing test size to same size as X_eval\n",
    "X_train, X_test, y_train, y_test = train_test_split(X_modell, y_modell, test_size=0.11, random_state=seed)\n",
    "\n",
    "# X_train and X_test\n",
    "print('Shape X_train:', X_train.shape)\n",
    "print('Shape X_test:', X_test.shape)"
   ]
  },
  {
   "cell_type": "markdown",
   "metadata": {
    "ExecuteTime": {
     "end_time": "2020-04-17T09:37:38.570326Z",
     "start_time": "2020-04-17T09:37:38.567504Z"
    }
   },
   "source": [
    "### Feature Selection from miRNA-Expression Data"
   ]
  },
  {
   "cell_type": "markdown",
   "metadata": {},
   "source": [
    "#### Feature Importance of tree-based Classifiers"
   ]
  },
  {
   "cell_type": "code",
   "execution_count": null,
   "metadata": {
    "ExecuteTime": {
     "end_time": "2020-05-11T09:13:58.547741Z",
     "start_time": "2020-05-11T09:13:51.094Z"
    }
   },
   "outputs": [],
   "source": [
    "# Initialize Tree-based Classifiers\n",
    "DTC = DecisionTreeClassifier(random_state=seed) \n",
    "RFC = RandomForestClassifier(random_state=seed) \n",
    "ETC = ExtraTreesClassifier(random_state=seed)\n",
    "ABC = AdaBoostClassifier(random_state=seed)\n",
    "XGBC = XGBClassifier(random_state=seed)\n",
    "\n",
    "# List of Tree-based Classifiers used for feature Selection\n",
    "tree_clf = [DTC, RFC, ETC, ABC, XGBC]\n",
    "\n",
    "# List of Classifier Names\n",
    "name_clf = [\"DTC\", \"RFC\", \"ETC\", \"ABC\", \"XGBC\"]"
   ]
  },
  {
   "cell_type": "code",
   "execution_count": null,
   "metadata": {
    "ExecuteTime": {
     "end_time": "2020-05-11T09:13:58.552433Z",
     "start_time": "2020-05-11T09:13:51.104Z"
    }
   },
   "outputs": [],
   "source": [
    "%%capture\n",
    "\n",
    "# Create Dictionary for Feature Selection Results\n",
    "results_fs = {}\n",
    "\n",
    "# Use feature_selection function \n",
    "feature_selection(results_fs, tree_clf, name_clf, X_train, y_train)"
   ]
  },
  {
   "cell_type": "markdown",
   "metadata": {},
   "source": [
    "##### Visualisation of Feature Importance of tree-based Classifiers"
   ]
  },
  {
   "cell_type": "code",
   "execution_count": null,
   "metadata": {
    "ExecuteTime": {
     "end_time": "2020-05-11T09:13:58.557436Z",
     "start_time": "2020-05-11T09:13:51.114Z"
    }
   },
   "outputs": [],
   "source": [
    "# Making Dataframes from results_fs Dictionary\n",
    "dtc_dataframe = pd.DataFrame(results_fs[\"DTC\"]).rename(columns={0:\"miRNA\", 1:\"importance_value\"})\n",
    "rfc_dataframe = pd.DataFrame(results_fs[\"RFC\"]).rename(columns={0:\"miRNA\", 1:\"importance_value\"})\n",
    "etc_dataframe = pd.DataFrame(results_fs[\"ETC\"]).rename(columns={0:\"miRNA\", 1:\"importance_value\"})\n",
    "abc_dataframe = pd.DataFrame(results_fs[\"ABC\"]).rename(columns={0:\"miRNA\", 1:\"importance_value\"})\n",
    "xgbc_dataframe = pd.DataFrame(results_fs[\"XGBC\"]).rename(columns={0:\"miRNA\", 1:\"importance_value\"})"
   ]
  },
  {
   "cell_type": "code",
   "execution_count": null,
   "metadata": {
    "ExecuteTime": {
     "end_time": "2020-05-11T09:13:58.562417Z",
     "start_time": "2020-05-11T09:13:51.123Z"
    }
   },
   "outputs": [],
   "source": [
    "# Plots for Feature Selection\n",
    "f, (ax1, ax2, ax3, ax4, ax5) = plt.subplots(5, 1, figsize=(10, 30))\n",
    "\n",
    "ax1.set_title(\"Feature Selection Decision Tree Classifier\")\n",
    "ax2.set_title(\"Feature Selection Random Forrest Classifier\")\n",
    "ax3.set_title(\"Feature Selection Extra Tree Classifier\")\n",
    "ax4.set_title(\"Feature Selection Ada Boost Classifier\")\n",
    "ax5.set_title(\"Feature Selection XG Boost Classifier\")\n",
    "\n",
    "\n",
    "sns.barplot(y=\"miRNA\", x=\"importance_value\", data=dtc_dataframe, ax=ax1, palette=current_palette);\n",
    "sns.barplot(y=\"miRNA\", x=\"importance_value\", data=rfc_dataframe, ax=ax2, palette=current_palette);\n",
    "sns.barplot(y=\"miRNA\", x=\"importance_value\", data=etc_dataframe, ax=ax3, palette=current_palette); \n",
    "sns.barplot(y=\"miRNA\", x=\"importance_value\", data=abc_dataframe, ax=ax4, palette=current_palette);\n",
    "sns.barplot(y=\"miRNA\", x=\"importance_value\", data=xgbc_dataframe, ax=ax5, palette=current_palette);\n",
    "plt.savefig('figures/feature_selection', transparent=True, dpi=300);"
   ]
  },
  {
   "cell_type": "markdown",
   "metadata": {},
   "source": [
    "##### Combination of tree-based Classifiers (TBC)"
   ]
  },
  {
   "cell_type": "code",
   "execution_count": null,
   "metadata": {
    "ExecuteTime": {
     "end_time": "2020-05-11T09:13:58.566887Z",
     "start_time": "2020-05-11T09:13:51.133Z"
    }
   },
   "outputs": [],
   "source": [
    "%%capture\n",
    "\n",
    "# Create a new Dictionary for Feature Selection Results \n",
    "# from tree-based Classifiers which includes all values (n=None)\n",
    "results_combination = {}\n",
    "\n",
    "# Use feature_selection function \n",
    "feature_selection(results_combination, tree_clf, name_clf, X_train, y_train, n=None)"
   ]
  },
  {
   "cell_type": "code",
   "execution_count": null,
   "metadata": {
    "ExecuteTime": {
     "end_time": "2020-05-11T09:13:58.572076Z",
     "start_time": "2020-05-11T09:13:51.142Z"
    }
   },
   "outputs": [],
   "source": [
    "# Making Dataframes from results_combination Dictionary\n",
    "dtc_combi = pd.DataFrame(results_combination[\"DTC\"]).rename(columns={0:\"miRNA_dtc\", 1:\"iv_dtc\"})\n",
    "rfc_combi = pd.DataFrame(results_combination[\"RFC\"]).rename(columns={0:\"miRNA_rfc\", 1:\"iv_rfc\"})\n",
    "etc_combi = pd.DataFrame(results_combination[\"ETC\"]).rename(columns={0:\"miRNA_etc\", 1:\"iv_etc\"})\n",
    "abc_combi = pd.DataFrame(results_combination[\"ABC\"]).rename(columns={0:\"miRNA_abc\", 1:\"iv_abc\"})\n",
    "xgbc_combi = pd.DataFrame(results_combination[\"XGBC\"]).rename(columns={0:\"miRNA_xgbc\", 1:\"iv_xgbc\"})"
   ]
  },
  {
   "cell_type": "code",
   "execution_count": null,
   "metadata": {
    "ExecuteTime": {
     "end_time": "2020-05-11T09:13:58.576589Z",
     "start_time": "2020-05-11T09:13:51.150Z"
    }
   },
   "outputs": [],
   "source": [
    "# Sort Dataframes by miRNA\n",
    "dtc_combi = dtc_combi.sort_values(by ='miRNA_dtc', axis=0 ).reset_index()\n",
    "rfc_combi = rfc_combi.sort_values(by ='miRNA_rfc', axis=0 ).reset_index()\n",
    "etc_combi = etc_combi.sort_values(by ='miRNA_etc', axis=0 ).reset_index()\n",
    "abc_combi = abc_combi.sort_values(by ='miRNA_abc', axis=0 ).reset_index()\n",
    "xgbc_combi = xgbc_combi.sort_values(by ='miRNA_xgbc', axis=0 ).reset_index()"
   ]
  },
  {
   "cell_type": "code",
   "execution_count": null,
   "metadata": {
    "ExecuteTime": {
     "end_time": "2020-05-11T09:13:58.581678Z",
     "start_time": "2020-05-11T09:13:51.160Z"
    }
   },
   "outputs": [],
   "source": [
    "# and combine all Dataframes in 1 dataframe\n",
    "df_combi = pd.concat([dtc_combi, rfc_combi, etc_combi, abc_combi, xgbc_combi], axis=1)"
   ]
  },
  {
   "cell_type": "code",
   "execution_count": null,
   "metadata": {
    "ExecuteTime": {
     "end_time": "2020-05-11T09:13:58.585368Z",
     "start_time": "2020-05-11T09:13:51.170Z"
    }
   },
   "outputs": [],
   "source": [
    "# then drop all columns not needed\n",
    "drop_col = [\"index\", \"miRNA_rfc\", \"miRNA_etc\", \"miRNA_abc\", \"miRNA_xgbc\"]\n",
    "df_combi = df_combi.drop(drop_col, axis=1)\n",
    "\n",
    "# rename \"miRNA_dtc\" to miRNA\n",
    "df_combi = df_combi.rename(columns={\"miRNA_dtc\":\"miRNA\"})\n",
    "\n",
    "# set new index\n",
    "df_combi = df_combi.set_index(\"miRNA\")\n",
    "\n",
    "# calculate the sum of all importance values for each miRNA\n",
    "series_combi = df_combi.sum(axis=1)\n",
    "\n",
    "# sort descending by Importance Value\n",
    "series_combi = series_combi.sort_values(ascending=False)\n",
    "\n",
    "# make a list of tuples\n",
    "list_combi = list(series_combi.items())"
   ]
  },
  {
   "cell_type": "code",
   "execution_count": null,
   "metadata": {
    "ExecuteTime": {
     "end_time": "2020-05-11T09:13:58.590257Z",
     "start_time": "2020-05-11T09:13:51.178Z"
    }
   },
   "outputs": [],
   "source": [
    "# select the new TOP n (default=20)\n",
    "n=20\n",
    "list_combi = list_combi[0:n]"
   ]
  },
  {
   "cell_type": "code",
   "execution_count": null,
   "metadata": {
    "ExecuteTime": {
     "end_time": "2020-05-11T09:13:58.594457Z",
     "start_time": "2020-05-11T09:13:51.194Z"
    }
   },
   "outputs": [],
   "source": [
    "# create a new results dictionary in the common format (TBC = all Tree-Based Classifiers)\n",
    "results_TBC = {\"TBC\":list_combi}"
   ]
  },
  {
   "cell_type": "markdown",
   "metadata": {
    "ExecuteTime": {
     "end_time": "2020-04-23T12:44:34.501576Z",
     "start_time": "2020-04-23T12:44:34.494317Z"
    }
   },
   "source": [
    "##### Visualisation of Combination of tree-based Classifiers"
   ]
  },
  {
   "cell_type": "code",
   "execution_count": null,
   "metadata": {
    "ExecuteTime": {
     "end_time": "2020-05-11T09:13:58.600436Z",
     "start_time": "2020-05-11T09:13:51.205Z"
    }
   },
   "outputs": [],
   "source": [
    "# Making Dataframes from results_TBC Dictionary\n",
    "tbc_dataframe = pd.DataFrame(results_TBC[\"TBC\"]).rename(columns={0:\"miRNA\", 1:\"importance_value\"})"
   ]
  },
  {
   "cell_type": "code",
   "execution_count": null,
   "metadata": {
    "ExecuteTime": {
     "end_time": "2020-05-11T09:13:58.603803Z",
     "start_time": "2020-05-11T09:13:51.217Z"
    }
   },
   "outputs": [],
   "source": [
    "# Plots for Feature Selection\n",
    "ax6 = sns.barplot(y=\"miRNA\", x=\"importance_value\", data=tbc_dataframe, palette=current_palette)\n",
    "ax6.set_title(\"Feature Selection Combination Tree-Based Classifier\");\n",
    "plt.savefig('figures/feature_selection_combination', transparent=True, dpi=300);"
   ]
  },
  {
   "cell_type": "markdown",
   "metadata": {
    "ExecuteTime": {
     "end_time": "2020-04-22T08:04:24.970415Z",
     "start_time": "2020-04-22T08:04:24.966987Z"
    }
   },
   "source": [
    "#### Recursive Feature Elimination (RFE) with non-tree-based Classifiers"
   ]
  },
  {
   "cell_type": "code",
   "execution_count": null,
   "metadata": {
    "ExecuteTime": {
     "end_time": "2020-05-11T09:13:58.605825Z",
     "start_time": "2020-05-11T09:13:51.228Z"
    }
   },
   "outputs": [],
   "source": [
    "# Classifier Models for Recursive Feature Elemination\n",
    "# (estimator is fitted recursive with \"step=1\" less Features\n",
    "# and Features are ranked based on their contribution/importance)\n",
    "\n",
    "#Initilizing non-tree-based Classifier Models\n",
    "LG2 = LogisticRegression(random_state=seed)\n",
    "SGDC2 = SGDClassifier(random_state=seed)   \n",
    "    \n",
    "# List of non-tree-based Classifiers used for Feature Selection\n",
    "non_tree_clf = [LG2, SGDC2]\n",
    "\n",
    "# List of non-tree-based Classifiers names\n",
    "nt_name_clf = [\"LG\", \"SGDC\"]"
   ]
  },
  {
   "cell_type": "code",
   "execution_count": null,
   "metadata": {
    "ExecuteTime": {
     "end_time": "2020-05-11T09:13:58.609239Z",
     "start_time": "2020-05-11T09:13:51.236Z"
    }
   },
   "outputs": [],
   "source": [
    "%%capture\n",
    "\n",
    "# Create Dictionary for Feature Selection Results\n",
    "results_nt_clf = {}\n",
    "\n",
    "# Use funtion for RFE based feature selection\n",
    "rfe_selection(results_nt_clf, non_tree_clf, nt_name_clf, X_train, y_train)"
   ]
  },
  {
   "cell_type": "markdown",
   "metadata": {
    "ExecuteTime": {
     "end_time": "2020-04-21T12:48:27.472968Z",
     "start_time": "2020-04-21T12:48:27.469527Z"
    }
   },
   "source": [
    "### Data Selection TOP20 Features from miRNA-Expression Data"
   ]
  },
  {
   "cell_type": "markdown",
   "metadata": {
    "ExecuteTime": {
     "end_time": "2020-04-21T08:18:30.597962Z",
     "start_time": "2020-04-21T08:18:30.593829Z"
    }
   },
   "source": [
    "#### TOP20 Features Decision Tree Classifier (DTC)"
   ]
  },
  {
   "cell_type": "code",
   "execution_count": null,
   "metadata": {
    "ExecuteTime": {
     "end_time": "2020-05-11T09:13:58.616767Z",
     "start_time": "2020-05-11T09:13:51.247Z"
    }
   },
   "outputs": [],
   "source": [
    "# use dataframe_selection function for creating new dataframe\n",
    "X_dtc_top20 = dataframe_selection(results_fs[\"DTC\"], X_train=X_train)"
   ]
  },
  {
   "cell_type": "markdown",
   "metadata": {
    "ExecuteTime": {
     "end_time": "2020-04-21T09:38:24.673758Z",
     "start_time": "2020-04-21T09:38:24.670280Z"
    }
   },
   "source": [
    "#### TOP20 Features  Random Forrest Classifier (RFC)"
   ]
  },
  {
   "cell_type": "code",
   "execution_count": null,
   "metadata": {
    "ExecuteTime": {
     "end_time": "2020-05-11T09:13:58.619370Z",
     "start_time": "2020-05-11T09:13:51.258Z"
    }
   },
   "outputs": [],
   "source": [
    "# use dataframe_selection function for creating new dataframe\n",
    "X_rfc_top20 = dataframe_selection(results_fs[\"RFC\"], X_train=X_train)"
   ]
  },
  {
   "cell_type": "markdown",
   "metadata": {
    "ExecuteTime": {
     "end_time": "2020-04-21T11:37:11.145109Z",
     "start_time": "2020-04-21T11:37:11.142311Z"
    }
   },
   "source": [
    "#### TOP20 Features  Extra Tree Classifier (ETC)"
   ]
  },
  {
   "cell_type": "code",
   "execution_count": null,
   "metadata": {
    "ExecuteTime": {
     "end_time": "2020-05-11T09:13:58.625235Z",
     "start_time": "2020-05-11T09:13:51.268Z"
    }
   },
   "outputs": [],
   "source": [
    "# use dataframe_selection function for creating new dataframe\n",
    "X_etc_top20 = dataframe_selection(results_fs[\"ETC\"], X_train=X_train)"
   ]
  },
  {
   "cell_type": "markdown",
   "metadata": {
    "ExecuteTime": {
     "end_time": "2020-04-21T11:41:42.573948Z",
     "start_time": "2020-04-21T11:41:42.570966Z"
    }
   },
   "source": [
    "#### TOP20 Features Ada Boost Classifier (ABC)"
   ]
  },
  {
   "cell_type": "code",
   "execution_count": null,
   "metadata": {
    "ExecuteTime": {
     "end_time": "2020-05-11T09:13:58.629989Z",
     "start_time": "2020-05-11T09:13:51.277Z"
    }
   },
   "outputs": [],
   "source": [
    "# use dataframe_selection function for creating new dataframe\n",
    "X_abc_top20 = dataframe_selection(results_fs[\"ABC\"], X_train=X_train)"
   ]
  },
  {
   "cell_type": "markdown",
   "metadata": {
    "ExecuteTime": {
     "end_time": "2020-04-21T11:43:23.131065Z",
     "start_time": "2020-04-21T11:43:23.125393Z"
    }
   },
   "source": [
    "#### TOP20 Features  XG Boost Classifier (XGBC)"
   ]
  },
  {
   "cell_type": "code",
   "execution_count": null,
   "metadata": {
    "ExecuteTime": {
     "end_time": "2020-05-11T09:13:58.632260Z",
     "start_time": "2020-05-11T09:13:51.286Z"
    }
   },
   "outputs": [],
   "source": [
    "# use dataframe_selection function for creating new dataframe\n",
    "X_xgbc_top20 = dataframe_selection(results_fs[\"XGBC\"], X_train=X_train)"
   ]
  },
  {
   "cell_type": "markdown",
   "metadata": {},
   "source": [
    "#### TOP20 Features Combination of tree-based Classifiers (TBC)"
   ]
  },
  {
   "cell_type": "code",
   "execution_count": null,
   "metadata": {
    "ExecuteTime": {
     "end_time": "2020-05-11T09:13:58.634520Z",
     "start_time": "2020-05-11T09:13:51.296Z"
    }
   },
   "outputs": [],
   "source": [
    "# use dataframe_selection function for creating new dataframe\n",
    "X_tbc_top20 = dataframe_selection(results_TBC[\"TBC\"], X_train=X_train)"
   ]
  },
  {
   "cell_type": "markdown",
   "metadata": {
    "ExecuteTime": {
     "end_time": "2020-04-23T13:44:43.289039Z",
     "start_time": "2020-04-23T13:44:43.285354Z"
    }
   },
   "source": [
    "#### TOP20 Features Logistic Regression Classifier (LGC)"
   ]
  },
  {
   "cell_type": "code",
   "execution_count": null,
   "metadata": {
    "ExecuteTime": {
     "end_time": "2020-05-11T09:13:58.636727Z",
     "start_time": "2020-05-11T09:13:51.305Z"
    }
   },
   "outputs": [],
   "source": [
    "# use dataframe_selection function for creating new dataframe\n",
    "X_lgc_top20 = dataframe_selection(results_nt_clf[\"LG\"], X_train=X_train)"
   ]
  },
  {
   "cell_type": "markdown",
   "metadata": {
    "ExecuteTime": {
     "end_time": "2020-04-23T13:47:37.998357Z",
     "start_time": "2020-04-23T13:47:37.994679Z"
    }
   },
   "source": [
    "#### TOP20 Features SGD Classifer (SGDC)"
   ]
  },
  {
   "cell_type": "code",
   "execution_count": null,
   "metadata": {
    "ExecuteTime": {
     "end_time": "2020-05-11T09:13:58.643975Z",
     "start_time": "2020-05-11T09:13:51.316Z"
    }
   },
   "outputs": [],
   "source": [
    "# use dataframe_selection function for creating new dataframe\n",
    "X_sgdc_top20 = dataframe_selection(results_nt_clf[\"SGDC\"], X_train=X_train)"
   ]
  },
  {
   "cell_type": "markdown",
   "metadata": {
    "ExecuteTime": {
     "end_time": "2020-05-08T17:58:46.612101Z",
     "start_time": "2020-05-08T17:58:46.607302Z"
    }
   },
   "source": [
    "### Data Selection Annotation"
   ]
  },
  {
   "cell_type": "markdown",
   "metadata": {},
   "source": [
    "#### Sex"
   ]
  },
  {
   "cell_type": "code",
   "execution_count": null,
   "metadata": {
    "ExecuteTime": {
     "end_time": "2020-05-11T09:13:58.649459Z",
     "start_time": "2020-05-11T09:13:51.328Z"
    }
   },
   "outputs": [],
   "source": [
    "# create new dataframe\n",
    "df_sex = df4.copy()"
   ]
  },
  {
   "cell_type": "code",
   "execution_count": null,
   "metadata": {
    "ExecuteTime": {
     "end_time": "2020-05-11T09:13:58.652446Z",
     "start_time": "2020-05-11T09:13:51.337Z"
    }
   },
   "outputs": [],
   "source": [
    "# First I need to exclude some Samples as they are missing values for Sex.\n",
    "# As these are only 6 values I decide to drop them from the dataframe"
   ]
  },
  {
   "cell_type": "code",
   "execution_count": null,
   "metadata": {
    "ExecuteTime": {
     "end_time": "2020-05-11T09:13:58.654706Z",
     "start_time": "2020-05-11T09:13:51.350Z"
    }
   },
   "outputs": [],
   "source": [
    "# check for SampleIDs of the missing values for Sex\n",
    "print(df_sex.shape)\n",
    "df_sex[(df_sex[\"Sex\"] != \"male\") & (df_sex[\"Sex\"] != \"female\")]"
   ]
  },
  {
   "cell_type": "code",
   "execution_count": null,
   "metadata": {
    "ExecuteTime": {
     "end_time": "2020-05-11T09:13:58.662229Z",
     "start_time": "2020-05-11T09:13:51.359Z"
    }
   },
   "outputs": [],
   "source": [
    "# Drop Instances from People without Sex Annotation\n",
    "df_sex.drop([11, 51, 61, 161, 298, 299] , axis=0, inplace=True)"
   ]
  },
  {
   "cell_type": "code",
   "execution_count": null,
   "metadata": {
    "ExecuteTime": {
     "end_time": "2020-05-11T09:13:58.666642Z",
     "start_time": "2020-05-11T09:13:51.369Z"
    }
   },
   "outputs": [],
   "source": [
    "# As Sex is a categorical I need to convert it to a dummy variable\n",
    "# thise means 1 = male and 0 = female\n",
    "\n",
    "sex_dummies = pd.get_dummies(df_sex.Sex, drop_first=True)"
   ]
  },
  {
   "cell_type": "code",
   "execution_count": null,
   "metadata": {
    "ExecuteTime": {
     "end_time": "2020-05-11T09:13:58.670960Z",
     "start_time": "2020-05-11T09:13:51.377Z"
    }
   },
   "outputs": [],
   "source": [
    "# include it to the dataframe\n",
    "df_sex = pd.concat([sex_dummies, df_sex], axis=1)"
   ]
  },
  {
   "cell_type": "code",
   "execution_count": null,
   "metadata": {
    "ExecuteTime": {
     "end_time": "2020-05-11T09:13:58.675205Z",
     "start_time": "2020-05-11T09:13:51.385Z"
    }
   },
   "outputs": [],
   "source": [
    "# Not Required Columns of complete DataFrame df_sex to List\n",
    "col_sex = ['sampleID', 'Group', 'Label', 'Sex', 'Age', 'Smoke']\n",
    "\n",
    "# Creating y and X\n",
    "y_sex = df_sex['Label']\n",
    "X_sex = df_sex.drop(col_sex, axis=1)"
   ]
  },
  {
   "cell_type": "markdown",
   "metadata": {},
   "source": [
    "##### Eval/Train-Test-Split"
   ]
  },
  {
   "cell_type": "code",
   "execution_count": null,
   "metadata": {
    "ExecuteTime": {
     "end_time": "2020-05-11T09:13:58.679398Z",
     "start_time": "2020-05-11T09:13:51.396Z"
    },
    "code_folding": []
   },
   "outputs": [],
   "source": [
    "# Separating data as before \n",
    "\n",
    "# Eval-Test-Set\n",
    "X_sex_modell, X_sex_eval, y_sex_modell, y_sex_eval = train_test_split(X_sex, y_sex, test_size=0.1, random_state=seed)\n",
    "\n",
    "# Train-Test-Split\n",
    "X_sex_train, X_sex_test, y_sex_train, y_sex_test = train_test_split(X_sex_modell, y_sex_modell, test_size=0.11, random_state=seed)"
   ]
  },
  {
   "cell_type": "markdown",
   "metadata": {
    "ExecuteTime": {
     "end_time": "2020-05-05T08:26:08.647643Z",
     "start_time": "2020-05-05T08:26:08.643859Z"
    }
   },
   "source": [
    "#### Age"
   ]
  },
  {
   "cell_type": "code",
   "execution_count": null,
   "metadata": {
    "ExecuteTime": {
     "end_time": "2020-05-11T09:13:58.682483Z",
     "start_time": "2020-05-11T09:13:51.408Z"
    }
   },
   "outputs": [],
   "source": [
    "# maybe the part below has to move to feature engineering"
   ]
  },
  {
   "cell_type": "code",
   "execution_count": null,
   "metadata": {
    "ExecuteTime": {
     "end_time": "2020-05-11T09:13:58.685653Z",
     "start_time": "2020-05-11T09:13:51.418Z"
    }
   },
   "outputs": [],
   "source": [
    "# create new dataframe\n",
    "df_age = df4.copy()"
   ]
  },
  {
   "cell_type": "code",
   "execution_count": null,
   "metadata": {
    "ExecuteTime": {
     "end_time": "2020-05-11T09:13:58.689952Z",
     "start_time": "2020-05-11T09:13:51.427Z"
    }
   },
   "outputs": [],
   "source": [
    "# First I need to exclude some Samples as they are missing values for Sex.\n",
    "# As these are only 3 values I decide to drop them from the dataframe"
   ]
  },
  {
   "cell_type": "code",
   "execution_count": null,
   "metadata": {
    "ExecuteTime": {
     "end_time": "2020-05-11T09:13:58.694925Z",
     "start_time": "2020-05-11T09:13:51.436Z"
    },
    "scrolled": true
   },
   "outputs": [],
   "source": [
    "# check for SampleIDs of the missing values for Age\n",
    "print(df_age.shape)\n",
    "df_age[df_age[\"Age\"].isna()]"
   ]
  },
  {
   "cell_type": "code",
   "execution_count": null,
   "metadata": {
    "ExecuteTime": {
     "end_time": "2020-05-11T09:13:58.700550Z",
     "start_time": "2020-05-11T09:13:51.445Z"
    }
   },
   "outputs": [],
   "source": [
    "# Drop Instances from People without Age Annotation\n",
    "df_age.drop([297, 298, 299] , axis=0, inplace=True)"
   ]
  },
  {
   "cell_type": "code",
   "execution_count": null,
   "metadata": {
    "ExecuteTime": {
     "end_time": "2020-05-11T09:13:58.705769Z",
     "start_time": "2020-05-11T09:13:51.455Z"
    }
   },
   "outputs": [],
   "source": [
    "# As we have a small subgroup / outliers between 34 and 47 check how many values this are\n",
    "df_age[df_age[\"Age\"] <= 47]"
   ]
  },
  {
   "cell_type": "code",
   "execution_count": null,
   "metadata": {
    "ExecuteTime": {
     "end_time": "2020-05-11T09:13:58.710588Z",
     "start_time": "2020-05-11T09:13:51.464Z"
    }
   },
   "outputs": [],
   "source": [
    "# As these are only 6 values I decide to drop them also from the dataframe\n",
    "\n",
    "# Drop Instances from People without Age < 40 Annotation\n",
    "df_age.drop([0, 1, 2, 3, 4, 5] , axis=0, inplace=True)"
   ]
  },
  {
   "cell_type": "code",
   "execution_count": null,
   "metadata": {
    "ExecuteTime": {
     "end_time": "2020-05-11T09:13:58.715063Z",
     "start_time": "2020-05-11T09:13:51.474Z"
    }
   },
   "outputs": [],
   "source": [
    "# Check Histogram for Age Distribution again\n",
    "plt.figure(figsize=(10,10))\n",
    "sns.distplot(df_age.Age, color=red);\n",
    "plt.savefig('figures/distribution_age_nan', transparent=True, dpi=300);\n",
    "df_age.Age.describe()"
   ]
  },
  {
   "cell_type": "code",
   "execution_count": null,
   "metadata": {
    "ExecuteTime": {
     "end_time": "2020-05-11T09:13:58.718329Z",
     "start_time": "2020-05-11T09:13:51.483Z"
    }
   },
   "outputs": [],
   "source": [
    "# Boxplot for Age again (reveals the presence of outliers)\n",
    "plt.figure(figsize=(10,10))\n",
    "sns.boxplot(df_age.Age, color=red, orient=\"v\")\n",
    "plt.xlabel('Values');\n",
    "plt.ylabel('Age');\n",
    "plt.savefig('figures/boxplot_age_nan', transparent=True, dpi=300);"
   ]
  },
  {
   "cell_type": "code",
   "execution_count": null,
   "metadata": {
    "ExecuteTime": {
     "end_time": "2020-05-11T09:13:58.720306Z",
     "start_time": "2020-05-11T09:13:51.490Z"
    }
   },
   "outputs": [],
   "source": [
    "# Not Required Columns of complete DataFrame df_sex to List\n",
    "col_age = ['sampleID', 'Group', 'Label', 'Sex', 'Smoke']\n",
    "\n",
    "# Creating y and X\n",
    "y_age = df_age['Label']\n",
    "X_age = df_age.drop(col_age, axis=1)"
   ]
  },
  {
   "cell_type": "markdown",
   "metadata": {},
   "source": [
    "##### Eval/Train-Test-Split"
   ]
  },
  {
   "cell_type": "code",
   "execution_count": null,
   "metadata": {
    "ExecuteTime": {
     "end_time": "2020-05-11T09:13:58.727541Z",
     "start_time": "2020-05-11T09:13:51.503Z"
    }
   },
   "outputs": [],
   "source": [
    "# Separating data as before \n",
    "\n",
    "# Eval-Test-Set\n",
    "X_age_modell, X_sex_eval, y_age_modell, y_age_eval = train_test_split(X_age, y_age, test_size=0.1, random_state=seed)\n",
    "\n",
    "# Train-Test-Split\n",
    "X_age_train, X_age_test, y_age_train, y_age_test = train_test_split(X_age_modell, y_age_modell, test_size=0.11, random_state=seed)"
   ]
  },
  {
   "cell_type": "markdown",
   "metadata": {
    "ExecuteTime": {
     "end_time": "2020-05-05T09:59:12.847588Z",
     "start_time": "2020-05-05T09:59:12.844298Z"
    }
   },
   "source": [
    "#### Sex + Age"
   ]
  },
  {
   "cell_type": "code",
   "execution_count": null,
   "metadata": {
    "ExecuteTime": {
     "end_time": "2020-05-11T09:13:58.733128Z",
     "start_time": "2020-05-11T09:13:51.515Z"
    }
   },
   "outputs": [],
   "source": [
    "# maybe the part below has to move to feature engineering"
   ]
  },
  {
   "cell_type": "code",
   "execution_count": null,
   "metadata": {
    "ExecuteTime": {
     "end_time": "2020-05-11T09:13:58.735171Z",
     "start_time": "2020-05-11T09:13:51.525Z"
    }
   },
   "outputs": [],
   "source": [
    "# create new dataframe\n",
    "df_sexage = df_age.copy()"
   ]
  },
  {
   "cell_type": "code",
   "execution_count": null,
   "metadata": {
    "ExecuteTime": {
     "end_time": "2020-05-11T09:13:58.741048Z",
     "start_time": "2020-05-11T09:13:51.534Z"
    }
   },
   "outputs": [],
   "source": [
    "# First I need to exclude some Samples as they are missing values for Sex.\n",
    "# As these are only 4 values I decide to drop them from the dataframe"
   ]
  },
  {
   "cell_type": "code",
   "execution_count": null,
   "metadata": {
    "ExecuteTime": {
     "end_time": "2020-05-11T09:13:58.746097Z",
     "start_time": "2020-05-11T09:13:51.542Z"
    }
   },
   "outputs": [],
   "source": [
    "# check for SampleIDs of the missing values for Sex\n",
    "print(df_sexage.shape)\n",
    "df_sexage[(df_sexage[\"Sex\"] != \"male\") & (df_sexage[\"Sex\"] != \"female\")]"
   ]
  },
  {
   "cell_type": "code",
   "execution_count": null,
   "metadata": {
    "ExecuteTime": {
     "end_time": "2020-05-11T09:13:58.749641Z",
     "start_time": "2020-05-11T09:13:51.551Z"
    }
   },
   "outputs": [],
   "source": [
    "# Drop Instances from People without Sex Annotation\n",
    "df_sexage.drop([11, 51, 61, 161] , axis=0, inplace=True)"
   ]
  },
  {
   "cell_type": "code",
   "execution_count": null,
   "metadata": {
    "ExecuteTime": {
     "end_time": "2020-05-11T09:13:58.752130Z",
     "start_time": "2020-05-11T09:13:51.558Z"
    }
   },
   "outputs": [],
   "source": [
    "# Again as Sex is a categorical I need to convert it to a dummy variable\n",
    "# thise means 1 = male and 0 = female\n",
    "\n",
    "sexage_dummies = pd.get_dummies(df_sexage.Sex, drop_first=True)"
   ]
  },
  {
   "cell_type": "code",
   "execution_count": null,
   "metadata": {
    "ExecuteTime": {
     "end_time": "2020-05-11T09:13:58.758605Z",
     "start_time": "2020-05-11T09:13:51.567Z"
    }
   },
   "outputs": [],
   "source": [
    "# include it to the dataframe\n",
    "df_sexage = pd.concat([sexage_dummies, df_sexage], axis=1)"
   ]
  },
  {
   "cell_type": "code",
   "execution_count": null,
   "metadata": {
    "ExecuteTime": {
     "end_time": "2020-05-11T09:13:58.763895Z",
     "start_time": "2020-05-11T09:13:51.574Z"
    }
   },
   "outputs": [],
   "source": [
    "# Not Required Columns of complete DataFrame df_sex to List\n",
    "col_sexage = ['sampleID', 'Group', 'Label', 'Sex', 'Smoke']\n",
    "\n",
    "# Creating y and X\n",
    "y_sexage = df_sexage['Label']\n",
    "X_sexage = df_sexage.drop(col_sexage, axis=1)"
   ]
  },
  {
   "cell_type": "markdown",
   "metadata": {},
   "source": [
    "##### Eval/Train-Test-Split"
   ]
  },
  {
   "cell_type": "code",
   "execution_count": null,
   "metadata": {
    "ExecuteTime": {
     "end_time": "2020-05-11T09:13:58.767608Z",
     "start_time": "2020-05-11T09:13:51.585Z"
    }
   },
   "outputs": [],
   "source": [
    "# Separating data as before \n",
    "\n",
    "# Eval-Test-Set\n",
    "X_sexage_modell, X_sexage_eval, y_sexage_modell, y_sexage_eval = train_test_split(X_sexage, y_sexage, test_size=0.1, random_state=seed)\n",
    "\n",
    "# Train-Test-Split\n",
    "X_sexage_train, X_sexage_test, y_sexage_train, y_sexage_test = train_test_split(X_sexage_modell, y_sexage_modell, test_size=0.11, random_state=seed)"
   ]
  },
  {
   "cell_type": "markdown",
   "metadata": {
    "ExecuteTime": {
     "end_time": "2020-05-05T12:12:20.797215Z",
     "start_time": "2020-05-05T12:12:20.795000Z"
    }
   },
   "source": [
    "#### Smoke"
   ]
  },
  {
   "cell_type": "code",
   "execution_count": null,
   "metadata": {
    "ExecuteTime": {
     "end_time": "2020-05-11T09:13:58.773075Z",
     "start_time": "2020-05-11T09:13:51.595Z"
    }
   },
   "outputs": [],
   "source": [
    "# Even if it is not usefull or reasonable to use the Smoke annotation as\n",
    "# predicting value, I would like to check it to be comprehensiv"
   ]
  },
  {
   "cell_type": "code",
   "execution_count": null,
   "metadata": {
    "ExecuteTime": {
     "end_time": "2020-05-11T09:13:58.776362Z",
     "start_time": "2020-05-11T09:13:51.602Z"
    }
   },
   "outputs": [],
   "source": [
    "# maybe the part below has to move to feature engineering"
   ]
  },
  {
   "cell_type": "code",
   "execution_count": null,
   "metadata": {
    "ExecuteTime": {
     "end_time": "2020-05-11T09:13:58.780078Z",
     "start_time": "2020-05-11T09:13:51.610Z"
    }
   },
   "outputs": [],
   "source": [
    "# create new dataframe\n",
    "df_smoke = df4.copy()"
   ]
  },
  {
   "cell_type": "code",
   "execution_count": null,
   "metadata": {
    "ExecuteTime": {
     "end_time": "2020-05-11T09:13:58.781843Z",
     "start_time": "2020-05-11T09:13:51.618Z"
    }
   },
   "outputs": [],
   "source": [
    "# First I need to exclude Samples as they are missing values for Smoke.\n",
    "# Unfortunately there are 53 Samples, but I decide to drop them from the dataframe"
   ]
  },
  {
   "cell_type": "code",
   "execution_count": null,
   "metadata": {
    "ExecuteTime": {
     "end_time": "2020-05-11T09:13:58.786076Z",
     "start_time": "2020-05-11T09:13:51.631Z"
    }
   },
   "outputs": [],
   "source": [
    "# check for SampleIDs of the missing values\n",
    "print(df_smoke.shape)\n",
    "df_smoke[df_smoke[\"Smoke\"].isna()]"
   ]
  },
  {
   "cell_type": "code",
   "execution_count": null,
   "metadata": {
    "ExecuteTime": {
     "end_time": "2020-05-11T09:13:58.790954Z",
     "start_time": "2020-05-11T09:13:51.639Z"
    }
   },
   "outputs": [],
   "source": [
    "# Drop Instances from People without Smoke Annotation\n",
    "df_smoke.dropna(subset=[\"Smoke\"], how=\"any\",axis=0, inplace=True)"
   ]
  },
  {
   "cell_type": "code",
   "execution_count": null,
   "metadata": {
    "ExecuteTime": {
     "end_time": "2020-05-11T09:13:58.796127Z",
     "start_time": "2020-05-11T09:13:51.647Z"
    }
   },
   "outputs": [],
   "source": [
    "# As Smoke is a categorical I need to convert it to a dummy variable\n",
    "# this means Past = 0 or 1; Present = 0 or 1; Never = both 0\n",
    "\n",
    "smoke_dummies = pd.get_dummies(df_smoke.Smoke, drop_first=True)"
   ]
  },
  {
   "cell_type": "code",
   "execution_count": null,
   "metadata": {
    "ExecuteTime": {
     "end_time": "2020-05-11T09:13:58.802036Z",
     "start_time": "2020-05-11T09:13:51.655Z"
    }
   },
   "outputs": [],
   "source": [
    "# include it to the dataframe\n",
    "df_smoke = pd.concat([smoke_dummies, df_smoke], axis=1)"
   ]
  },
  {
   "cell_type": "code",
   "execution_count": null,
   "metadata": {
    "ExecuteTime": {
     "end_time": "2020-05-11T09:13:58.804775Z",
     "start_time": "2020-05-11T09:13:51.663Z"
    }
   },
   "outputs": [],
   "source": [
    "# Not Required Columns of complete DataFrame df_smoke to List\n",
    "col_smoke = ['sampleID', 'Group', 'Label', 'Sex', 'Age', 'Smoke']\n",
    "\n",
    "# Creating y and X\n",
    "y_smoke = df_smoke['Label']\n",
    "X_smoke = df_smoke.drop(col_smoke, axis=1)"
   ]
  },
  {
   "cell_type": "markdown",
   "metadata": {},
   "source": [
    "##### Eval/Train-Test-Split"
   ]
  },
  {
   "cell_type": "code",
   "execution_count": null,
   "metadata": {
    "ExecuteTime": {
     "end_time": "2020-05-11T09:13:58.806983Z",
     "start_time": "2020-05-11T09:13:51.672Z"
    }
   },
   "outputs": [],
   "source": [
    "# Separating data as before \n",
    "\n",
    "# Eval-Test-Set\n",
    "X_smoke_modell, X_smoke_eval, y_smoke_modell, y_smoke_eval = train_test_split(X_smoke, y_smoke, test_size=0.1, random_state=seed)\n",
    "\n",
    "# Train-Test-Split\n",
    "X_smoke_train, X_smoke_test, y_smoke_train, y_smoke_test = train_test_split(X_smoke_modell, y_smoke_modell, test_size=0.11, random_state=seed)"
   ]
  },
  {
   "cell_type": "markdown",
   "metadata": {
    "ExecuteTime": {
     "end_time": "2020-04-15T13:21:31.282249Z",
     "start_time": "2020-04-15T13:21:31.278600Z"
    }
   },
   "source": [
    "## Predictive Modelling"
   ]
  },
  {
   "cell_type": "markdown",
   "metadata": {},
   "source": [
    "### Metric"
   ]
  },
  {
   "cell_type": "markdown",
   "metadata": {},
   "source": [
    "For our purpose **precision** seems to be a good metric for several reasons.<br>  <br>  <br>In summary, precision seems to be a good metric because lung cancer is a very abundant disease with bad prognosis at advanced stages, which makes an annual screening method with low risks for the patient reasonable. As existing methods which could be used for screenings cause radiation exposure with high FPR and therefore overdiagnosis with economic burden and patient anxiety a method with **high precision to detect lung cancer** is needed.<br>  <br>Here I will optimize the prediction models on precision to detect lung cancer for the stated reasons. As there is a trade-off between precision and recall (high threshold will lead to high precision but low recall and vice versa) the threshold could be adjusted depending on stakeholders interests. Thus the ROC and the ROC AUC values are also used to compare the models."
   ]
  },
  {
   "cell_type": "markdown",
   "metadata": {
    "ExecuteTime": {
     "end_time": "2020-04-20T14:26:29.781132Z",
     "start_time": "2020-04-20T14:26:29.766523Z"
    }
   },
   "source": [
    "### Model Selection from different Classifier"
   ]
  },
  {
   "cell_type": "code",
   "execution_count": null,
   "metadata": {
    "ExecuteTime": {
     "end_time": "2020-05-11T09:13:58.809155Z",
     "start_time": "2020-05-11T09:13:52.136Z"
    },
    "code_folding": []
   },
   "outputs": [],
   "source": [
    "# Initialize Classifier Models\n",
    "DC = DummyClassifier(random_state=seed) # The Dummy Classifier is used as Baseline Model\n",
    "LG = LogisticRegression(random_state=seed)\n",
    "SGDC1 = SGDClassifier(random_state=seed, loss='modified_huber')\n",
    "KNN1 = KNeighborsClassifier()\n",
    "GNB = GaussianNB()\n",
    "SVC1 = SVC(random_state=seed, probability=True)\n",
    "DTC1 = DecisionTreeClassifier(random_state=seed)\n",
    "RFC1 = RandomForestClassifier(random_state=seed) \n",
    "ETC1 = ExtraTreesClassifier(random_state=seed)\n",
    "ABC1 = AdaBoostClassifier(random_state=seed)\n",
    "XGBC1 = XGBClassifier(random_state=seed)\n",
    "\n",
    "# List for models to be evaluated\n",
    "model_clf = [DC, LG, SGDC1, KNN1, GNB, SVC1, DTC1, RFC1, ETC1, ABC1, XGBC1]\n",
    "\n",
    "# List for model names\n",
    "name_model = [\"DC\", \"LG\", \"SGDC\", \"KNN\", \"GNB\", \"SVC\", \"DTC\", \"RFC\", \"ETC\", \"ABC\", \"XGBC\"]"
   ]
  },
  {
   "cell_type": "markdown",
   "metadata": {
    "ExecuteTime": {
     "end_time": "2020-04-21T08:56:29.230631Z",
     "start_time": "2020-04-21T08:56:29.227258Z"
    }
   },
   "source": [
    "#### without Feature Selection"
   ]
  },
  {
   "cell_type": "code",
   "execution_count": null,
   "metadata": {
    "ExecuteTime": {
     "end_time": "2020-05-11T09:13:58.812120Z",
     "start_time": "2020-05-11T09:13:52.147Z"
    }
   },
   "outputs": [],
   "source": [
    "%%capture\n",
    "\n",
    "# Create Dictionary for Evaluation results\n",
    "results_all = {}\n",
    "\n",
    "# Use model_evaluation function with complete Dataset (X_train = all Features, y_train)\n",
    "model_evaluation(results_all, model_clf, name_model, X_train, y_train)"
   ]
  },
  {
   "cell_type": "markdown",
   "metadata": {
    "ExecuteTime": {
     "end_time": "2020-04-20T14:27:36.720813Z",
     "start_time": "2020-04-20T14:27:36.695862Z"
    }
   },
   "source": [
    "###### Visualisation Model Selection"
   ]
  },
  {
   "cell_type": "code",
   "execution_count": null,
   "metadata": {
    "ExecuteTime": {
     "end_time": "2020-05-11T09:13:58.817359Z",
     "start_time": "2020-05-11T09:13:52.158Z"
    }
   },
   "outputs": [],
   "source": [
    "# Create Dataframe from Crossvalidation Results\n",
    "cv_dataframe = pd.DataFrame(results_all).T\n",
    "cv_dataframe"
   ]
  },
  {
   "cell_type": "code",
   "execution_count": null,
   "metadata": {
    "ExecuteTime": {
     "end_time": "2020-05-11T09:13:58.820535Z",
     "start_time": "2020-05-11T09:13:52.166Z"
    }
   },
   "outputs": [],
   "source": [
    "# Plots for Model Selection\n",
    "f, axes = plt.subplots(2, 2, figsize=(20, 10))\n",
    "\n",
    "sns.barplot(y=cv_dataframe.Accuracy, x=cv_dataframe.index, ax=axes[0][0], palette=current_palette);\n",
    "sns.barplot(y=cv_dataframe.Roc_AUC, x=cv_dataframe.index, ax=axes[1][0], palette=current_palette);\n",
    "sns.barplot(y=cv_dataframe.Precision, x=cv_dataframe.index, ax=axes[0][1], palette=current_palette);\n",
    "sns.barplot(y=cv_dataframe.F1, x=cv_dataframe.index, ax=axes[1][1], palette=current_palette);\n",
    "\n",
    "axes[0][0].set_title(\"Model Selection Accuracy\");\n",
    "axes[1][0].set_title(\"Model Selection Roc_AUC\");\n",
    "axes[0][1].set_title(\"Model Selection Precision\");\n",
    "axes[1][1].set_title(\"Model Selection F1\");\n",
    "plt.savefig('figures/model_selection', transparent=True, dpi=300);"
   ]
  },
  {
   "cell_type": "markdown",
   "metadata": {
    "ExecuteTime": {
     "end_time": "2020-04-21T12:46:00.664038Z",
     "start_time": "2020-04-21T12:46:00.661731Z"
    }
   },
   "source": [
    "#### with Feature Selection"
   ]
  },
  {
   "cell_type": "markdown",
   "metadata": {
    "ExecuteTime": {
     "end_time": "2020-04-21T08:57:18.380201Z",
     "start_time": "2020-04-21T08:57:18.376766Z"
    }
   },
   "source": [
    "###### TOP20 Features Decision Tree Classifier (DTC)"
   ]
  },
  {
   "cell_type": "code",
   "execution_count": null,
   "metadata": {
    "ExecuteTime": {
     "end_time": "2020-05-11T09:13:58.824227Z",
     "start_time": "2020-05-11T09:13:52.178Z"
    }
   },
   "outputs": [],
   "source": [
    "%%capture\n",
    "\n",
    "# Create Dictionary for Evaluation results\n",
    "results_dtc_top20 = {}\n",
    "\n",
    "# Use model_evaluation function with TOP20 DTC Features Dataset (X_dtc_top20, y_train)\n",
    "model_evaluation(results_dtc_top20, model_clf, name_model, X_dtc_top20, y_train)"
   ]
  },
  {
   "cell_type": "markdown",
   "metadata": {
    "ExecuteTime": {
     "end_time": "2020-04-21T09:14:15.054841Z",
     "start_time": "2020-04-21T09:14:15.051835Z"
    }
   },
   "source": [
    "###### TOP20 Features Random Forrest Classifier (RFC)"
   ]
  },
  {
   "cell_type": "code",
   "execution_count": null,
   "metadata": {
    "ExecuteTime": {
     "end_time": "2020-05-11T09:13:58.826638Z",
     "start_time": "2020-05-11T09:13:52.188Z"
    }
   },
   "outputs": [],
   "source": [
    "%%capture\n",
    "\n",
    "# Create Dictionary for Evaluation results\n",
    "results_rfc_top20 = {}\n",
    "\n",
    "# Use model_evaluation function with TOP20 RFC Features Dataset (X_rfc_top20, y_train)\n",
    "model_evaluation(results_rfc_top20, model_clf, name_model, X_rfc_top20, y_train)"
   ]
  },
  {
   "cell_type": "markdown",
   "metadata": {},
   "source": [
    "###### TOP20 Features Extra Tree Classifier (ETC)"
   ]
  },
  {
   "cell_type": "code",
   "execution_count": null,
   "metadata": {
    "ExecuteTime": {
     "end_time": "2020-05-11T09:13:58.830038Z",
     "start_time": "2020-05-11T09:13:52.198Z"
    }
   },
   "outputs": [],
   "source": [
    "%%capture\n",
    "\n",
    "# Create Dictionary for Evaluation results\n",
    "results_etc_top20 = {}\n",
    "\n",
    "# Use model_evaluation function with TOP20 ETC Features Dataset (X_etc_top20, y_train)\n",
    "model_evaluation(results_etc_top20, model_clf, name_model, X_etc_top20, y_train)"
   ]
  },
  {
   "cell_type": "markdown",
   "metadata": {},
   "source": [
    "###### TOP20 Features Ada Boost Classifier (ABC)"
   ]
  },
  {
   "cell_type": "code",
   "execution_count": null,
   "metadata": {
    "ExecuteTime": {
     "end_time": "2020-05-11T09:13:58.835341Z",
     "start_time": "2020-05-11T09:13:52.208Z"
    }
   },
   "outputs": [],
   "source": [
    "%%capture\n",
    "\n",
    "# Create Dictionary for Evaluation results\n",
    "results_abc_top20 = {}\n",
    "\n",
    "# Use model_evaluation function with TOP20 ABC Features Dataset (X_abc_top20, y_train)\n",
    "model_evaluation(results_abc_top20, model_clf, name_model, X_abc_top20, y_train)"
   ]
  },
  {
   "cell_type": "markdown",
   "metadata": {
    "ExecuteTime": {
     "end_time": "2020-04-21T11:58:52.904149Z",
     "start_time": "2020-04-21T11:58:52.901055Z"
    }
   },
   "source": [
    "###### TOP20 Features XG Boost Classifier (XGBC)"
   ]
  },
  {
   "cell_type": "code",
   "execution_count": null,
   "metadata": {
    "ExecuteTime": {
     "end_time": "2020-05-11T09:13:58.837256Z",
     "start_time": "2020-05-11T09:13:52.218Z"
    }
   },
   "outputs": [],
   "source": [
    "%%capture\n",
    "\n",
    "# Create Dictionary for Evaluation results\n",
    "results_xgbc_top20 = {}\n",
    "\n",
    "# Use model_evaluation function with TOP20 XGBC Features Dataset (X_xgbc_tree_top20, y_train)\n",
    "model_evaluation(results_xgbc_top20, model_clf, name_model, X_xgbc_top20, y_train)"
   ]
  },
  {
   "cell_type": "markdown",
   "metadata": {},
   "source": [
    "###### TOP20 Features Combination of tree-based Classifiers (TBC)"
   ]
  },
  {
   "cell_type": "code",
   "execution_count": null,
   "metadata": {
    "ExecuteTime": {
     "end_time": "2020-05-11T09:13:58.843728Z",
     "start_time": "2020-05-11T09:13:52.230Z"
    }
   },
   "outputs": [],
   "source": [
    "%%capture\n",
    "\n",
    "# Create Dictionary for Evaluation results\n",
    "results_tbc_top20 = {}\n",
    "\n",
    "# Use model_evaluation function with TOP20 TBC Features Dataset (X_tbc_top20, y_train)\n",
    "model_evaluation(results_tbc_top20, model_clf, name_model, X_tbc_top20, y_train)"
   ]
  },
  {
   "cell_type": "markdown",
   "metadata": {
    "ExecuteTime": {
     "end_time": "2020-04-23T13:49:41.689004Z",
     "start_time": "2020-04-23T13:49:41.685300Z"
    }
   },
   "source": [
    "###### TOP20 Features Logistic Regression Classifier (LGC)"
   ]
  },
  {
   "cell_type": "code",
   "execution_count": null,
   "metadata": {
    "ExecuteTime": {
     "end_time": "2020-05-11T09:13:58.852031Z",
     "start_time": "2020-05-11T09:13:52.240Z"
    }
   },
   "outputs": [],
   "source": [
    "%%capture\n",
    "\n",
    "# Create Dictionary for Evaluation results\n",
    "results_lgc_top20 = {}\n",
    "\n",
    "# Use model_evaluation function with TOP20 LGC Features Dataset (X_lgc_top20, y_train)\n",
    "model_evaluation(results_lgc_top20, model_clf, name_model, X_lgc_top20, y_train)"
   ]
  },
  {
   "cell_type": "markdown",
   "metadata": {},
   "source": [
    "###### TOP20 Features SGD Classifier (SGDC)"
   ]
  },
  {
   "cell_type": "code",
   "execution_count": null,
   "metadata": {
    "ExecuteTime": {
     "end_time": "2020-05-11T09:13:58.854402Z",
     "start_time": "2020-05-11T09:13:52.250Z"
    }
   },
   "outputs": [],
   "source": [
    "%%capture\n",
    "\n",
    "# Create Dictionary for Evaluation results\n",
    "results_sgdc_top20 = {}\n",
    "\n",
    "# Use model_evaluation function with TOP20 SGDC Features Dataset (X_sgdc_top20, y_train)\n",
    "model_evaluation(results_sgdc_top20, model_clf, name_model, X_sgdc_top20, y_train)"
   ]
  },
  {
   "cell_type": "markdown",
   "metadata": {
    "ExecuteTime": {
     "end_time": "2020-04-21T12:51:59.121011Z",
     "start_time": "2020-04-21T12:51:59.118527Z"
    }
   },
   "source": [
    "###### Visualisation Model Selection with TOP20 Features"
   ]
  },
  {
   "cell_type": "code",
   "execution_count": null,
   "metadata": {
    "ExecuteTime": {
     "end_time": "2020-05-11T09:13:58.856760Z",
     "start_time": "2020-05-11T09:13:52.265Z"
    }
   },
   "outputs": [],
   "source": [
    "#create Lists with Labels for Plotting\n",
    "labels_TOP20 = [\"ALL\", \n",
    "              \"TOP20 DTC\", \n",
    "              \"TOP20 RFC\", \n",
    "              \"TOP20 ETC\", \n",
    "              \"TOP20 ABC\", \n",
    "              \"TOP20 XGBC\", \n",
    "              \"TOP20 TBC\",\n",
    "              \"TOP20 LGC\", \n",
    "              \"TOP20 SGDC\",\n",
    "             ]\n",
    "\n",
    "labels_model = name_model"
   ]
  },
  {
   "cell_type": "markdown",
   "metadata": {
    "ExecuteTime": {
     "end_time": "2020-04-21T14:05:36.312734Z",
     "start_time": "2020-04-21T14:05:36.305491Z"
    }
   },
   "source": [
    "*Precision*"
   ]
  },
  {
   "cell_type": "code",
   "execution_count": null,
   "metadata": {
    "ExecuteTime": {
     "end_time": "2020-05-11T09:13:58.858529Z",
     "start_time": "2020-05-11T09:13:52.276Z"
    }
   },
   "outputs": [],
   "source": [
    "#Create Dataframe with all Results for Precision\n",
    "results_precision = pd.DataFrame()\n",
    "\n",
    "#Enter Results\n",
    "results_precision[\"ALL\"] = pd.DataFrame(results_all).T.Precision\n",
    "results_precision[\"TOP20 DTC\"] = pd.DataFrame(results_dtc_top20).T.Precision\n",
    "results_precision[\"TOP20 RFC\"] = pd.DataFrame(results_rfc_top20).T.Precision\n",
    "results_precision[\"TOP20 ETC\"] = pd.DataFrame(results_etc_top20).T.Precision\n",
    "results_precision[\"TOP20 ABC\"] = pd.DataFrame(results_abc_top20).T.Precision\n",
    "results_precision[\"TOP20 XGBC\"] = pd.DataFrame(results_xgbc_top20).T.Precision\n",
    "results_precision[\"TOP20 TBC\"] = pd.DataFrame(results_tbc_top20).T.Precision\n",
    "results_precision[\"TOP20 LGC\"] = pd.DataFrame(results_lgc_top20).T.Precision\n",
    "results_precision[\"TOP20 SGDC\"] = pd.DataFrame(results_sgdc_top20).T.Precision\n",
    "\n",
    "results_precision"
   ]
  },
  {
   "cell_type": "code",
   "execution_count": null,
   "metadata": {
    "ExecuteTime": {
     "end_time": "2020-05-11T09:13:58.866083Z",
     "start_time": "2020-05-11T09:13:52.285Z"
    }
   },
   "outputs": [],
   "source": [
    "# set height of bars for precision\n",
    "bars_heights_precision = [results_precision[\"ALL\"]\n",
    "                            , results_precision[\"TOP20 DTC\"]\n",
    "                            , results_precision[\"TOP20 RFC\"]\n",
    "                            , results_precision[\"TOP20 ETC\"]\n",
    "                            , results_precision[\"TOP20 ABC\"]\n",
    "                            , results_precision[\"TOP20 XGBC\"]\n",
    "                            , results_precision[\"TOP20 TBC\"]\n",
    "                            , results_precision[\"TOP20 LGC\"]\n",
    "                            , results_precision[\"TOP20 SGDC\"]\n",
    "                         ]\n",
    "\n",
    "# set size of figure\n",
    "plt.figure(figsize=(15,10));\n",
    "\n",
    "# use multibar_plot function to plot\n",
    "multibar_plot(bars_heights_precision, labels_TOP20, name=labels_model, title=\"Precision\", xlb=\"Model\")\n",
    "plt.savefig('figures/model_combi_precision', transparent=True, dpi=300);"
   ]
  },
  {
   "cell_type": "code",
   "execution_count": null,
   "metadata": {
    "ExecuteTime": {
     "end_time": "2020-05-11T09:13:58.872742Z",
     "start_time": "2020-05-11T09:13:52.294Z"
    }
   },
   "outputs": [],
   "source": [
    "# get the 5 (default n=3) best model + feature selection combinations for Precision using top_model function\n",
    "top_model(results_precision, n=5)"
   ]
  },
  {
   "cell_type": "markdown",
   "metadata": {
    "ExecuteTime": {
     "end_time": "2020-04-21T14:06:28.855905Z",
     "start_time": "2020-04-21T14:06:28.842585Z"
    }
   },
   "source": [
    "*Accuracy*"
   ]
  },
  {
   "cell_type": "code",
   "execution_count": null,
   "metadata": {
    "ExecuteTime": {
     "end_time": "2020-05-11T09:13:58.877220Z",
     "start_time": "2020-05-11T09:13:52.305Z"
    }
   },
   "outputs": [],
   "source": [
    "#Create Dataframe with all Results for Accuracy\n",
    "results_accuracy = pd.DataFrame()\n",
    "\n",
    "#Enter Results\n",
    "results_accuracy[\"ALL\"] = pd.DataFrame(results_all).T.Accuracy\n",
    "results_accuracy[\"TOP20 DTC\"] = pd.DataFrame(results_dtc_top20).T.Accuracy\n",
    "results_accuracy[\"TOP20 RFC\"] = pd.DataFrame(results_rfc_top20).T.Accuracy\n",
    "results_accuracy[\"TOP20 ETC\"] = pd.DataFrame(results_etc_top20).T.Accuracy\n",
    "results_accuracy[\"TOP20 ABC\"] = pd.DataFrame(results_abc_top20).T.Accuracy\n",
    "results_accuracy[\"TOP20 XGBC\"] = pd.DataFrame(results_xgbc_top20).T.Accuracy\n",
    "results_accuracy[\"TOP20 TBC\"] = pd.DataFrame(results_tbc_top20).T.Accuracy\n",
    "results_accuracy[\"TOP20 LGC\"] = pd.DataFrame(results_lgc_top20).T.Accuracy\n",
    "results_accuracy[\"TOP20 SGDC\"] = pd.DataFrame(results_sgdc_top20).T.Accuracy\n",
    "\n",
    "results_accuracy"
   ]
  },
  {
   "cell_type": "code",
   "execution_count": null,
   "metadata": {
    "ExecuteTime": {
     "end_time": "2020-05-11T09:13:58.881594Z",
     "start_time": "2020-05-11T09:13:52.314Z"
    }
   },
   "outputs": [],
   "source": [
    "# set height of bars for accuracy\n",
    "bars_heights_accuracy = [results_accuracy[\"ALL\"]\n",
    "                            , results_accuracy[\"TOP20 DTC\"]\n",
    "                            , results_accuracy[\"TOP20 RFC\"]\n",
    "                            , results_accuracy[\"TOP20 ETC\"]\n",
    "                            , results_accuracy[\"TOP20 ABC\"]\n",
    "                            , results_accuracy[\"TOP20 XGBC\"]\n",
    "                            , results_accuracy[\"TOP20 TBC\"]\n",
    "                            , results_accuracy[\"TOP20 LGC\"]\n",
    "                            , results_accuracy[\"TOP20 SGDC\"]\n",
    "                        ]\n",
    "\n",
    "# set size of figure\n",
    "plt.figure(figsize=(15,10));\n",
    "\n",
    "# use multibar_plot function to plot\n",
    "multibar_plot(bars_heights_accuracy, labels_TOP20, name=labels_model, title=\"Accuracy\", xlb=\"Model\")\n",
    "plt.savefig('figures/model_combi_accuracy', transparent=True, dpi=300);"
   ]
  },
  {
   "cell_type": "code",
   "execution_count": null,
   "metadata": {
    "ExecuteTime": {
     "end_time": "2020-05-11T09:13:58.886146Z",
     "start_time": "2020-05-11T09:13:52.322Z"
    }
   },
   "outputs": [],
   "source": [
    "# get the 5 (default n=3) best model + feature selection combinations for Accuracy using top_model function\n",
    "top_model(results_accuracy, n=5)\n",
    "\n",
    "# here RFC + TOP20 TBC has exactly the same value as ETC + TOP20 TBC\n",
    "# that´s why it is displayd 2 times"
   ]
  },
  {
   "cell_type": "markdown",
   "metadata": {
    "ExecuteTime": {
     "end_time": "2020-04-21T14:09:24.252382Z",
     "start_time": "2020-04-21T14:09:24.247072Z"
    }
   },
   "source": [
    "*Roc_AUC*"
   ]
  },
  {
   "cell_type": "code",
   "execution_count": null,
   "metadata": {
    "ExecuteTime": {
     "end_time": "2020-05-11T09:13:58.890880Z",
     "start_time": "2020-05-11T09:13:52.335Z"
    }
   },
   "outputs": [],
   "source": [
    "#Create Dataframe with all Results for Roc_AUC\n",
    "results_Roc_AUC = pd.DataFrame()\n",
    "\n",
    "#Enter Results\n",
    "results_Roc_AUC[\"ALL\"] = pd.DataFrame(results_all).T.Roc_AUC\n",
    "results_Roc_AUC[\"TOP20 DTC\"] = pd.DataFrame(results_dtc_top20).T.Roc_AUC\n",
    "results_Roc_AUC[\"TOP20 RFC\"] = pd.DataFrame(results_rfc_top20).T.Roc_AUC\n",
    "results_Roc_AUC[\"TOP20 ETC\"] = pd.DataFrame(results_etc_top20).T.Roc_AUC\n",
    "results_Roc_AUC[\"TOP20 ABC\"] = pd.DataFrame(results_abc_top20).T.Roc_AUC\n",
    "results_Roc_AUC[\"TOP20 XGBC\"] = pd.DataFrame(results_xgbc_top20).T.Roc_AUC\n",
    "results_Roc_AUC[\"TOP20 TBC\"] = pd.DataFrame(results_tbc_top20).T.Roc_AUC\n",
    "results_Roc_AUC[\"TOP20 LGC\"] = pd.DataFrame(results_lgc_top20).T.Roc_AUC\n",
    "results_Roc_AUC[\"TOP20 SGDC\"] = pd.DataFrame(results_sgdc_top20).T.Roc_AUC\n",
    "\n",
    "results_Roc_AUC"
   ]
  },
  {
   "cell_type": "code",
   "execution_count": null,
   "metadata": {
    "ExecuteTime": {
     "end_time": "2020-05-11T09:13:58.893056Z",
     "start_time": "2020-05-11T09:13:52.343Z"
    }
   },
   "outputs": [],
   "source": [
    "# set height of bars for Roc_AUC\n",
    "bars_heights_Roc_AUC = [results_Roc_AUC[\"ALL\"]\n",
    "                            , results_Roc_AUC[\"TOP20 DTC\"]\n",
    "                            , results_Roc_AUC[\"TOP20 RFC\"]\n",
    "                            , results_Roc_AUC[\"TOP20 ETC\"]\n",
    "                            , results_Roc_AUC[\"TOP20 ABC\"]\n",
    "                            , results_Roc_AUC[\"TOP20 XGBC\"]\n",
    "                            , results_Roc_AUC[\"TOP20 TBC\"]\n",
    "                            , results_Roc_AUC[\"TOP20 LGC\"]\n",
    "                            , results_Roc_AUC[\"TOP20 SGDC\"]\n",
    "                       ]\n",
    "\n",
    "# set size of figure\n",
    "plt.figure(figsize=(15,10));\n",
    "\n",
    "# use multibar_plot function to plot\n",
    "multibar_plot(bars_heights_Roc_AUC, labels_TOP20, name=labels_model, title=\"Roc_AUC\", xlb=\"Model\")\n",
    "plt.savefig('figures/model_combi_roc_auc', transparent=True, dpi=300);"
   ]
  },
  {
   "cell_type": "code",
   "execution_count": null,
   "metadata": {
    "ExecuteTime": {
     "end_time": "2020-05-11T09:13:58.899478Z",
     "start_time": "2020-05-11T09:13:52.356Z"
    }
   },
   "outputs": [],
   "source": [
    "# get the 5 (default n=3) best model + feature selection combinations for Roc_AUC using top_model function\n",
    "top_model(results_Roc_AUC, n=5)"
   ]
  },
  {
   "cell_type": "markdown",
   "metadata": {},
   "source": [
    "*F1*"
   ]
  },
  {
   "cell_type": "code",
   "execution_count": null,
   "metadata": {
    "ExecuteTime": {
     "end_time": "2020-05-11T09:13:58.903237Z",
     "start_time": "2020-05-11T09:13:52.367Z"
    }
   },
   "outputs": [],
   "source": [
    "#Create Dataframe with all Results for F1\n",
    "results_F1 = pd.DataFrame()\n",
    "\n",
    "#Enter Results\n",
    "results_F1[\"ALL\"] = pd.DataFrame(results_all).T.F1\n",
    "results_F1[\"TOP20 DTC\"] = pd.DataFrame(results_dtc_top20).T.F1\n",
    "results_F1[\"TOP20 RFC\"] = pd.DataFrame(results_rfc_top20).T.F1\n",
    "results_F1[\"TOP20 ETC\"] = pd.DataFrame(results_etc_top20).T.F1\n",
    "results_F1[\"TOP20 ABC\"] = pd.DataFrame(results_abc_top20).T.F1\n",
    "results_F1[\"TOP20 XGBC\"] = pd.DataFrame(results_xgbc_top20).T.F1\n",
    "results_F1[\"TOP20 TBC\"] = pd.DataFrame(results_tbc_top20).T.F1\n",
    "results_F1[\"TOP20 LGC\"] = pd.DataFrame(results_lgc_top20).T.F1\n",
    "results_F1[\"TOP20 SGDC\"] = pd.DataFrame(results_sgdc_top20).T.F1\n",
    "\n",
    "results_F1"
   ]
  },
  {
   "cell_type": "code",
   "execution_count": null,
   "metadata": {
    "ExecuteTime": {
     "end_time": "2020-05-11T09:13:58.906727Z",
     "start_time": "2020-05-11T09:13:52.376Z"
    }
   },
   "outputs": [],
   "source": [
    "# set height of bars for F1\n",
    "bars_heights_F1 = [results_F1[\"ALL\"]\n",
    "                            , results_F1[\"TOP20 DTC\"]\n",
    "                            , results_F1[\"TOP20 RFC\"]\n",
    "                            , results_F1[\"TOP20 ETC\"]\n",
    "                            , results_F1[\"TOP20 ABC\"]\n",
    "                            , results_F1[\"TOP20 XGBC\"]\n",
    "                            , results_F1[\"TOP20 TBC\"]\n",
    "                            , results_F1[\"TOP20 LGC\"]\n",
    "                            , results_F1[\"TOP20 SGDC\"]\n",
    "                  \n",
    "                  ]\n",
    "\n",
    "# set size of figure\n",
    "plt.figure(figsize=(15,10));\n",
    "\n",
    "# use multibar_plot function to plot\n",
    "multibar_plot(bars_heights_F1, labels_TOP20, name=labels_model, title=\"F1\", xlb=\"Model\")\n",
    "plt.savefig('figures/model_combi_f1', transparent=True, dpi=300);"
   ]
  },
  {
   "cell_type": "code",
   "execution_count": null,
   "metadata": {
    "ExecuteTime": {
     "end_time": "2020-05-11T09:13:58.911871Z",
     "start_time": "2020-05-11T09:13:52.391Z"
    }
   },
   "outputs": [],
   "source": [
    "# get the 5 (default n=3) best model + feature selection combinations for F1 using top_model function\n",
    "top_model(results_F1, n=5)"
   ]
  },
  {
   "cell_type": "code",
   "execution_count": null,
   "metadata": {
    "ExecuteTime": {
     "end_time": "2020-05-11T09:13:58.916348Z",
     "start_time": "2020-05-11T09:13:52.401Z"
    }
   },
   "outputs": [],
   "source": [
    "# Best Feature Selection: TOP20 TBC\n",
    "# Best Models: ETC, RFC, XGBC"
   ]
  },
  {
   "cell_type": "code",
   "execution_count": null,
   "metadata": {
    "ExecuteTime": {
     "end_time": "2020-05-11T09:13:58.920844Z",
     "start_time": "2020-05-11T09:13:52.409Z"
    }
   },
   "outputs": [],
   "source": [
    "# If StandardScaler is used TOP1 is LG with ALL Features\n",
    "# but this is not an Option as I would like to reduce\n",
    "# that´s why I am making no changes below (maybe adjust parameters again)"
   ]
  },
  {
   "cell_type": "markdown",
   "metadata": {},
   "source": [
    "### Model Optimization"
   ]
  },
  {
   "cell_type": "code",
   "execution_count": null,
   "metadata": {
    "ExecuteTime": {
     "end_time": "2020-05-11T09:13:58.925234Z",
     "start_time": "2020-05-11T09:13:52.419Z"
    }
   },
   "outputs": [],
   "source": [
    "# As the aimed metric is precision I will optimize on precision"
   ]
  },
  {
   "cell_type": "markdown",
   "metadata": {},
   "source": [
    "#### Random Search Grid Parameters"
   ]
  },
  {
   "cell_type": "code",
   "execution_count": null,
   "metadata": {
    "ExecuteTime": {
     "end_time": "2020-05-11T09:13:58.929651Z",
     "start_time": "2020-05-11T09:13:52.429Z"
    }
   },
   "outputs": [],
   "source": [
    "# With TOP20 TBC as the chosen feature selection create a new X_test\n",
    "\n",
    "# use dataframe_selection function for creating new dataframe\n",
    "X_tbc_top20_test = dataframe_selection(results_TBC[\"TBC\"], X_train=X_test)"
   ]
  },
  {
   "cell_type": "code",
   "execution_count": null,
   "metadata": {
    "ExecuteTime": {
     "end_time": "2020-05-11T09:13:58.934650Z",
     "start_time": "2020-05-11T09:13:52.439Z"
    }
   },
   "outputs": [],
   "source": [
    "# Stop Switch (comment out to run the steps below)\n",
    "sys.exit(\"Stop without Steps below!\")"
   ]
  },
  {
   "cell_type": "markdown",
   "metadata": {
    "ExecuteTime": {
     "end_time": "2020-04-27T12:52:49.251490Z",
     "start_time": "2020-04-27T12:52:49.246446Z"
    }
   },
   "source": [
    "##### Random Search Random Forrest Classifier (RFC)"
   ]
  },
  {
   "cell_type": "code",
   "execution_count": null,
   "metadata": {
    "ExecuteTime": {
     "end_time": "2020-05-11T09:13:58.939198Z",
     "start_time": "2020-05-11T09:13:52.450Z"
    }
   },
   "outputs": [],
   "source": [
    "# First use random search to check a broad range of parameters\n",
    "\n",
    "# Initialize Classifier Model\n",
    "RFC2 = RandomForestClassifier(random_state=seed) # =model\n",
    "\n",
    "# Set Hyperparameter grid for Model with alternatives to default values (included in grid)\n",
    "parameters_RFC = {\n",
    "    'bootstrap': [True, False],\n",
    "    'criterion': ['gini', 'entropy'],\n",
    "    'max_depth': [5, 10, 15, 20, 25, 30, None],\n",
    "    'max_features': ['log2', 'sqrt'],\n",
    "    'min_samples_leaf': [1, 2, 3],\n",
    "    'min_samples_split': [1, 2, 3, 5, 10],\n",
    "    'n_estimators': [100, 400, 700, 1000, 1300, 1600],\n",
    "    'n_jobs': [-1]\n",
    "}\n",
    "\n",
    "# Use random_searching function with with TOP20 TBC Features Dataset (X_tbc_top20, y_train, X_tbc_top20_test, y_test)\n",
    "random_searching(RFC2, parameters_RFC, X_tbc_top20, y_train, X_tbc_top20_test, y_test, seed=seed)"
   ]
  },
  {
   "cell_type": "code",
   "execution_count": null,
   "metadata": {
    "ExecuteTime": {
     "end_time": "2020-05-11T09:13:58.941043Z",
     "start_time": "2020-05-11T09:13:52.458Z"
    }
   },
   "outputs": [],
   "source": [
    "# Second use random search to narrow down the range of parameters\n",
    "\n",
    "# Set new Hyperparameter grid for Model\n",
    "parameters_RFC_new = {\n",
    "    'bootstrap': [True, False],\n",
    "    'criterion': ['gini', 'entropy'],\n",
    "    'max_depth': [6, 8, 10, 12, 14, None],\n",
    "    'max_features': ['log2', 'sqrt'],\n",
    "    'min_samples_leaf': [1, 2, 3],\n",
    "    'min_samples_split': [2, 3, 4, 5, 6, 7, 8, 9],\n",
    "    'n_estimators': [100, 1100, 1200, 1300, 1400, 1500],\n",
    "    'n_jobs': [-1]\n",
    "}\n",
    "\n",
    "# Use random_searching function with with TOP20 TBC Features Dataset (X_tbc_top20, y_train, X_tbc_top20_test, y_test)\n",
    "random_searching(RFC2, parameters_RFC_new, X_tbc_top20, y_train, X_tbc_top20_test, y_test, seed=seed)"
   ]
  },
  {
   "cell_type": "markdown",
   "metadata": {},
   "source": [
    "##### Random Search Extra Tree Classifier (ETC)"
   ]
  },
  {
   "cell_type": "code",
   "execution_count": null,
   "metadata": {
    "ExecuteTime": {
     "end_time": "2020-05-11T09:13:58.945574Z",
     "start_time": "2020-05-11T09:13:52.467Z"
    }
   },
   "outputs": [],
   "source": [
    "# First use random search to check a broad range of parameters\n",
    "\n",
    "# Initialize Classifier Model\n",
    "ETC2 = ExtraTreesClassifier(random_state=seed) # =model\n",
    "\n",
    "# Set Hyperparameter grid for Model with alternatives to default values (included in grid)\n",
    "parameters_ETC = {\n",
    "    'bootstrap': [True, False],\n",
    "    'criterion': ['gini', 'entropy'],\n",
    "    'max_depth': [5, 10, 15, 20, 25, 30, None],\n",
    "    'max_features': ['log2', 'sqrt'],\n",
    "    'min_samples_leaf': [1, 2, 3],\n",
    "    'min_samples_split': [1, 2, 5, 10],\n",
    "    'n_estimators': [100, 400, 800, 1200, 1600, 2000],\n",
    "    'n_jobs': [-1]\n",
    "}\n",
    "\n",
    "# Use random_searching function with with TOP20 TBC Features Dataset (X_tbc_top20, y_train, X_tbc_top20_test, y_test)\n",
    "random_searching(ETC2, parameters_ETC, X_tbc_top20, y_train, X_tbc_top20_test, y_test, seed=seed)"
   ]
  },
  {
   "cell_type": "code",
   "execution_count": null,
   "metadata": {
    "ExecuteTime": {
     "end_time": "2020-05-11T09:13:58.949941Z",
     "start_time": "2020-05-11T09:13:52.475Z"
    }
   },
   "outputs": [],
   "source": [
    "# Second use random search to narrow down the range of parameters\n",
    "\n",
    "# Set new Hyperparameter grid for Model\n",
    "parameters_ETC_new = {\n",
    "    'bootstrap': [True, False],\n",
    "    'criterion': ['gini', 'entropy'],\n",
    "    'max_depth': [26, 28, 30, 32, 34],\n",
    "    'max_features': ['log2', 'sqrt'],\n",
    "    'min_samples_leaf': [1, 2, 3],\n",
    "    'min_samples_split': [2, 3, 4],\n",
    "    'n_estimators': [200, 300, 400, 500, 600],\n",
    "    'n_jobs': [-1]\n",
    "}\n",
    "\n",
    "# Use random_searching function with with TOP20 TBC Features Dataset (X_tbc_top20, y_train, X_tbc_top20_test, y_test)\n",
    "random_searching(ETC2, parameters_ETC_new, X_tbc_top20, y_train, X_tbc_top20_test, y_test, seed=seed)"
   ]
  },
  {
   "cell_type": "markdown",
   "metadata": {},
   "source": [
    "##### Random Search XG Boost Classifier (XGBC)"
   ]
  },
  {
   "cell_type": "code",
   "execution_count": null,
   "metadata": {
    "ExecuteTime": {
     "end_time": "2020-05-11T09:13:58.952450Z",
     "start_time": "2020-05-11T09:13:52.485Z"
    }
   },
   "outputs": [],
   "source": [
    "# First use random search to check a broad range of parameters\n",
    "\n",
    "# Initialize Classifier Model\n",
    "XGBC2 = XGBClassifier(random_state=seed)  # =model\n",
    "\n",
    "# Set Hyperparameter grid for Model with alternatives to default values (included in grid)\n",
    "parameters_XGBC = {\n",
    "    'max_depth': [3, 9, 15, 21, 27, 33, None],\n",
    "    'learning_rate': [0.0001, 0.001, 0.01, 0.1],\n",
    "    'min_child_weight': [1, 2, 3],\n",
    "    'subsample': [0.6, 0.7, 0.8, 0.9, 1.0],\n",
    "    'colsample_bytree': [0.5, 0.75, 1.0], \n",
    "    'n_estimators': [100, 200, 300, 400, 500],\n",
    "    'n_jobs': [-1]\n",
    "}\n",
    "\n",
    "# Use random_searching function with with TOP20 TBC Features Dataset (X_tbc_top20, y_train, X_tbc_top20_test, y_test)\n",
    "random_searching(XGBC2, parameters_XGBC, X_tbc_top20, y_train, X_tbc_top20_test, y_test)"
   ]
  },
  {
   "cell_type": "code",
   "execution_count": null,
   "metadata": {
    "ExecuteTime": {
     "end_time": "2020-05-11T09:13:58.958411Z",
     "start_time": "2020-05-11T09:13:52.493Z"
    }
   },
   "outputs": [],
   "source": [
    "# Second use random search to narrow down the range of parameters\n",
    "\n",
    "# Set new Hyperparameter grid for Model\n",
    "parameters_XGBC_new = {\n",
    "    'max_depth': [3, 28, 29, 30, 31, 32, 33, 34, 35, 36, 37, 38],\n",
    "    'learning_rate': [0.005, 0.0075, 0.01, 0.025, 0.05, 0.1],\n",
    "    'min_child_weight': [1, 2, 3],\n",
    "    'subsample': [0.85, 0.875, 0.9, 0.925, 0.95, 1.0],\n",
    "    'colsample_bytree': [0.45, 0.475, 0.5, 0.525, 0.55, 1.0], \n",
    "    'n_estimators': [100, 225, 250, 300, 325, 350],\n",
    "    'n_jobs': [-1]\n",
    "}\n",
    "\n",
    "# Use random_searching function with with TOP20 TBC Features Dataset (X_tbc_top20, y_train, X_tbc_top20_test, y_test)\n",
    "random_searching(XGBC2, parameters_XGBC_new, X_tbc_top20, y_train, X_tbc_top20_test, y_test)"
   ]
  },
  {
   "cell_type": "code",
   "execution_count": null,
   "metadata": {
    "ExecuteTime": {
     "end_time": "2020-05-11T09:13:58.963082Z",
     "start_time": "2020-05-11T09:13:52.500Z"
    }
   },
   "outputs": [],
   "source": [
    "# Stop Switch (comment out to run the steps below)\n",
    "sys.exit(\"Stop without Steps below!\")"
   ]
  },
  {
   "cell_type": "markdown",
   "metadata": {
    "ExecuteTime": {
     "end_time": "2020-04-27T08:22:19.667190Z",
     "start_time": "2020-04-27T08:22:19.663214Z"
    }
   },
   "source": [
    "#### Optimization with Grid Search"
   ]
  },
  {
   "cell_type": "code",
   "execution_count": null,
   "metadata": {
    "ExecuteTime": {
     "end_time": "2020-05-11T09:13:58.967009Z",
     "start_time": "2020-05-11T09:13:52.509Z"
    }
   },
   "outputs": [],
   "source": [
    "# Initialize Classifier Models\n",
    "RFC3 = RandomForestClassifier(random_state=seed)\n",
    "ETC3 = ExtraTreesClassifier(random_state=seed)\n",
    "XGBC3 = XGBClassifier(random_state=seed)\n",
    "\n",
    "# Create Dictionary for Optimization results\n",
    "results_opt = {}"
   ]
  },
  {
   "cell_type": "markdown",
   "metadata": {},
   "source": [
    "##### Grid Search Random Forrest Classifier (RFC)"
   ]
  },
  {
   "cell_type": "code",
   "execution_count": null,
   "metadata": {
    "ExecuteTime": {
     "end_time": "2020-05-11T09:13:58.971966Z",
     "start_time": "2020-05-11T09:13:52.518Z"
    }
   },
   "outputs": [],
   "source": [
    "# List with keys for optimized and unoptized model\n",
    "name_model_RFC = [\"RFC_UnOpt\", \"RFC_Opt\"]\n",
    "\n",
    "# Set Hyperparameter grid for Model\n",
    "parameters_RFC = {\n",
    "    'bootstrap': [True, False],\n",
    "    'criterion': ['gini', 'entropy'],\n",
    "    'max_depth': [9, 10, 11, None],\n",
    "    'max_features': ['log2', 'sqrt'],\n",
    "    'min_samples_leaf': [1, 2, 3],\n",
    "    'min_samples_split': [2, 3, 4],\n",
    "    'n_estimators': [100, 1350, 1400, 1425, 1450],\n",
    "    'n_jobs': [-1]\n",
    "}\n",
    "\n",
    "# Use grid_searching function with with TOP20 TBC Features Dataset (X_tbc_top20, y_train, X_tbc_top20_test)\n",
    "grid_searching(results_opt, RFC3, name_model_RFC, parameters_RFC, X_tbc_top20, y_train, X_tbc_top20_test, y_test)"
   ]
  },
  {
   "cell_type": "markdown",
   "metadata": {
    "ExecuteTime": {
     "end_time": "2020-04-27T14:03:15.654897Z",
     "start_time": "2020-04-27T14:03:15.643855Z"
    }
   },
   "source": [
    "##### Grid Search Extra Tree Classifier (ETC)"
   ]
  },
  {
   "cell_type": "code",
   "execution_count": null,
   "metadata": {
    "ExecuteTime": {
     "end_time": "2020-05-11T09:13:58.974220Z",
     "start_time": "2020-05-11T09:13:52.527Z"
    }
   },
   "outputs": [],
   "source": [
    "# List with keys for optimized and unoptized model\n",
    "name_model_ETC = [\"ETC_UnOpt\", \"ETC_Opt\"]\n",
    "\n",
    "# Set Hyperparameter grid for Model\n",
    "parameters_ETC = {\n",
    "    'bootstrap': [True, False],\n",
    "    'criterion': ['gini', 'entropy'],\n",
    "    'max_depth': [25, 26, 27, None],\n",
    "    'max_features': ['log2', 'sqrt'],\n",
    "    'min_samples_leaf': [1, 2, 3],\n",
    "    'min_samples_split': [2, 3, 4],\n",
    "    'n_estimators': [100, 325, 350, 400, 425, 450],\n",
    "    'n_jobs': [-1]\n",
    "}\n",
    "\n",
    "\n",
    "# Use grid_searching function with with TOP20 TBC Features Dataset (X_tbc_top20, y_train, X_tbc_top20_test)\n",
    "grid_searching(results_opt, ETC3, name_model_ETC, parameters_ETC, X_tbc_top20, y_train, X_tbc_top20_test, y_test)"
   ]
  },
  {
   "cell_type": "markdown",
   "metadata": {
    "ExecuteTime": {
     "end_time": "2020-04-27T14:04:02.195312Z",
     "start_time": "2020-04-27T14:04:02.190669Z"
    }
   },
   "source": [
    "##### Grid Search XG Boost Classifier (XGBC)"
   ]
  },
  {
   "cell_type": "code",
   "execution_count": null,
   "metadata": {
    "ExecuteTime": {
     "end_time": "2020-05-11T09:13:58.976319Z",
     "start_time": "2020-05-11T09:13:52.535Z"
    }
   },
   "outputs": [],
   "source": [
    "# List with keys for optimized and unoptized model\n",
    "name_model_XGBC = [\"XGBC_UnOpt\", \"XGBC_Opt\"] \n",
    "\n",
    "# Set Hyperparameter grid for Model\n",
    "parameters_XGBC = {\n",
    "    'max_depth': [3, 31, 32, 33],\n",
    "    'learning_rate': [0.0065, 0.007, 0.0075, 0.008, 0.0085, 0.1],\n",
    "    'min_child_weight': [1, 2, 3],\n",
    "    'subsample': [0.88, 0.89, 0.9, 0.91, 0.92, 1.0],\n",
    "    'colsample_bytree': [0.43, 0.44, 0.45, 0.46, 0.47, 1.0], \n",
    "    'n_estimators': [100, 215, 220, 225, 230, 335],\n",
    "    'n_jobs': [-1]\n",
    "}\n",
    "\n",
    "# Use grid_searching function with with TOP20 TBC Features Dataset (X_tbc_top20, y_train, X_tbc_top20_test)\n",
    "grid_searching(results_opt, XGBC3, name_model_XGBC, parameters_XGBC, X_tbc_top20, y_train, X_tbc_top20_test, y_test)"
   ]
  },
  {
   "cell_type": "code",
   "execution_count": null,
   "metadata": {
    "ExecuteTime": {
     "end_time": "2020-05-11T09:13:58.978563Z",
     "start_time": "2020-05-11T09:13:52.543Z"
    }
   },
   "outputs": [],
   "source": [
    "results_opt"
   ]
  },
  {
   "cell_type": "code",
   "execution_count": null,
   "metadata": {
    "ExecuteTime": {
     "end_time": "2020-05-11T09:13:58.980925Z",
     "start_time": "2020-05-11T09:13:52.551Z"
    }
   },
   "outputs": [],
   "source": [
    "# save results_opt dictionary to results_opt.p file\n",
    "\n",
    "with open('data/results_opt.p', 'wb') as fp:\n",
    "    pickle.dump(results_opt, fp, protocol=pickle.HIGHEST_PROTOCOL)"
   ]
  },
  {
   "cell_type": "markdown",
   "metadata": {},
   "source": [
    "#### Visualisation Model Optimization"
   ]
  },
  {
   "cell_type": "code",
   "execution_count": null,
   "metadata": {
    "ExecuteTime": {
     "end_time": "2020-05-11T09:13:58.983543Z",
     "start_time": "2020-05-11T09:13:52.560Z"
    }
   },
   "outputs": [],
   "source": [
    "# to continue without Random Search and Grid Search\n",
    "# load results_opt dictionary from results_opt.p file as results_opt_new\n",
    "\n",
    "with open('data/results_opt.p', 'rb') as fp:\n",
    "    results_opt_new = pickle.load(fp)"
   ]
  },
  {
   "cell_type": "code",
   "execution_count": null,
   "metadata": {
    "ExecuteTime": {
     "end_time": "2020-05-11T09:13:58.986971Z",
     "start_time": "2020-05-11T09:13:52.568Z"
    }
   },
   "outputs": [],
   "source": [
    "#create dataframe with results_optimization\n",
    "results_optimization = pd.DataFrame(results_opt_new)\n",
    "results_optimization"
   ]
  },
  {
   "cell_type": "code",
   "execution_count": null,
   "metadata": {
    "ExecuteTime": {
     "end_time": "2020-05-11T09:13:58.989539Z",
     "start_time": "2020-05-11T09:13:52.575Z"
    }
   },
   "outputs": [],
   "source": [
    "#create Lists with Labels for Plotting\n",
    "labels_opt = [\"RFC_UnOpt\", \n",
    "              \"RFC_Opt\", \n",
    "              \"ETC_UnOpt\", \n",
    "              \"ETC_Opt\",\n",
    "              \"XGBC_UnOpt\",\n",
    "              \"XGBC_Opt\",\n",
    "             ]\n",
    "\n",
    "labels_metric = [\"Accuracy\", \n",
    "              \"Roc_AUC\", \n",
    "              \"Precision\",\n",
    "              \"F1\",\n",
    "             ]"
   ]
  },
  {
   "cell_type": "code",
   "execution_count": null,
   "metadata": {
    "ExecuteTime": {
     "end_time": "2020-05-11T09:13:58.992023Z",
     "start_time": "2020-05-11T09:13:52.583Z"
    }
   },
   "outputs": [],
   "source": [
    "# set height of bars for Un-/ and Optimized Model\n",
    "bars_heights_optimization = [results_optimization[\"RFC_UnOpt\"]\n",
    "                            , results_optimization[\"RFC_Opt\"]\n",
    "                            , results_optimization[\"ETC_UnOpt\"]\n",
    "                            , results_optimization[\"ETC_Opt\"]\n",
    "                            , results_optimization[\"XGBC_UnOpt\"]\n",
    "                            , results_optimization[\"XGBC_Opt\"]\n",
    "                         ]\n",
    "# set size of figure\n",
    "plt.figure(figsize=(15,10));\n",
    "\n",
    "# use multibar_plot function to plot\n",
    "multibar_plot(bars_heights_optimization, labels_opt, name=labels_metric, title=\"Model Optimization\", xlb=\"Model\")\n",
    "plt.savefig('figures/model_optimization', transparent=True, dpi=300);"
   ]
  },
  {
   "cell_type": "code",
   "execution_count": null,
   "metadata": {
    "ExecuteTime": {
     "end_time": "2020-05-11T09:13:58.995092Z",
     "start_time": "2020-05-11T09:13:52.591Z"
    }
   },
   "outputs": [],
   "source": [
    "# Although I optimized the models on the chosen metric precision, the best way to compare the performance of\n",
    "# different models is by their Roc_AUC. \n",
    "# As the Roc (receiver operating characteristics) curve of a model is the plot of the true positive rate (TPR)\n",
    "# against the false positive rate (FPR) at various threshold settings, this is a measure for \n",
    "# the overall performance of a model independent from threshold settings.\n",
    "# For better comparision the area under the curve (AUC) is used. The bigger the better the performance."
   ]
  },
  {
   "cell_type": "code",
   "execution_count": null,
   "metadata": {
    "ExecuteTime": {
     "end_time": "2020-05-11T09:13:58.997209Z",
     "start_time": "2020-05-11T09:13:52.598Z"
    }
   },
   "outputs": [],
   "source": [
    "viz_summary(results_optimization, metric=\"Roc_AUC\")"
   ]
  },
  {
   "cell_type": "code",
   "execution_count": null,
   "metadata": {
    "ExecuteTime": {
     "end_time": "2020-05-11T09:13:59.001402Z",
     "start_time": "2020-05-11T09:13:52.606Z"
    }
   },
   "outputs": [],
   "source": [
    "# The best Roc_AUC is from XGBC_UnOpt (Roc_AUC: 0.987829, Rank = 6.0), followed by \n",
    "# XGBC_Opt (Roc_AUC: 0.987654, Rank = 5.0)\n",
    "\n",
    "# Even if the unoptimized model XGBC_UnOpt shows better performance than the optimized model XGBC_Opt\n",
    "# it´s better to choose XGBC_Opt as \"top model\", because during the optimzation the model is\n",
    "# crossvalidated which prevents overfitting. XGBC_UnOpt wasn´t crossvalidated and might perform only better\n",
    "# because of overfitting the data.\n",
    "# As I included the default Parameters, which uses the unoptimized model, in the GridSearch these parameters were\n",
    "# also used with crossvalidated data, but resulted a worse score as not choosen from GridSearchCV for best model parameters"
   ]
  },
  {
   "cell_type": "markdown",
   "metadata": {},
   "source": [
    "#### Stacking"
   ]
  },
  {
   "cell_type": "code",
   "execution_count": null,
   "metadata": {
    "ExecuteTime": {
     "end_time": "2020-05-11T09:13:59.004313Z",
     "start_time": "2020-05-11T09:13:52.614Z"
    }
   },
   "outputs": [],
   "source": [
    "# given the Top3 Models I try to Stack these \"weak learners\" to one \"strong learner\""
   ]
  },
  {
   "cell_type": "code",
   "execution_count": null,
   "metadata": {
    "ExecuteTime": {
     "end_time": "2020-05-11T09:13:59.006562Z",
     "start_time": "2020-05-11T09:13:52.622Z"
    }
   },
   "outputs": [],
   "source": [
    "# Initializing optimized Classifier Models and Meta Classifier\n",
    "\n",
    "RFC_stack = RandomForestClassifier(bootstrap=True,\n",
    "                                   ccp_alpha=0.0,\n",
    "                                   class_weight=None,\n",
    "                                   criterion='entropy',\n",
    "                                   max_depth=9,\n",
    "                                   max_features='log2',\n",
    "                                   max_leaf_nodes=None,\n",
    "                                   max_samples=None,\n",
    "                                   min_impurity_decrease=0.0,\n",
    "                                   min_impurity_split=None,\n",
    "                                   min_samples_leaf=1,\n",
    "                                   min_samples_split=3,\n",
    "                                   min_weight_fraction_leaf=0.0,\n",
    "                                   n_estimators=1350,\n",
    "                                   n_jobs=-1,\n",
    "                                   oob_score=False, \n",
    "                                   random_state=seed,\n",
    "                                   verbose=0,\n",
    "                                   warm_start=False)\n",
    "\n",
    "ETC_stack = ExtraTreesClassifier(bootstrap=False,\n",
    "                                 ccp_alpha=0.0,\n",
    "                                 class_weight=None,\n",
    "                                 criterion='entropy',\n",
    "                                 max_depth=25,\n",
    "                                 max_features='log2',\n",
    "                                 max_leaf_nodes=None,\n",
    "                                 max_samples=None,\n",
    "                                 min_impurity_decrease=0.0,\n",
    "                                 min_impurity_split=None,\n",
    "                                 min_samples_leaf=1,\n",
    "                                 min_samples_split=4,\n",
    "                                 min_weight_fraction_leaf=0.0,\n",
    "                                 n_estimators=350,\n",
    "                                 n_jobs=-1,\n",
    "                                 oob_score=False, \n",
    "                                 random_state=seed,\n",
    "                                 verbose=0,\n",
    "                                 warm_start=False)\n",
    "\n",
    "XGBC_stack = XGBClassifier(base_score=0.5, \n",
    "                           booster='gbtree', \n",
    "                           colsample_bylevel=1, \n",
    "                           colsample_bynode=1, \n",
    "                           colsample_bytree=0.45, \n",
    "                           gamma=0, \n",
    "                           learning_rate=0.0075, \n",
    "                           max_delta_step=0, \n",
    "                           max_depth=31, \n",
    "                           min_child_weight=1, \n",
    "                           missing=None, \n",
    "                           n_estimators=225, \n",
    "                           n_jobs=-1, \n",
    "                           nthread=None, \n",
    "                           objective='multi:softprob', \n",
    "                           random_state=seed, \n",
    "                           reg_alpha=0, \n",
    "                           reg_lambda=1, \n",
    "                           scale_pos_weight=1, \n",
    "                           seed=None, \n",
    "                           silent=None, \n",
    "                           subsample=0.88, \n",
    "                           verbosity=1,\n",
    "                           num_class=3) #num_class has to be added here manually for visualisation of precision recall curve\n",
    "\n",
    "meta_classifier = LogisticRegression(random_state=seed)\n",
    "\n",
    "# Building Stacking Classifier\n",
    "SCLF = StackingCVClassifier(classifiers=[RFC_stack, ETC_stack, XGBC_stack],\n",
    "                          meta_classifier=meta_classifier, random_state=seed)\n",
    "\n",
    "# Building Ensemble Vote Classifier\n",
    "EVCLF = EnsembleVoteClassifier(clfs=[RFC_stack, ETC_stack, XGBC_stack], voting='hard', weights=None, refit=True)"
   ]
  },
  {
   "cell_type": "code",
   "execution_count": null,
   "metadata": {
    "ExecuteTime": {
     "end_time": "2020-05-11T09:13:59.008339Z",
     "start_time": "2020-05-11T09:13:52.630Z"
    }
   },
   "outputs": [],
   "source": [
    "# List for models to be evaluated (Single vs. Stacked)\n",
    "model_stack = [RFC_stack, ETC_stack, XGBC_stack, SCLF, EVCLF]\n",
    "\n",
    "# List for model names\n",
    "name_stack = [\"RFC_Opt\", \"ETC_Opt\", \"XGBC_Opt\", \"SCLF\", \"EVCLF\"]"
   ]
  },
  {
   "cell_type": "code",
   "execution_count": null,
   "metadata": {
    "ExecuteTime": {
     "end_time": "2020-05-11T09:13:59.012135Z",
     "start_time": "2020-05-11T09:13:52.637Z"
    }
   },
   "outputs": [],
   "source": [
    "%%capture\n",
    "\n",
    "# Create Dictionary for Evaluation results\n",
    "results_stacking = {}\n",
    "\n",
    "# Use model_evaluation function with TOP20 TBC Features Dataset (X_tbc_top20, y_train)\n",
    "model_evaluation(results_stacking, model_stack, name_stack, X_tbc_top20, y_train)"
   ]
  },
  {
   "cell_type": "markdown",
   "metadata": {},
   "source": [
    "#### Visualisation Stacking"
   ]
  },
  {
   "cell_type": "code",
   "execution_count": null,
   "metadata": {
    "ExecuteTime": {
     "end_time": "2020-05-11T09:13:59.014008Z",
     "start_time": "2020-05-11T09:13:52.645Z"
    }
   },
   "outputs": [],
   "source": [
    "#create dataframe with results_optimization\n",
    "results_stack = pd.DataFrame(results_stacking)\n",
    "results_stack"
   ]
  },
  {
   "cell_type": "code",
   "execution_count": null,
   "metadata": {
    "ExecuteTime": {
     "end_time": "2020-05-11T09:13:59.016315Z",
     "start_time": "2020-05-11T09:13:52.653Z"
    }
   },
   "outputs": [],
   "source": [
    "#create Lists with Labels for Plotting\n",
    "labels_stack = [\"RFC_Opt\",  \n",
    "              \"ETC_Opt\",\n",
    "              \"XGBC_Opt\",\n",
    "              \"SCLF\",\n",
    "              \"EVCLF\"\n",
    "             ]"
   ]
  },
  {
   "cell_type": "code",
   "execution_count": null,
   "metadata": {
    "ExecuteTime": {
     "end_time": "2020-05-11T09:13:59.020275Z",
     "start_time": "2020-05-11T09:13:52.660Z"
    }
   },
   "outputs": [],
   "source": [
    "# set height of bars for Un-/ and stacked Model\n",
    "bars_heights_stack = [results_stack[\"RFC_Opt\"]\n",
    "                            , results_stack[\"ETC_Opt\"]\n",
    "                            , results_stack[\"XGBC_Opt\"]\n",
    "                            , results_stack[\"SCLF\"]\n",
    "                            , results_stack[\"EVCLF\"]\n",
    "                         ]\n",
    "\n",
    "# set size of figure\n",
    "plt.figure(figsize=(15,10));\n",
    "\n",
    "# use multibar_plot function to plot\n",
    "multibar_plot(bars_heights_stack, labels_stack, name=labels_metric, title=\"Stacking\", xlb=\"Model\")\n",
    "plt.savefig('figures/model_stacking', transparent=True, dpi=300);"
   ]
  },
  {
   "cell_type": "code",
   "execution_count": null,
   "metadata": {
    "ExecuteTime": {
     "end_time": "2020-05-11T09:13:59.022421Z",
     "start_time": "2020-05-11T09:13:52.668Z"
    }
   },
   "outputs": [],
   "source": [
    "viz_summary(results_stack, metric=\"Roc_AUC\")"
   ]
  },
  {
   "cell_type": "code",
   "execution_count": null,
   "metadata": {
    "ExecuteTime": {
     "end_time": "2020-05-11T09:13:59.024136Z",
     "start_time": "2020-05-11T09:13:52.675Z"
    }
   },
   "outputs": [],
   "source": [
    "# The Ensemble Vote Classifier(EVCLF) shows the highest performance (see Roc_AUC). \n",
    "# The Stacking Classifier showed the lowest."
   ]
  },
  {
   "cell_type": "markdown",
   "metadata": {
    "ExecuteTime": {
     "end_time": "2020-04-29T15:39:25.379270Z",
     "start_time": "2020-04-29T15:39:25.374744Z"
    }
   },
   "source": [
    "### Visualisation Top Model (EVCLF)"
   ]
  },
  {
   "cell_type": "markdown",
   "metadata": {},
   "source": [
    "###### Top Model (EVCLF)"
   ]
  },
  {
   "cell_type": "code",
   "execution_count": null,
   "metadata": {
    "ExecuteTime": {
     "end_time": "2020-05-11T09:13:59.026570Z",
     "start_time": "2020-05-11T09:13:52.687Z"
    }
   },
   "outputs": [],
   "source": [
    "# EVCLF Classification model is already instantiated\n",
    "\n",
    "# hide axes for better visualisation\n",
    "ax = plt.axes(frameon=False);\n",
    "\n",
    "# Instantiate the visualizer\n",
    "# 0 = CON (CONtrol Group), 1 = LCa (Lung Cancer), 2 = NTLD (Non-Tumour Lung-Disease)\n",
    "visualizer_rocauc = ROCAUC(EVCLF, \n",
    "                           classes=[\"CONtrol Group\", \"Lung Cancer\", \"Non-Tumour Lung-Disease\"], \n",
    "                           per_class=True)\n",
    "\n",
    "# Fit the model \n",
    "EVCLF.fit(X_tbc_top20, y_train)\n",
    "\n",
    "# Fit the training data to the visualizer\n",
    "visualizer_rocauc.fit(X_tbc_top20, y_train)\n",
    "\n",
    "# Evaluate the model on the test data\n",
    "visualizer_rocauc.score(X_tbc_top20_test, y_test)        \n",
    "\n",
    "# Finalize and render the figure\n",
    "visualizer_rocauc.show();\n",
    "plt.savefig('figures/roc_evclf', transparent=True, dpi=300);"
   ]
  },
  {
   "cell_type": "code",
   "execution_count": null,
   "metadata": {
    "ExecuteTime": {
     "end_time": "2020-05-11T09:13:59.029035Z",
     "start_time": "2020-05-11T09:13:52.695Z"
    }
   },
   "outputs": [],
   "source": [
    "# Instantiate the visualizer\n",
    "# 0 = CON (CONtrol Group), 1 = LCa (Lung Cancer), 2 = NTLD (Non-Tumour Lung-Disease)\n",
    "visualizer_cm = ConfusionMatrix(EVCLF,        \n",
    "                                classes=[\"CONtrol Group\", \"Lung Cancer\", \"Non-Tumour Lung-Disease\"],\n",
    "                                cmap= current_palette,\n",
    "                                fontsize=20)                                      \n",
    "\n",
    "# Fit the training data to the visualizer\n",
    "visualizer_cm.fit(X_tbc_top20, y_train)\n",
    "\n",
    "# Evaluate the model on the test data\n",
    "visualizer_cm.score(X_tbc_top20_test, y_test)\n",
    "\n",
    "# Finalize and render the figure\n",
    "visualizer_cm.show();\n",
    "plt.savefig('figures/confusion_evclf', transparent=True, dpi=300);"
   ]
  },
  {
   "cell_type": "code",
   "execution_count": null,
   "metadata": {
    "ExecuteTime": {
     "end_time": "2020-05-11T09:13:59.031584Z",
     "start_time": "2020-05-11T09:13:52.703Z"
    }
   },
   "outputs": [],
   "source": [
    "# Instantiate the classification model and visualizer\n",
    "# 0 = CON (CONtrol Group), 1 = LCa (Lung Cancer), 2 = NTLD (Non-Tumour Lung-Disease)\n",
    "visualizer_cpe = ClassPredictionError(EVCLF,        \n",
    "                                      classes=[\"CONtrol Group\", \"Lung Cancer\", \"Non-Tumour Lung-Disease\"])\n",
    "\n",
    "# Fit the training data to the visualizer\n",
    "visualizer_cpe.fit(X_tbc_top20, y_train)\n",
    "\n",
    "# Evaluate the model on the test data\n",
    "visualizer_cpe.score(X_tbc_top20_test, y_test)        \n",
    "\n",
    "# Finalize and render the figure\n",
    "visualizer_cpe.show();  \n",
    "plt.savefig('figures/prediction_error_evclf', transparent=True, dpi=300);"
   ]
  },
  {
   "cell_type": "markdown",
   "metadata": {
    "ExecuteTime": {
     "end_time": "2020-04-29T15:42:40.156184Z",
     "start_time": "2020-04-29T15:42:40.152530Z"
    }
   },
   "source": [
    "###### Baseline Model Dummy Classifier (DC)"
   ]
  },
  {
   "cell_type": "code",
   "execution_count": null,
   "metadata": {
    "ExecuteTime": {
     "end_time": "2020-05-11T09:13:59.033867Z",
     "start_time": "2020-05-11T09:13:52.711Z"
    }
   },
   "outputs": [],
   "source": [
    "# Instantiate the classification model \n",
    "dummy = DummyClassifier(random_state=seed) # The Dummy Classifier is used as Baseline Model\n",
    "\n",
    "# hide axes for better visualisation\n",
    "ax = plt.axes(frameon=False);\n",
    "\n",
    "# Instantiate the visualizer\n",
    "# 0 = CON (CONtrol Group), 1 = LCa (Lung Cancer), 2 = NTLD (Non-Tumour Lung-Disease)\n",
    "visualizer_rocauc = ROCAUC(dummy, \n",
    "                           classes=[\"CONtrol Group\", \"Lung Cancer\", \"Non-Tumour Lung-Disease\"], \n",
    "                           per_class=True)\n",
    "\n",
    "# Fit the model \n",
    "dummy.fit(X_tbc_top20, y_train)\n",
    "\n",
    "# Fit the training data to the visualizer\n",
    "visualizer_rocauc.fit(X_tbc_top20, y_train)\n",
    "\n",
    "# Evaluate the model on the test data\n",
    "visualizer_rocauc.score(X_tbc_top20_test, y_test)        \n",
    "\n",
    "# Finalize and render the figure\n",
    "visualizer_rocauc.show();      \n",
    "plt.savefig('figures/roc_dummy', transparent=True, dpi=300);"
   ]
  },
  {
   "cell_type": "code",
   "execution_count": null,
   "metadata": {
    "ExecuteTime": {
     "end_time": "2020-05-11T09:13:59.036328Z",
     "start_time": "2020-05-11T09:13:52.718Z"
    }
   },
   "outputs": [],
   "source": [
    "# hide axes for better visualisation\n",
    "ax = plt.axes(frameon=False)\n",
    "\n",
    "# Instantiate the visualizer\n",
    "# 0 = CON (CONtrol Group), 1 = LCa (Lung Cancer), 2 = NTLD (Non-Tumour Lung-Disease)\n",
    "\n",
    "# precisionRecallCurve is not possible for EVCLF (no decision_function attribute + multiclass)\n",
    "visualizer_pcc = PrecisionRecallCurve(dummy, \n",
    "                                      per_class=True, \n",
    "                                      classes=[\"CONtrol Group\", \"Lung Cancer\", \"Non-Tumour Lung-Disease\"], \n",
    "                                      iso_f1_curves=True,\n",
    "                                      fill_area=True,\n",
    "                                      micro=False,\n",
    "                                      fill_opacity=0.1,\n",
    "                                         ap_score=True)\n",
    "\n",
    "# Fit the training data to the visualizer\n",
    "visualizer_pcc.fit(X_tbc_top20, y_train)\n",
    "\n",
    "# Evaluate the model on the test data\n",
    "visualizer_pcc.score(X_tbc_top20_test, y_test)\n",
    "\n",
    "# Finalize and render the figure\n",
    "visualizer_pcc.show();\n",
    "plt.savefig('figures/precision_recall_dummy', transparent=True, dpi=300);"
   ]
  },
  {
   "cell_type": "code",
   "execution_count": null,
   "metadata": {
    "ExecuteTime": {
     "end_time": "2020-05-11T09:13:59.038539Z",
     "start_time": "2020-05-11T09:13:52.726Z"
    }
   },
   "outputs": [],
   "source": [
    "# Instantiate the visualizer\n",
    "# 0 = CON (CONtrol Group), 1 = LCa (Lung Cancer), 2 = NTLD (Non-Tumour Lung-Disease)\n",
    "visualizer_cm = ConfusionMatrix(dummy,        \n",
    "                                classes=[\"CONtrol Group\", \"Lung Cancer\", \"Non-Tumour Lung-Disease\"],\n",
    "                                cmap= current_palette,\n",
    "                                fontsize=20)                                      \n",
    "\n",
    "# Fit the training data to the visualizer\n",
    "visualizer_cm.fit(X_tbc_top20, y_train)\n",
    "\n",
    "# Evaluate the model on the test data\n",
    "visualizer_cm.score(X_tbc_top20_test, y_test)\n",
    "\n",
    "# Finalize and render the figure\n",
    "visualizer_cm.show();\n",
    "plt.savefig('figures/confusion_dummy', transparent=True, dpi=300);"
   ]
  },
  {
   "cell_type": "code",
   "execution_count": null,
   "metadata": {
    "ExecuteTime": {
     "end_time": "2020-05-11T09:13:59.040264Z",
     "start_time": "2020-05-11T09:13:52.733Z"
    }
   },
   "outputs": [],
   "source": [
    "# Instantiate the classification model and visualizer\n",
    "# 0 = CON (CONtrol Group), 1 = LCa (Lung Cancer), 2 = NTLD (Non-Tumour Lung-Disease)\n",
    "visualizer_cpe = ClassPredictionError(dummy,        \n",
    "                                      classes=[\"CONtrol Group\", \"Lung Cancer\", \"Non-Tumour Lung-Disease\"])\n",
    "\n",
    "# Fit the training data to the visualizer\n",
    "visualizer_cpe.fit(X_tbc_top20, y_train)\n",
    "\n",
    "# Evaluate the model on the test data\n",
    "visualizer_cpe.score(X_tbc_top20_test, y_test)        \n",
    "\n",
    "# Finalize and render the figure\n",
    "visualizer_cpe.show();\n",
    "plt.savefig('figures/prediction_error_dummy', transparent=True, dpi=300);"
   ]
  },
  {
   "cell_type": "markdown",
   "metadata": {},
   "source": [
    "### Feature Reduction (TOP14)"
   ]
  },
  {
   "cell_type": "code",
   "execution_count": null,
   "metadata": {
    "ExecuteTime": {
     "end_time": "2020-05-11T09:13:59.043416Z",
     "start_time": "2020-05-11T09:13:52.741Z"
    }
   },
   "outputs": [],
   "source": [
    "# As the intention was to find 10 to 20 miRNA for determination in which class a patient\n",
    "# belongs, I try to reduce the number of feature miRNAs as good as possible without loosing\n",
    "# to much performance of the model (focus on precision). This makes sense as with less feature miRNA on a final\n",
    "# test system could potentially save time and money."
   ]
  },
  {
   "cell_type": "code",
   "execution_count": null,
   "metadata": {
    "ExecuteTime": {
     "end_time": "2020-05-11T09:13:59.046304Z",
     "start_time": "2020-05-11T09:13:52.748Z"
    }
   },
   "outputs": [],
   "source": [
    "# because the stacked model doesn´t show a coef_ or feature_importances_ attribute\n",
    "# I will do the recursive feature elemination \"by hand\"\n",
    "# from Feature Selection I know the importance of my TOP20, so I will remove in order from the least\n",
    "# important to the most important feature and check the model preformance"
   ]
  },
  {
   "cell_type": "code",
   "execution_count": null,
   "metadata": {
    "ExecuteTime": {
     "end_time": "2020-05-11T09:13:59.049293Z",
     "start_time": "2020-05-11T09:13:52.755Z"
    }
   },
   "outputs": [],
   "source": [
    "%%capture\n",
    "\n",
    "# First create a list of Features from Feature Selection Results TBC\n",
    "feature_reduction = [feature_name[0] for feature_name in results_TBC[\"TBC\"]]\n",
    "\n",
    "# List with model used in Feature Reduction (Top Model)\n",
    "model_reduction = [EVCLF]\n",
    "\n",
    "# List for names of reduced dataframes\n",
    "name_reduce = [\"TOP20\", \n",
    "                  \"TOP19_hsa-let-7f-1-3p\", \n",
    "                  \"TOP18_hsa-miR-4281\",\n",
    "                  \"TOP17_hsa-miR-320c\",\n",
    "                  \"TOP16_hsa-miR-924\",\n",
    "                  \"TOP15_hsa-miR-4261\",\n",
    "                  \"TOP14_hsa-miR-1305\",\n",
    "                  \"TOP13_hsa-miR-3152-3p\",\n",
    "                  \"TOP12_hsa-miR-4258\",\n",
    "                  \"TOP11_hsa-miR-1255b-5p\",\n",
    "                  \"TOP10_hsa-let-7b-5p\"]\n",
    "\n",
    "# Create Dictionary for Reduction results\n",
    "results_reduction = {}\n",
    "\n",
    "# create list for used features (only for debugging)\n",
    "elim_features = []\n",
    "\n",
    "# use feature reduce function\n",
    "feature_reduce(results_reduction, model_reduction, name_reduce, feature_reduction, elim_features, X_train=X_train, y_train=y_train)"
   ]
  },
  {
   "cell_type": "markdown",
   "metadata": {},
   "source": [
    "#### Visualisation Feature Reduction"
   ]
  },
  {
   "cell_type": "code",
   "execution_count": null,
   "metadata": {
    "ExecuteTime": {
     "end_time": "2020-05-11T09:13:59.052731Z",
     "start_time": "2020-05-11T09:13:52.764Z"
    }
   },
   "outputs": [],
   "source": [
    "#create dataframe with results_reduction\n",
    "results_red = pd.DataFrame(results_reduction)\n",
    "results_red"
   ]
  },
  {
   "cell_type": "code",
   "execution_count": null,
   "metadata": {
    "ExecuteTime": {
     "end_time": "2020-05-11T09:13:59.055581Z",
     "start_time": "2020-05-11T09:13:52.772Z"
    }
   },
   "outputs": [],
   "source": [
    "# set height of bars for Model with reduced Features\n",
    "bars_heights_reduction = [results_red[\"TOP20\"]\n",
    "                            , results_red[\"TOP19_hsa-let-7f-1-3p\"]\n",
    "                            , results_red[\"TOP18_hsa-miR-4281\"]\n",
    "                            , results_red[\"TOP17_hsa-miR-320c\"]\n",
    "                            , results_red[\"TOP16_hsa-miR-924\"]\n",
    "                            , results_red[\"TOP15_hsa-miR-4261\"]\n",
    "                            , results_red[\"TOP14_hsa-miR-1305\"]\n",
    "                            , results_red[\"TOP13_hsa-miR-3152-3p\"]\n",
    "                            , results_red[\"TOP12_hsa-miR-4258\"]\n",
    "                            , results_red[\"TOP11_hsa-miR-1255b-5p\"]\n",
    "                            , results_red[\"TOP10_hsa-let-7b-5p\"]\n",
    "                         ]\n",
    "\n",
    "# name_reduce was created before\n",
    "\n",
    "# set size of figure\n",
    "plt.figure(figsize=(20,10));\n",
    "\n",
    "# use multibar_plot function to plot\n",
    "multibar_plot(bars_heights_reduction, name_reduce, name=labels_metric, title=\"Feature Reduction\", xlb=\"Model\", barWidth = 0.08)\n",
    "plt.savefig('figures/feature_reduction', transparent=True, dpi=300);"
   ]
  },
  {
   "cell_type": "code",
   "execution_count": null,
   "metadata": {
    "ExecuteTime": {
     "end_time": "2020-05-11T09:13:59.058871Z",
     "start_time": "2020-05-11T09:13:52.779Z"
    }
   },
   "outputs": [],
   "source": [
    "viz_summary(results_red, metric=\"Precision\")"
   ]
  },
  {
   "cell_type": "code",
   "execution_count": null,
   "metadata": {
    "ExecuteTime": {
     "end_time": "2020-05-11T09:13:59.061682Z",
     "start_time": "2020-05-11T09:13:52.787Z"
    }
   },
   "outputs": [],
   "source": [
    "#calculating Precision Difference between TOP20 and TOP14 in percent\n",
    "Precision_diff = (results_red[\"TOP20\"] - results_red[\"TOP14_hsa-miR-1305\"]).T.Precision\n",
    "print(\"Precision difference:\", round(Precision_diff*100, 3), \"%\")"
   ]
  },
  {
   "cell_type": "code",
   "execution_count": null,
   "metadata": {
    "ExecuteTime": {
     "end_time": "2020-05-11T09:13:59.063571Z",
     "start_time": "2020-05-11T09:13:52.795Z"
    }
   },
   "outputs": [],
   "source": [
    "# Looking at the results show that TOP14 has the third highest rank for\n",
    "# precision (Rank 9) with an loss in precision by 0.867% compared to the best\n",
    "# result (TOP20). I think this is a fair Trade-off between precision and number of features\n",
    "# Therefore I consider this as the optimum (not best) conditions for\n",
    "# the test"
   ]
  },
  {
   "cell_type": "code",
   "execution_count": null,
   "metadata": {
    "ExecuteTime": {
     "end_time": "2020-05-11T09:13:59.065572Z",
     "start_time": "2020-05-11T09:13:52.803Z"
    }
   },
   "outputs": [],
   "source": [
    "# Here is a critical point as I´ve chosen to manually remove the features\n",
    "# if something in the calculation changes and the ranking above is affected\n",
    "# the code doesn´t work from here on\n",
    "# Better would be to automatically choose a smaller dataset\n",
    "# but than the Trade-off has always be reconsidered (maybe not TOP14)\n",
    "\n",
    "# Creating a TOP14 List and dictionary (e.g. dataframe selection)\n",
    "TOP14 = feature_reduction.copy()\n",
    "\n",
    "to_be_removed = ['hsa-let-7f-1-3p', \n",
    "                 'hsa-miR-4281',\n",
    "                 'hsa-miR-320c',\n",
    "                 'hsa-miR-924',\n",
    "                 'hsa-miR-4261',\n",
    "                 'hsa-miR-1305'\n",
    "                ]\n",
    "\n",
    "for tbr in to_be_removed:\n",
    "    TOP14.remove(tbr)\n",
    "\n",
    "# adding Rank to create Tuple List\n",
    "TOP14_rank = list(zip(TOP14, list(range(1, 15))))\n",
    "\n",
    "TOP14_dict = {}\n",
    "TOP14_dict.update({\"TOP14\":TOP14_rank})"
   ]
  },
  {
   "cell_type": "markdown",
   "metadata": {
    "ExecuteTime": {
     "end_time": "2020-05-04T13:29:46.466300Z",
     "start_time": "2020-05-04T13:29:46.449751Z"
    }
   },
   "source": [
    "### Consideration of Annotation"
   ]
  },
  {
   "cell_type": "code",
   "execution_count": null,
   "metadata": {
    "ExecuteTime": {
     "end_time": "2020-05-11T09:13:59.068851Z",
     "start_time": "2020-05-11T09:13:52.811Z"
    }
   },
   "outputs": [],
   "source": [
    "# as last step I would like to check if I can improve the model by \n",
    "# considering the annotation.\n",
    "# The categorie \"Smoke\" seems not useful for this, as patients have to\n",
    "# be interviewed and answers are likely to be incorrect or misinterpreted.\n",
    "# \"Sex\" is something easily to be checked either a medical doctor states it\n",
    "# during the Liquid Biopsy or by detection of Y-chromosomal DNA.\n",
    "# \"Age\" is also something easily to be added during Liquid Biopsy from patients data.\n",
    "# Further it could be reasonable to check for age as miRNA are part of the human Epigenetics and these change with age.\n",
    "# For this reason I check the model for augmentation by age or sex or both."
   ]
  },
  {
   "cell_type": "code",
   "execution_count": null,
   "metadata": {
    "ExecuteTime": {
     "end_time": "2020-05-11T09:13:59.070758Z",
     "start_time": "2020-05-11T09:13:52.818Z"
    }
   },
   "outputs": [],
   "source": [
    "# include results for best Model with TOP20 and TOP14 to the results_anno dictionary!\n",
    "\n",
    "# get best Model Values\n",
    "EVCLF_TOP20 = dict(results_stack.get(\"EVCLF\"))\n",
    "EVCLF_TOP14 = results_reduction.get('TOP14_hsa-miR-1305')\n",
    "\n",
    "# Create Dictionary for Results of Annotation augmentation\n",
    "results_anno = {}\n",
    "\n",
    "# write best model values to the dictionary\n",
    "results_anno[\"EVCLF_TOP20\"] = EVCLF_TOP20\n",
    "results_anno[\"EVCLF_TOP14\"] = EVCLF_TOP14"
   ]
  },
  {
   "cell_type": "markdown",
   "metadata": {
    "ExecuteTime": {
     "end_time": "2020-05-08T17:43:37.797319Z",
     "start_time": "2020-05-08T17:43:37.793692Z"
    }
   },
   "source": [
    "#### Sex"
   ]
  },
  {
   "cell_type": "code",
   "execution_count": null,
   "metadata": {
    "ExecuteTime": {
     "end_time": "2020-05-11T09:13:59.073265Z",
     "start_time": "2020-05-11T09:13:52.826Z"
    }
   },
   "outputs": [],
   "source": [
    "# use dataframe_selection function for creating new dataframe with TOP20\n",
    "X_sex_top20 = dataframe_selection(results_TBC[\"TBC\"], X_train=X_sex_train)"
   ]
  },
  {
   "cell_type": "code",
   "execution_count": null,
   "metadata": {
    "ExecuteTime": {
     "end_time": "2020-05-11T09:13:59.075598Z",
     "start_time": "2020-05-11T09:13:52.833Z"
    }
   },
   "outputs": [],
   "source": [
    "# use dataframe_selection function for creating new dataframe with TOP14\n",
    "X_sex_top14 = dataframe_selection(TOP14_dict[\"TOP14\"], X_train=X_sex_train)"
   ]
  },
  {
   "cell_type": "code",
   "execution_count": null,
   "metadata": {
    "ExecuteTime": {
     "end_time": "2020-05-11T09:13:59.078069Z",
     "start_time": "2020-05-11T09:13:52.841Z"
    }
   },
   "outputs": [],
   "source": [
    "%%capture\n",
    "\n",
    "# List with model used (Top Model)\n",
    "Top_Model = [EVCLF]\n",
    "\n",
    "# List with model name\n",
    "Top_Model_name = [\"EVCLF_TOP20+SEX\"]\n",
    "\n",
    "# Use model_evaluation function with TOP20 Features Dataset (X_sex_top20, y_sex_train)\n",
    "model_evaluation(results_anno, Top_Model, Top_Model_name, X_sex_top20, y_sex_train)"
   ]
  },
  {
   "cell_type": "code",
   "execution_count": null,
   "metadata": {
    "ExecuteTime": {
     "end_time": "2020-05-11T09:13:59.080552Z",
     "start_time": "2020-05-11T09:13:52.848Z"
    }
   },
   "outputs": [],
   "source": [
    "%%capture\n",
    "\n",
    "# List with model name\n",
    "Top_Model_name = [\"EVCLF_TOP14+SEX\"]\n",
    "\n",
    "# Use model_evaluation function with TOP20 Features Dataset (X_sex_top20, y_sex_train)\n",
    "model_evaluation(results_anno, Top_Model, Top_Model_name, X_sex_top14, y_sex_train)"
   ]
  },
  {
   "cell_type": "code",
   "execution_count": null,
   "metadata": {
    "ExecuteTime": {
     "end_time": "2020-05-11T09:13:59.082887Z",
     "start_time": "2020-05-11T09:13:52.855Z"
    }
   },
   "outputs": [],
   "source": [
    "# Seems that Sex doesn´t improve the metrics"
   ]
  },
  {
   "cell_type": "markdown",
   "metadata": {
    "ExecuteTime": {
     "end_time": "2020-05-08T17:46:30.936714Z",
     "start_time": "2020-05-08T17:46:30.931467Z"
    }
   },
   "source": [
    "#### Age"
   ]
  },
  {
   "cell_type": "code",
   "execution_count": null,
   "metadata": {
    "ExecuteTime": {
     "end_time": "2020-05-11T09:13:59.085588Z",
     "start_time": "2020-05-11T09:13:52.863Z"
    }
   },
   "outputs": [],
   "source": [
    "# use dataframe_selection function for creating new dataframe with TOP20\n",
    "X_age_top20 = dataframe_selection(results_TBC[\"TBC\"], X_train=X_age_train)"
   ]
  },
  {
   "cell_type": "code",
   "execution_count": null,
   "metadata": {
    "ExecuteTime": {
     "end_time": "2020-05-11T09:13:59.088693Z",
     "start_time": "2020-05-11T09:13:52.870Z"
    }
   },
   "outputs": [],
   "source": [
    "# use dataframe_selection function for creating new dataframe with TOP14\n",
    "X_age_top14 = dataframe_selection(TOP14_dict[\"TOP14\"], X_train=X_age_train)"
   ]
  },
  {
   "cell_type": "code",
   "execution_count": null,
   "metadata": {
    "ExecuteTime": {
     "end_time": "2020-05-11T09:13:59.091829Z",
     "start_time": "2020-05-11T09:13:52.877Z"
    }
   },
   "outputs": [],
   "source": [
    "%%capture\n",
    "\n",
    "# List with model used (Top Model)\n",
    "Top_Model = [EVCLF]\n",
    "\n",
    "# List with model name\n",
    "Top_Model_name = [\"EVCLF_TOP20+AGE\"]\n",
    "\n",
    "# Use model_evaluation function with TOP20 Features Dataset (X_sex_top20, y_sex_train)\n",
    "model_evaluation(results_anno, Top_Model, Top_Model_name, X_age_top20, y_age_train)"
   ]
  },
  {
   "cell_type": "code",
   "execution_count": null,
   "metadata": {
    "ExecuteTime": {
     "end_time": "2020-05-11T09:13:59.094168Z",
     "start_time": "2020-05-11T09:13:52.884Z"
    }
   },
   "outputs": [],
   "source": [
    "%%capture\n",
    "\n",
    "# List with model name\n",
    "Top_Model_name = [\"EVCLF_TOP14+AGE\"]\n",
    "\n",
    "# Use model_evaluation function with TOP20 Features Dataset (X_sex_top20, y_sex_train)\n",
    "model_evaluation(results_anno, Top_Model, Top_Model_name, X_age_top14, y_age_train)"
   ]
  },
  {
   "cell_type": "code",
   "execution_count": null,
   "metadata": {
    "ExecuteTime": {
     "end_time": "2020-05-11T09:13:59.096703Z",
     "start_time": "2020-05-11T09:13:52.891Z"
    }
   },
   "outputs": [],
   "source": [
    "# Seems that Sex doesn´t improve the metrics"
   ]
  },
  {
   "cell_type": "markdown",
   "metadata": {
    "ExecuteTime": {
     "end_time": "2020-05-05T09:59:12.847588Z",
     "start_time": "2020-05-05T09:59:12.844298Z"
    }
   },
   "source": [
    "#### Sex + Age"
   ]
  },
  {
   "cell_type": "code",
   "execution_count": null,
   "metadata": {
    "ExecuteTime": {
     "end_time": "2020-05-11T09:13:59.098635Z",
     "start_time": "2020-05-11T09:13:52.900Z"
    }
   },
   "outputs": [],
   "source": [
    "# use dataframe_selection function for creating new dataframe with TOP20\n",
    "X_sexage_top20 = dataframe_selection(results_TBC[\"TBC\"], X_train=X_sexage_train)"
   ]
  },
  {
   "cell_type": "code",
   "execution_count": null,
   "metadata": {
    "ExecuteTime": {
     "end_time": "2020-05-11T09:13:59.100613Z",
     "start_time": "2020-05-11T09:13:52.907Z"
    }
   },
   "outputs": [],
   "source": [
    "# use dataframe_selection function for creating new dataframe with TOP14\n",
    "X_sexage_top14 = dataframe_selection(TOP14_dict[\"TOP14\"], X_train=X_sexage_train)"
   ]
  },
  {
   "cell_type": "code",
   "execution_count": null,
   "metadata": {
    "ExecuteTime": {
     "end_time": "2020-05-11T09:13:59.103819Z",
     "start_time": "2020-05-11T09:13:52.915Z"
    }
   },
   "outputs": [],
   "source": [
    "%%capture\n",
    "\n",
    "# List with model used (Top Model)\n",
    "Top_Model = [EVCLF]\n",
    "\n",
    "# List with model name\n",
    "Top_Model_name = [\"EVCLF_TOP20+SEX+AGE\"]\n",
    "\n",
    "# Use model_evaluation function with TOP20 Features Dataset (X_sex_top20, y_sex_train)\n",
    "model_evaluation(results_anno, Top_Model, Top_Model_name, X_sexage_top20, y_sexage_train)"
   ]
  },
  {
   "cell_type": "code",
   "execution_count": null,
   "metadata": {
    "ExecuteTime": {
     "end_time": "2020-05-11T09:13:59.105833Z",
     "start_time": "2020-05-11T09:13:52.922Z"
    }
   },
   "outputs": [],
   "source": [
    "%%capture\n",
    "\n",
    "# List with model name\n",
    "Top_Model_name = [\"EVCLF_TOP14+SEX+AGE\"]\n",
    "\n",
    "# Use model_evaluation function with TOP20 Features Dataset (X_sex_top20, y_sex_train)\n",
    "model_evaluation(results_anno, Top_Model, Top_Model_name, X_sexage_top14, y_sexage_train)"
   ]
  },
  {
   "cell_type": "code",
   "execution_count": null,
   "metadata": {
    "ExecuteTime": {
     "end_time": "2020-05-11T09:13:59.107165Z",
     "start_time": "2020-05-11T09:13:52.929Z"
    }
   },
   "outputs": [],
   "source": [
    "# nothing beats the best!"
   ]
  },
  {
   "cell_type": "markdown",
   "metadata": {
    "ExecuteTime": {
     "end_time": "2020-05-05T12:12:20.797215Z",
     "start_time": "2020-05-05T12:12:20.795000Z"
    }
   },
   "source": [
    "#### Smoke"
   ]
  },
  {
   "cell_type": "code",
   "execution_count": null,
   "metadata": {
    "ExecuteTime": {
     "end_time": "2020-05-11T09:13:59.108550Z",
     "start_time": "2020-05-11T09:13:52.937Z"
    }
   },
   "outputs": [],
   "source": [
    "# use dataframe_selection function for creating new dataframe with TOP20\n",
    "X_smoke_top20 = dataframe_selection(results_TBC[\"TBC\"], X_train=X_smoke_train)"
   ]
  },
  {
   "cell_type": "code",
   "execution_count": null,
   "metadata": {
    "ExecuteTime": {
     "end_time": "2020-05-11T09:13:59.110089Z",
     "start_time": "2020-05-11T09:13:52.944Z"
    }
   },
   "outputs": [],
   "source": [
    "# use dataframe_selection function for creating new dataframe with TOP14\n",
    "X_smoke_top14 = dataframe_selection(TOP14_dict[\"TOP14\"], X_train=X_smoke_train)"
   ]
  },
  {
   "cell_type": "code",
   "execution_count": null,
   "metadata": {
    "ExecuteTime": {
     "end_time": "2020-05-11T09:13:59.111689Z",
     "start_time": "2020-05-11T09:13:52.951Z"
    }
   },
   "outputs": [],
   "source": [
    "%%capture\n",
    "\n",
    "# List with model used (Top Model)\n",
    "Top_Model = [EVCLF]\n",
    "\n",
    "# List with model name\n",
    "Top_Model_name = [\"EVCLF_TOP20+SMOKE\"]\n",
    "\n",
    "# Use model_evaluation function with TOP20 Features Dataset (X_sex_top20, y_sex_train)\n",
    "model_evaluation(results_anno, Top_Model, Top_Model_name, X_smoke_top20, y_smoke_train)"
   ]
  },
  {
   "cell_type": "code",
   "execution_count": null,
   "metadata": {
    "ExecuteTime": {
     "end_time": "2020-05-11T09:13:59.113262Z",
     "start_time": "2020-05-11T09:13:52.958Z"
    }
   },
   "outputs": [],
   "source": [
    "%%capture\n",
    "\n",
    "# List with model name\n",
    "Top_Model_name = [\"EVCLF_TOP14+SMOKE\"]\n",
    "\n",
    "# Use model_evaluation function with TOP20 Features Dataset (X_sex_top20, y_sex_train)\n",
    "model_evaluation(results_anno, Top_Model, Top_Model_name, X_smoke_top14, y_smoke_train)"
   ]
  },
  {
   "cell_type": "code",
   "execution_count": null,
   "metadata": {
    "ExecuteTime": {
     "end_time": "2020-05-11T09:13:59.115479Z",
     "start_time": "2020-05-11T09:13:52.965Z"
    }
   },
   "outputs": [],
   "source": [
    "# nothing beats the top model"
   ]
  },
  {
   "cell_type": "markdown",
   "metadata": {
    "ExecuteTime": {
     "end_time": "2020-05-05T13:03:51.168077Z",
     "start_time": "2020-05-05T13:03:51.165101Z"
    }
   },
   "source": [
    "#### Visualisation of Consideration of Annotation"
   ]
  },
  {
   "cell_type": "code",
   "execution_count": null,
   "metadata": {
    "ExecuteTime": {
     "end_time": "2020-05-11T09:13:59.117529Z",
     "start_time": "2020-05-11T09:13:52.974Z"
    }
   },
   "outputs": [],
   "source": [
    "#create dataframe with results_anno\n",
    "results_an = pd.DataFrame(results_anno)\n",
    "results_an"
   ]
  },
  {
   "cell_type": "code",
   "execution_count": null,
   "metadata": {
    "ExecuteTime": {
     "end_time": "2020-05-11T09:13:59.119202Z",
     "start_time": "2020-05-11T09:13:52.981Z"
    }
   },
   "outputs": [],
   "source": [
    "#create Lists with Labels for Plotting\n",
    "labels_anno = [\"EVCLF_TOP20\",  \n",
    "              \"EVCLF_TOP14\",\n",
    "              \"EVCLF_TOP20+SEX\",\n",
    "              \"EVCLF_TOP14+SEX\",\n",
    "              \"EVCLF_TOP20+AGE\",\n",
    "              \"EVCLF_TOP14+AGE\",\n",
    "              \"EVCLF_TOP20+SEX+AGE\",\n",
    "              \"EVCLF_TOP14+SEX+AGE\",\n",
    "              \"EVCLF_TOP20+SMOKE\",\n",
    "              \"EVCLF_TOP14+SMOKE\"\n",
    "             ]"
   ]
  },
  {
   "cell_type": "code",
   "execution_count": null,
   "metadata": {
    "ExecuteTime": {
     "end_time": "2020-05-11T09:13:59.121142Z",
     "start_time": "2020-05-11T09:13:52.989Z"
    }
   },
   "outputs": [],
   "source": [
    "# set height of bars for Annotation Model\n",
    "bars_heights_anno = [results_an[\"EVCLF_TOP20\"]\n",
    "                            , results_an[\"EVCLF_TOP14\"]\n",
    "                            , results_an[\"EVCLF_TOP20+SEX\"]\n",
    "                            , results_an[\"EVCLF_TOP14+SEX\"]\n",
    "                            , results_an[\"EVCLF_TOP20+AGE\"]\n",
    "                            , results_an[\"EVCLF_TOP14+AGE\"]\n",
    "                            , results_an[\"EVCLF_TOP20+SEX+AGE\"]\n",
    "                            , results_an[\"EVCLF_TOP14+SEX+AGE\"]\n",
    "                            , results_an[\"EVCLF_TOP20+SMOKE\"]\n",
    "                            , results_an[\"EVCLF_TOP14+SMOKE\"]\n",
    "                         ]\n",
    "\n",
    "# set size of figure\n",
    "plt.figure(figsize=(20,10));\n",
    "\n",
    "# use multibar_plot function to plot\n",
    "multibar_plot(bars_heights_anno, labels_anno, name=labels_metric, title=\"Annotation\", xlb=\"Model\", barWidth = 0.08)\n",
    "plt.savefig('figures/consideration_annotation', transparent=True, dpi=300);"
   ]
  },
  {
   "cell_type": "code",
   "execution_count": null,
   "metadata": {
    "ExecuteTime": {
     "end_time": "2020-05-11T09:13:59.122694Z",
     "start_time": "2020-05-11T09:13:52.996Z"
    }
   },
   "outputs": [],
   "source": [
    "viz_summary(results_an, metric=\"Precision\")"
   ]
  },
  {
   "cell_type": "code",
   "execution_count": null,
   "metadata": {
    "ExecuteTime": {
     "end_time": "2020-05-11T09:13:59.123993Z",
     "start_time": "2020-05-11T09:13:53.003Z"
    }
   },
   "outputs": [],
   "source": [
    "# Finally it can be said clearly that annotation data doesn´t improve the model\n",
    "# So it´s not necessary to include it\n",
    "# This also solves the problem of missing values as for miRNA no values are missing"
   ]
  },
  {
   "cell_type": "markdown",
   "metadata": {},
   "source": [
    "### Model Evaluation"
   ]
  },
  {
   "cell_type": "code",
   "execution_count": null,
   "metadata": {
    "ExecuteTime": {
     "end_time": "2020-05-11T09:13:59.125532Z",
     "start_time": "2020-05-11T09:13:53.011Z"
    }
   },
   "outputs": [],
   "source": [
    "# Finally it´s necessary to evaluate the model with unseen data"
   ]
  },
  {
   "cell_type": "code",
   "execution_count": null,
   "metadata": {
    "ExecuteTime": {
     "end_time": "2020-05-11T09:13:59.127149Z",
     "start_time": "2020-05-11T09:13:53.019Z"
    }
   },
   "outputs": [],
   "source": [
    "# Again Select Features (for TOP20 and TOP14) from X_train\n",
    "\n",
    "# use dataframe_selection function for creating new dataframe with TOP20\n",
    "X_train_top20 = dataframe_selection(results_TBC[\"TBC\"], X_train=X_train)\n",
    "\n",
    "# use dataframe_selection function for creating new dataframe with TOP14\n",
    "X_train_top14 = dataframe_selection(TOP14_dict[\"TOP14\"], X_train=X_train)"
   ]
  },
  {
   "cell_type": "code",
   "execution_count": null,
   "metadata": {
    "ExecuteTime": {
     "end_time": "2020-05-11T09:13:59.128933Z",
     "start_time": "2020-05-11T09:13:53.026Z"
    }
   },
   "outputs": [],
   "source": [
    "# Select Features (for TOP20 and TOP14) from X_eval\n",
    "\n",
    "# use dataframe_selection function for creating new dataframe with TOP20\n",
    "X_eval_top20 = dataframe_selection(results_TBC[\"TBC\"], X_train=X_eval)\n",
    "\n",
    "# use dataframe_selection function for creating new dataframe with TOP14\n",
    "X_eval_top14 = dataframe_selection(TOP14_dict[\"TOP14\"], X_train=X_eval)"
   ]
  },
  {
   "cell_type": "markdown",
   "metadata": {},
   "source": [
    "#### Top Model (EVCLF)"
   ]
  },
  {
   "cell_type": "markdown",
   "metadata": {
    "ExecuteTime": {
     "end_time": "2020-05-07T10:00:52.516310Z",
     "start_time": "2020-05-07T10:00:52.502154Z"
    },
    "code_folding": []
   },
   "source": [
    "##### Top Model (EVCLF) + TOP20"
   ]
  },
  {
   "cell_type": "code",
   "execution_count": null,
   "metadata": {
    "ExecuteTime": {
     "end_time": "2020-05-11T09:13:59.130513Z",
     "start_time": "2020-05-11T09:13:53.036Z"
    }
   },
   "outputs": [],
   "source": [
    "# Final test with validation testset TOP20\n",
    "\n",
    "EVCLF_eval = EVCLF\n",
    "\n",
    "# Final Fit the model\n",
    "EVCLF_eval.fit(X_train_top20, y_train)\n",
    "\n",
    "y_final_top20 = EVCLF_eval.predict(X_eval_top20)\n",
    "\n",
    "tm20 = score_eval(y_eval, y_final_top20)"
   ]
  },
  {
   "cell_type": "markdown",
   "metadata": {
    "ExecuteTime": {
     "end_time": "2020-05-07T10:01:40.379896Z",
     "start_time": "2020-05-07T10:01:40.375540Z"
    },
    "code_folding": []
   },
   "source": [
    "##### Top Model (EVCLF) + TOP14"
   ]
  },
  {
   "cell_type": "code",
   "execution_count": null,
   "metadata": {
    "ExecuteTime": {
     "end_time": "2020-05-11T09:13:59.132178Z",
     "start_time": "2020-05-11T09:13:53.045Z"
    }
   },
   "outputs": [],
   "source": [
    "# Final test with validation testset TOP14\n",
    "\n",
    "# Final Fit the model\n",
    "EVCLF_eval.fit(X_train_top14, y_train)\n",
    "\n",
    "y_final_top14 = EVCLF_eval.predict(X_eval_top14)\n",
    "\n",
    "tm14 = score_eval(y_eval, y_final_top14)"
   ]
  },
  {
   "cell_type": "code",
   "execution_count": null,
   "metadata": {
    "ExecuteTime": {
     "end_time": "2020-05-11T09:13:59.133778Z",
     "start_time": "2020-05-11T09:13:53.053Z"
    }
   },
   "outputs": [],
   "source": [
    "# My Evaluation causes my model to underperform a lot (loss in precision by ~25%)\n",
    "\n",
    "# reason could be overfitting to much the training data"
   ]
  },
  {
   "cell_type": "markdown",
   "metadata": {
    "ExecuteTime": {
     "end_time": "2020-05-07T10:02:28.866375Z",
     "start_time": "2020-05-07T10:02:28.862652Z"
    }
   },
   "source": [
    "#### Baseline Model Dummy Classifier (DC)"
   ]
  },
  {
   "cell_type": "markdown",
   "metadata": {
    "ExecuteTime": {
     "end_time": "2020-05-07T10:04:38.698904Z",
     "start_time": "2020-05-07T10:04:38.695461Z"
    }
   },
   "source": [
    "##### Baseline Model Dummy Classifier (DC) + TOP20"
   ]
  },
  {
   "cell_type": "code",
   "execution_count": null,
   "metadata": {
    "ExecuteTime": {
     "end_time": "2020-05-11T09:13:59.135431Z",
     "start_time": "2020-05-11T09:13:53.063Z"
    }
   },
   "outputs": [],
   "source": [
    "# using the dummy to have a comparison value\n",
    "# Final test with validation testset TOP20 \n",
    "\n",
    "dummy_eval = DummyClassifier(random_state=seed) # The Dummy Classifier is used as Baseline Model\n",
    "\n",
    "\n",
    "# Final Fit the model\n",
    "dummy_eval.fit(X_train_top20, y_train)\n",
    "\n",
    "y_final_top20_dummy = dummy_eval.predict(X_eval_top20)\n",
    "\n",
    "dummy20 = score_eval(y_eval, y_final_top20_dummy)"
   ]
  },
  {
   "cell_type": "code",
   "execution_count": null,
   "metadata": {
    "ExecuteTime": {
     "end_time": "2020-05-11T09:13:59.136981Z",
     "start_time": "2020-05-11T09:13:53.070Z"
    }
   },
   "outputs": [],
   "source": [
    "# Calculation the difference in Precision Scores for TOP20\n",
    "# between Top Model and Dummy in percent\n",
    "\n",
    "precision_diff = tm20-dummy20\n",
    "print(\"The Difference in Precision Score (micro):\", precision_diff*100, \"%\")"
   ]
  },
  {
   "cell_type": "markdown",
   "metadata": {
    "ExecuteTime": {
     "end_time": "2020-05-07T10:01:40.379896Z",
     "start_time": "2020-05-07T10:01:40.375540Z"
    },
    "code_folding": []
   },
   "source": [
    "##### Baseline Model Dummy Classifier (DC) + TOP14"
   ]
  },
  {
   "cell_type": "code",
   "execution_count": null,
   "metadata": {
    "ExecuteTime": {
     "end_time": "2020-05-11T09:13:59.138749Z",
     "start_time": "2020-05-11T09:13:53.079Z"
    }
   },
   "outputs": [],
   "source": [
    "# Final test with validation testset TOP14\n",
    "\n",
    "# Final Fit the model\n",
    "dummy_eval.fit(X_train_top14, y_train)\n",
    "\n",
    "y_final_top14 = dummy_eval.predict(X_eval_top14)\n",
    "\n",
    "dummy14 = score_eval(y_eval, y_final_top14)"
   ]
  },
  {
   "cell_type": "code",
   "execution_count": null,
   "metadata": {
    "ExecuteTime": {
     "end_time": "2020-05-11T09:13:59.140296Z",
     "start_time": "2020-05-11T09:13:53.086Z"
    }
   },
   "outputs": [],
   "source": [
    "# Calculation the difference in Precision Scores for TOP14\n",
    "# between Top Model and Dummy in percent\n",
    "\n",
    "precision_diff = tm14-dummy14\n",
    "print(\"The Difference in Precision Score (micro):\", precision_diff*100, \"%\")"
   ]
  },
  {
   "cell_type": "markdown",
   "metadata": {
    "ExecuteTime": {
     "end_time": "2020-05-07T09:11:55.046415Z",
     "start_time": "2020-05-07T09:11:55.043765Z"
    }
   },
   "source": [
    "#### Visualisation Model Evaluation"
   ]
  },
  {
   "cell_type": "code",
   "execution_count": null,
   "metadata": {
    "ExecuteTime": {
     "end_time": "2020-05-11T09:13:59.141953Z",
     "start_time": "2020-05-11T09:13:53.095Z"
    }
   },
   "outputs": [],
   "source": [
    "# As both TOP20 and TOP14 show the same performance, there´s no need to use 20 miRNA"
   ]
  },
  {
   "cell_type": "code",
   "execution_count": null,
   "metadata": {
    "ExecuteTime": {
     "end_time": "2020-05-11T09:13:59.144790Z",
     "start_time": "2020-05-11T09:13:53.102Z"
    }
   },
   "outputs": [],
   "source": [
    "# to visualize the model evaluation I choose my best results vs. dummy"
   ]
  },
  {
   "cell_type": "markdown",
   "metadata": {},
   "source": [
    "##### Top Model (EVCLF) + TOP14"
   ]
  },
  {
   "cell_type": "code",
   "execution_count": null,
   "metadata": {
    "ExecuteTime": {
     "end_time": "2020-05-11T09:13:59.146533Z",
     "start_time": "2020-05-11T09:13:53.111Z"
    }
   },
   "outputs": [],
   "source": [
    "# EVCLF_eval Classification model is already instantiated\n",
    "\n",
    "# hide axes for better visualisation\n",
    "ax = plt.axes(frameon=False);\n",
    "\n",
    "# Instantiate the visualizer\n",
    "# 0 = CON (CONtrol Group), 1 = LCa (Lung Cancer), 2 = NTLD (Non-Tumour Lung-Disease)\n",
    "visualizer_rocauc = ROCAUC(EVCLF_eval, \n",
    "                           classes=[\"CONtrol Group\", \"Lung Cancer\", \"Non-Tumour Lung-Disease\"], \n",
    "                           per_class=True)\n",
    "\n",
    "# The model is already fitted to the data\n",
    "# Fit the training data to the visualizer\n",
    "visualizer_rocauc.fit(X_train_top14, y_train)\n",
    "\n",
    "# Evaluate the model on the test data\n",
    "visualizer_rocauc.score(X_eval_top14, y_eval)        \n",
    "\n",
    "# Finalize and render the figure\n",
    "visualizer_rocauc.show();    \n",
    "plt.savefig('figures/roc_final_evclf', transparent=True, dpi=300);"
   ]
  },
  {
   "cell_type": "code",
   "execution_count": null,
   "metadata": {
    "ExecuteTime": {
     "end_time": "2020-05-11T09:13:59.148303Z",
     "start_time": "2020-05-11T09:13:53.118Z"
    }
   },
   "outputs": [],
   "source": [
    "# Instantiate the visualizer\n",
    "# 0 = CON (CONtrol Group), 1 = LCa (Lung Cancer), 2 = NTLD (Non-Tumour Lung-Disease)\n",
    "visualizer_cm = ConfusionMatrix(EVCLF_eval,        \n",
    "                                classes=[\"CONtrol Group\", \"Lung Cancer\", \"Non-Tumour Lung-Disease\"],\n",
    "                                cmap= current_palette,\n",
    "                                fontsize=20)                                      \n",
    "\n",
    "# Fit the training data to the visualizer\n",
    "visualizer_cm.fit(X_train_top14, y_train)\n",
    "\n",
    "# Evaluate the model on the test data\n",
    "visualizer_cm.score(X_eval_top14, y_eval)\n",
    "\n",
    "# Finalize and render the figure\n",
    "visualizer_cm.show();\n",
    "plt.savefig('figures/confusion_final_evclf', transparent=True, dpi=300);"
   ]
  },
  {
   "cell_type": "code",
   "execution_count": null,
   "metadata": {
    "ExecuteTime": {
     "end_time": "2020-05-11T09:13:59.150142Z",
     "start_time": "2020-05-11T09:13:53.126Z"
    }
   },
   "outputs": [],
   "source": [
    "# Instantiate the classification model and visualizer\n",
    "# 0 = CON (CONtrol Group), 1 = LCa (Lung Cancer), 2 = NTLD (Non-Tumour Lung-Disease)\n",
    "visualizer_cpe = ClassPredictionError(EVCLF_eval,        \n",
    "                                      classes=[\"CONtrol Group\", \"Lung Cancer\", \"Non-Tumour Lung-Disease\"])\n",
    "\n",
    "# Fit the training data to the visualizer\n",
    "visualizer_cpe.fit(X_train_top14, y_train)\n",
    "\n",
    "# Evaluate the model on the test data\n",
    "visualizer_cpe.score(X_eval_top14, y_eval)        \n",
    "\n",
    "# Finalize and render the figure\n",
    "visualizer_cpe.show();\n",
    "plt.savefig('figures/prediction_error_final_evclf', transparent=True, dpi=300);"
   ]
  },
  {
   "cell_type": "code",
   "execution_count": null,
   "metadata": {
    "ExecuteTime": {
     "end_time": "2020-05-11T09:13:59.151833Z",
     "start_time": "2020-05-11T09:13:53.134Z"
    }
   },
   "outputs": [],
   "source": [
    "# From 9 Lung Cancer cases, 4 get correctly classified, 3 are classified as CONtrol Group\n",
    "# and 2 are classified as Non-Tumour Lung-Disease\n",
    "# This means those with the NTLD have still the chance to be recognized as Cancer from a medical doctor during further examination\n",
    "# but the 3 in the CONtrol group are lost in the screening \n",
    "\n",
    "# 3 from 13 in the control group are classified as Lung Cancer (not very precise)\n",
    "# which causes unnecessary anxieties, but NTLD hasn´t to be checked\n",
    "\n",
    "# 3 from 8 of NTLD cases are classified as Lung Cancer, but 0 as CONtrol,\n",
    "# luckily all of them would be checked and won´t get lost in the screening"
   ]
  },
  {
   "cell_type": "markdown",
   "metadata": {},
   "source": [
    "##### Baseline Model Dummy Classifier (DC) + TOP14"
   ]
  },
  {
   "cell_type": "code",
   "execution_count": null,
   "metadata": {
    "ExecuteTime": {
     "end_time": "2020-05-11T09:13:59.155092Z",
     "start_time": "2020-05-11T09:13:53.142Z"
    }
   },
   "outputs": [],
   "source": [
    "# dummy_eval Classification model is already instantiated\n",
    "\n",
    "# hide axes for better visualisation\n",
    "ax = plt.axes(frameon=False);\n",
    "\n",
    "# Instantiate the visualizer\n",
    "# 0 = CON (CONtrol Group), 1 = LCa (Lung Cancer), 2 = NTLD (Non-Tumour Lung-Disease)\n",
    "visualizer_rocauc = ROCAUC(dummy_eval, \n",
    "                           classes=[\"CONtrol Group\", \"Lung Cancer\", \"Non-Tumour Lung-Disease\"], \n",
    "                           per_class=True)\n",
    "\n",
    "# The model is already fitted to the data\n",
    "# Fit the training data to the visualizer\n",
    "visualizer_rocauc.fit(X_train_top14, y_train)\n",
    "\n",
    "# Evaluate the model on the test data\n",
    "visualizer_rocauc.score(X_eval_top14, y_eval)        \n",
    "\n",
    "# Finalize and render the figure\n",
    "visualizer_rocauc.show();\n",
    "plt.savefig('figures/roc_final_dummy', transparent=True, dpi=300);"
   ]
  },
  {
   "cell_type": "code",
   "execution_count": null,
   "metadata": {
    "ExecuteTime": {
     "end_time": "2020-05-11T09:13:59.156766Z",
     "start_time": "2020-05-11T09:13:53.149Z"
    }
   },
   "outputs": [],
   "source": [
    "# Instantiate the visualizer\n",
    "# 0 = CON (CONtrol Group), 1 = LCa (Lung Cancer), 2 = NTLD (Non-Tumour Lung-Disease)\n",
    "visualizer_cm = ConfusionMatrix(dummy_eval,        \n",
    "                                classes=[\"CONtrol Group\", \"Lung Cancer\", \"Non-Tumour Lung-Disease\"],\n",
    "                                cmap=current_palette,\n",
    "                                fontsize=20)                                      \n",
    "\n",
    "# Fit the training data to the visualizer\n",
    "visualizer_cm.fit(X_train_top14, y_train)\n",
    "\n",
    "# Evaluate the model on the test data\n",
    "visualizer_cm.score(X_eval_top14, y_eval)\n",
    "\n",
    "# Finalize and render the figure\n",
    "visualizer_cm.show();\n",
    "plt.savefig('figures/confusion_final_dummy', transparent=True, dpi=300);"
   ]
  },
  {
   "cell_type": "code",
   "execution_count": null,
   "metadata": {
    "ExecuteTime": {
     "end_time": "2020-05-11T09:13:59.158384Z",
     "start_time": "2020-05-11T09:13:53.157Z"
    }
   },
   "outputs": [],
   "source": [
    "# Instantiate the classification model and visualizer\n",
    "# 0 = CON (CONtrol Group), 1 = LCa (Lung Cancer), 2 = NTLD (Non-Tumour Lung-Disease)\n",
    "visualizer_cpe = ClassPredictionError(dummy_eval,        \n",
    "                                      classes=[\"CONtrol Group\", \"Lung Cancer\", \"Non-Tumour Lung-Disease\"])\n",
    "\n",
    "# Fit the training data to the visualizer\n",
    "visualizer_cpe.fit(X_train_top14, y_train)\n",
    "\n",
    "# Evaluate the model on the test data\n",
    "visualizer_cpe.score(X_eval_top14, y_eval)        \n",
    "\n",
    "# Finalize and render the figure\n",
    "visualizer_cpe.show();\n",
    "plt.savefig('figures/prediction_error_final_dummy', transparent=True, dpi=300);"
   ]
  },
  {
   "cell_type": "markdown",
   "metadata": {
    "ExecuteTime": {
     "end_time": "2020-05-05T13:45:32.018110Z",
     "start_time": "2020-05-05T13:45:32.014077Z"
    }
   },
   "source": [
    "## Visualisation"
   ]
  },
  {
   "cell_type": "markdown",
   "metadata": {
    "ExecuteTime": {
     "end_time": "2020-05-05T14:06:57.637772Z",
     "start_time": "2020-05-05T14:06:57.632682Z"
    }
   },
   "source": [
    "### Correlation Heatmap"
   ]
  },
  {
   "cell_type": "code",
   "execution_count": null,
   "metadata": {
    "ExecuteTime": {
     "end_time": "2020-05-11T09:13:59.160431Z",
     "start_time": "2020-05-11T09:13:53.167Z"
    }
   },
   "outputs": [],
   "source": [
    "# To visualize correlation in the TOP14 miRNA panel and the predicted labels"
   ]
  },
  {
   "cell_type": "code",
   "execution_count": null,
   "metadata": {
    "ExecuteTime": {
     "end_time": "2020-05-11T09:13:59.162076Z",
     "start_time": "2020-05-11T09:13:53.174Z"
    }
   },
   "outputs": [],
   "source": [
    "# first create a Dataframe for correlation analysis\n",
    "df_corr = df4.copy()"
   ]
  },
  {
   "cell_type": "code",
   "execution_count": null,
   "metadata": {
    "ExecuteTime": {
     "end_time": "2020-05-11T09:13:59.163933Z",
     "start_time": "2020-05-11T09:13:53.181Z"
    }
   },
   "outputs": [],
   "source": [
    "# for better correlation I need to convert my categorical labels to dummy variable (don´t drop first)\n",
    "# this means one column for each label\n",
    "# 0 = CON (CONtrol Group), 1 = LCa (Lung Cancer), 2 = NTLD (Non-Tumour Lung-Disease)\n",
    "\n",
    "label_dummies = pd.get_dummies(df_corr.Label, drop_first=False)\n",
    "\n",
    "# for convinience and nicer pictures rename columns\n",
    "label_dummies = label_dummies.rename(columns={0:\"CONtrol Group\"})\n",
    "label_dummies = label_dummies.rename(columns={1:\"Lung Cancer\"})\n",
    "label_dummies = label_dummies.rename(columns={2:\"Non-Tumour Lung-Disease\"})\n",
    "\n",
    "\n",
    "\n",
    "# Then Create TOP14 Features and use dataframe_selection function for creating new dataframe with TOP14 from initial dataframe\n",
    "corr_top14 = dataframe_selection(TOP14_dict[\"TOP14\"], X_train=df_corr)\n",
    "\n",
    "# Then merge datasets\n",
    "corr_top14_merge = pd.concat([corr_top14, label_dummies], axis=1)\n"
   ]
  },
  {
   "cell_type": "code",
   "execution_count": null,
   "metadata": {
    "ExecuteTime": {
     "end_time": "2020-05-11T09:13:59.165293Z",
     "start_time": "2020-05-11T09:13:53.189Z"
    }
   },
   "outputs": [],
   "source": [
    "# here we can see which miRNA is positiv are negative correlated with a label\n",
    "# or an other miRNA"
   ]
  },
  {
   "cell_type": "code",
   "execution_count": null,
   "metadata": {
    "ExecuteTime": {
     "end_time": "2020-05-11T09:13:59.167043Z",
     "start_time": "2020-05-11T09:13:53.196Z"
    }
   },
   "outputs": [],
   "source": [
    "# Correlate features\n",
    "correlation_TOP14 = corr_top14_merge.corr()\n",
    "\n",
    "# and use heatmap function\n",
    "heatmap(correlation_TOP14, name_savefig=\"figures/heatmap_top14\", cmap=vintage);"
   ]
  },
  {
   "cell_type": "code",
   "execution_count": null,
   "metadata": {
    "ExecuteTime": {
     "end_time": "2020-05-11T09:13:59.168923Z",
     "start_time": "2020-05-11T09:13:53.203Z"
    }
   },
   "outputs": [],
   "source": [
    "# Check for Label details\n",
    "heatmap_LCa = correlation_TOP14[['Lung Cancer']].sort_values(by=['Lung Cancer'],ascending=False)\n",
    "                                                       \n",
    "heatmap(heatmap_LCa, name_savefig=\"figures/heatmap_LCa\", cmap=vintage)                                                   "
   ]
  },
  {
   "cell_type": "code",
   "execution_count": null,
   "metadata": {
    "ExecuteTime": {
     "end_time": "2020-05-11T09:13:59.170899Z",
     "start_time": "2020-05-11T09:13:53.211Z"
    }
   },
   "outputs": [],
   "source": [
    "# Check for Label details\n",
    "heatmap_NTLD = correlation_TOP14[['Non-Tumour Lung-Disease']].sort_values(by=['Non-Tumour Lung-Disease'],ascending=False)\n",
    "                                                       \n",
    "heatmap(heatmap_NTLD, name_savefig=\"figures/heatmap_NTLD\", cmap=vintage)                                                   "
   ]
  },
  {
   "cell_type": "code",
   "execution_count": null,
   "metadata": {
    "ExecuteTime": {
     "end_time": "2020-05-11T09:13:59.173027Z",
     "start_time": "2020-05-11T09:13:53.218Z"
    }
   },
   "outputs": [],
   "source": [
    "# Check for Label details\n",
    "heatmap_CON = correlation_TOP14[['CONtrol Group']].sort_values(by=['CONtrol Group'],ascending=False)\n",
    "                                                       \n",
    "heatmap(heatmap_CON, name_savefig=\"figures/heatmap_CON\", cmap=vintage)                                                   "
   ]
  },
  {
   "cell_type": "markdown",
   "metadata": {},
   "source": [
    "## Conclusion and Future Work"
   ]
  },
  {
   "cell_type": "code",
   "execution_count": null,
   "metadata": {},
   "outputs": [],
   "source": []
  }
 ],
 "metadata": {
  "kernelspec": {
   "display_name": "Python 3",
   "language": "python",
   "name": "python3"
  },
  "language_info": {
   "codemirror_mode": {
    "name": "ipython",
    "version": 3
   },
   "file_extension": ".py",
   "mimetype": "text/x-python",
   "name": "python",
   "nbconvert_exporter": "python",
   "pygments_lexer": "ipython3",
   "version": "3.7.6"
  },
  "toc": {
   "base_numbering": "1",
   "nav_menu": {},
   "number_sections": true,
   "sideBar": true,
   "skip_h1_title": true,
   "title_cell": "Table of Contents",
   "title_sidebar": "Contents",
   "toc_cell": false,
   "toc_position": {
    "height": "444px",
    "left": "479px",
    "top": "218px",
    "width": "515px"
   },
   "toc_section_display": true,
   "toc_window_display": false
  },
  "varInspector": {
   "cols": {
    "lenName": 16,
    "lenType": 16,
    "lenVar": 40
   },
   "kernels_config": {
    "python": {
     "delete_cmd_postfix": "",
     "delete_cmd_prefix": "del ",
     "library": "var_list.py",
     "varRefreshCmd": "print(var_dic_list())"
    },
    "r": {
     "delete_cmd_postfix": ") ",
     "delete_cmd_prefix": "rm(",
     "library": "var_list.r",
     "varRefreshCmd": "cat(var_dic_list()) "
    }
   },
   "position": {
    "height": "508px",
    "left": "465px",
    "right": "20px",
    "top": "30px",
    "width": "755px"
   },
   "types_to_exclude": [
    "module",
    "function",
    "builtin_function_or_method",
    "instance",
    "_Feature"
   ],
   "window_display": false
  }
 },
 "nbformat": 4,
 "nbformat_minor": 4
}
